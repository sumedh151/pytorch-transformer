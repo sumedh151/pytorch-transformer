{
 "cells": [
  {
   "cell_type": "markdown",
   "metadata": {
    "colab_type": "text",
    "id": "view-in-github"
   },
   "source": [
    "<a href=\"https://colab.research.google.com/github/sumedh151/pytorch-transformer/blob/main/run_py.ipynb\" target=\"_parent\"><img src=\"https://colab.research.google.com/assets/colab-badge.svg\" alt=\"Open In Colab\"/></a>"
   ]
  },
  {
   "cell_type": "code",
   "execution_count": null,
   "metadata": {
    "id": "HKDzbQizKi3S"
   },
   "outputs": [],
   "source": [
    "# !python /content/drive/MyDrive/Colab\\ Notebooks/attention\\ is\\ all\\ you\\ need/main.py"
   ]
  },
  {
   "cell_type": "code",
   "execution_count": null,
   "metadata": {
    "colab": {
     "base_uri": "https://localhost:8080/"
    },
    "id": "as8WCnkvKdhj",
    "outputId": "82a7e0dc-675f-42e2-d0d7-a218bfb97267"
   },
   "outputs": [
    {
     "name": "stdout",
     "output_type": "stream",
     "text": [
      "Collecting datasets\n",
      "  Downloading datasets-2.20.0-py3-none-any.whl (547 kB)\n",
      "\u001b[2K     \u001b[90m━━━━━━━━━━━━━━━━━━━━━━━━━━━━━━━━━━━━━━━━\u001b[0m \u001b[32m547.8/547.8 kB\u001b[0m \u001b[31m4.7 MB/s\u001b[0m eta \u001b[36m0:00:00\u001b[0m\n",
      "\u001b[?25hRequirement already satisfied: filelock in /usr/local/lib/python3.10/dist-packages (from datasets) (3.15.1)\n",
      "Requirement already satisfied: numpy>=1.17 in /usr/local/lib/python3.10/dist-packages (from datasets) (1.25.2)\n",
      "Collecting pyarrow>=15.0.0 (from datasets)\n",
      "  Downloading pyarrow-16.1.0-cp310-cp310-manylinux_2_28_x86_64.whl (40.8 MB)\n",
      "\u001b[2K     \u001b[90m━━━━━━━━━━━━━━━━━━━━━━━━━━━━━━━━━━━━━━━━\u001b[0m \u001b[32m40.8/40.8 MB\u001b[0m \u001b[31m15.5 MB/s\u001b[0m eta \u001b[36m0:00:00\u001b[0m\n",
      "\u001b[?25hRequirement already satisfied: pyarrow-hotfix in /usr/local/lib/python3.10/dist-packages (from datasets) (0.6)\n",
      "Collecting dill<0.3.9,>=0.3.0 (from datasets)\n",
      "  Downloading dill-0.3.8-py3-none-any.whl (116 kB)\n",
      "\u001b[2K     \u001b[90m━━━━━━━━━━━━━━━━━━━━━━━━━━━━━━━━━━━━━━━━\u001b[0m \u001b[32m116.3/116.3 kB\u001b[0m \u001b[31m10.7 MB/s\u001b[0m eta \u001b[36m0:00:00\u001b[0m\n",
      "\u001b[?25hRequirement already satisfied: pandas in /usr/local/lib/python3.10/dist-packages (from datasets) (2.0.3)\n",
      "Collecting requests>=2.32.2 (from datasets)\n",
      "  Downloading requests-2.32.3-py3-none-any.whl (64 kB)\n",
      "\u001b[2K     \u001b[90m━━━━━━━━━━━━━━━━━━━━━━━━━━━━━━━━━━━━━━━━\u001b[0m \u001b[32m64.9/64.9 kB\u001b[0m \u001b[31m4.5 MB/s\u001b[0m eta \u001b[36m0:00:00\u001b[0m\n",
      "\u001b[?25hRequirement already satisfied: tqdm>=4.66.3 in /usr/local/lib/python3.10/dist-packages (from datasets) (4.66.4)\n",
      "Collecting xxhash (from datasets)\n",
      "  Downloading xxhash-3.4.1-cp310-cp310-manylinux_2_17_x86_64.manylinux2014_x86_64.whl (194 kB)\n",
      "\u001b[2K     \u001b[90m━━━━━━━━━━━━━━━━━━━━━━━━━━━━━━━━━━━━━━━━\u001b[0m \u001b[32m194.1/194.1 kB\u001b[0m \u001b[31m20.9 MB/s\u001b[0m eta \u001b[36m0:00:00\u001b[0m\n",
      "\u001b[?25hCollecting multiprocess (from datasets)\n",
      "  Downloading multiprocess-0.70.16-py310-none-any.whl (134 kB)\n",
      "\u001b[2K     \u001b[90m━━━━━━━━━━━━━━━━━━━━━━━━━━━━━━━━━━━━━━━━\u001b[0m \u001b[32m134.8/134.8 kB\u001b[0m \u001b[31m15.9 MB/s\u001b[0m eta \u001b[36m0:00:00\u001b[0m\n",
      "\u001b[?25hRequirement already satisfied: fsspec[http]<=2024.5.0,>=2023.1.0 in /usr/local/lib/python3.10/dist-packages (from datasets) (2023.6.0)\n",
      "Requirement already satisfied: aiohttp in /usr/local/lib/python3.10/dist-packages (from datasets) (3.9.5)\n",
      "Requirement already satisfied: huggingface-hub>=0.21.2 in /usr/local/lib/python3.10/dist-packages (from datasets) (0.23.4)\n",
      "Requirement already satisfied: packaging in /usr/local/lib/python3.10/dist-packages (from datasets) (24.1)\n",
      "Requirement already satisfied: pyyaml>=5.1 in /usr/local/lib/python3.10/dist-packages (from datasets) (6.0.1)\n",
      "Requirement already satisfied: aiosignal>=1.1.2 in /usr/local/lib/python3.10/dist-packages (from aiohttp->datasets) (1.3.1)\n",
      "Requirement already satisfied: attrs>=17.3.0 in /usr/local/lib/python3.10/dist-packages (from aiohttp->datasets) (23.2.0)\n",
      "Requirement already satisfied: frozenlist>=1.1.1 in /usr/local/lib/python3.10/dist-packages (from aiohttp->datasets) (1.4.1)\n",
      "Requirement already satisfied: multidict<7.0,>=4.5 in /usr/local/lib/python3.10/dist-packages (from aiohttp->datasets) (6.0.5)\n",
      "Requirement already satisfied: yarl<2.0,>=1.0 in /usr/local/lib/python3.10/dist-packages (from aiohttp->datasets) (1.9.4)\n",
      "Requirement already satisfied: async-timeout<5.0,>=4.0 in /usr/local/lib/python3.10/dist-packages (from aiohttp->datasets) (4.0.3)\n",
      "Requirement already satisfied: typing-extensions>=3.7.4.3 in /usr/local/lib/python3.10/dist-packages (from huggingface-hub>=0.21.2->datasets) (4.12.2)\n",
      "Requirement already satisfied: charset-normalizer<4,>=2 in /usr/local/lib/python3.10/dist-packages (from requests>=2.32.2->datasets) (3.3.2)\n",
      "Requirement already satisfied: idna<4,>=2.5 in /usr/local/lib/python3.10/dist-packages (from requests>=2.32.2->datasets) (3.7)\n",
      "Requirement already satisfied: urllib3<3,>=1.21.1 in /usr/local/lib/python3.10/dist-packages (from requests>=2.32.2->datasets) (2.0.7)\n",
      "Requirement already satisfied: certifi>=2017.4.17 in /usr/local/lib/python3.10/dist-packages (from requests>=2.32.2->datasets) (2024.6.2)\n",
      "Requirement already satisfied: python-dateutil>=2.8.2 in /usr/local/lib/python3.10/dist-packages (from pandas->datasets) (2.8.2)\n",
      "Requirement already satisfied: pytz>=2020.1 in /usr/local/lib/python3.10/dist-packages (from pandas->datasets) (2023.4)\n",
      "Requirement already satisfied: tzdata>=2022.1 in /usr/local/lib/python3.10/dist-packages (from pandas->datasets) (2024.1)\n",
      "Requirement already satisfied: six>=1.5 in /usr/local/lib/python3.10/dist-packages (from python-dateutil>=2.8.2->pandas->datasets) (1.16.0)\n",
      "Installing collected packages: xxhash, requests, pyarrow, dill, multiprocess, datasets\n",
      "  Attempting uninstall: requests\n",
      "    Found existing installation: requests 2.31.0\n",
      "    Uninstalling requests-2.31.0:\n",
      "      Successfully uninstalled requests-2.31.0\n",
      "  Attempting uninstall: pyarrow\n",
      "    Found existing installation: pyarrow 14.0.2\n",
      "    Uninstalling pyarrow-14.0.2:\n",
      "      Successfully uninstalled pyarrow-14.0.2\n",
      "\u001b[31mERROR: pip's dependency resolver does not currently take into account all the packages that are installed. This behaviour is the source of the following dependency conflicts.\n",
      "cudf-cu12 24.4.1 requires pyarrow<15.0.0a0,>=14.0.1, but you have pyarrow 16.1.0 which is incompatible.\n",
      "google-colab 1.0.0 requires requests==2.31.0, but you have requests 2.32.3 which is incompatible.\n",
      "ibis-framework 8.0.0 requires pyarrow<16,>=2, but you have pyarrow 16.1.0 which is incompatible.\u001b[0m\u001b[31m\n",
      "\u001b[0mSuccessfully installed datasets-2.20.0 dill-0.3.8 multiprocess-0.70.16 pyarrow-16.1.0 requests-2.32.3 xxhash-3.4.1\n"
     ]
    }
   ],
   "source": [
    "!pip install datasets"
   ]
  },
  {
   "cell_type": "code",
   "execution_count": 5,
   "metadata": {
    "id": "QhJ7LBCB2SCr"
   },
   "outputs": [
    {
     "name": "stderr",
     "output_type": "stream",
     "text": [
      "C:\\Users\\sghavat\\Downloads\\work\\git\\pytorch-transformer\\pytorch-transformer_venv\\Lib\\site-packages\\tqdm\\auto.py:21: TqdmWarning: IProgress not found. Please update jupyter and ipywidgets. See https://ipywidgets.readthedocs.io/en/stable/user_install.html\n",
      "  from .autonotebook import tqdm as notebook_tqdm\n"
     ]
    }
   ],
   "source": [
    "# https://www.youtube.com/watch?v=ISNdQcPhsts\n",
    "\n",
    "import torch\n",
    "import torch.nn as nn\n",
    "import math\n",
    "# from config import config\n",
    "from datasets import load_dataset\n",
    "from tokenizers import Tokenizer\n",
    "from tokenizers.models import BPE\n",
    "from torch.utils.data import Dataset, DataLoader\n",
    "\n",
    "import numpy as np"
   ]
  },
  {
   "cell_type": "code",
   "execution_count": 3,
   "metadata": {
    "colab": {
     "base_uri": "https://localhost:8080/",
     "height": 425,
     "referenced_widgets": [
      "f7593aa3d86b4855a8016ce8a20a02fd",
      "816082ff16de4092a5da888f3408c72e",
      "71a181a4ec854518b9a4ecc3c577d6c1",
      "06e381b8f78f4777a8eccfa107e9e717",
      "d47dd6b148e740bfa33ecc1ff8f2e9b3",
      "9e06c32606b2411384d9c180d283f775",
      "6cac1ebc0e344ffbbee5b48b7295cb33",
      "71174e69a2bd44a282bf9d9a0706cf7d",
      "af375d9c64bb4638a07c0e9869c694b9",
      "a85ec585a82741488045612d8b136375",
      "af65180b12e145a09cff0aaf54cfe0d5",
      "f63379705c5d4132aa693f34fef7a3c5",
      "4f111e7eb7624ef290947e5e20037ea8",
      "34210d42157049a88c5935e03c8eb36a",
      "41145271c64e4761ab25e32ce970f199",
      "e786e99ee4b04db7bdfe30cc1c42b34e",
      "0e0a58640fec4d498a4ebc423007f4f7",
      "31158538fdbc412da1da716fbf1ec483",
      "4cd79a3c04374caf99831f26af1c0cbc",
      "3874a044a3e24bc5a8549d47c3417584",
      "3ba9a6b984d14c19afaedc93f564cfdd",
      "71fd0bb1314d4b1d810e42780470a93f",
      "7b82025b6dec4bd5ad1597eaebfc5ce4",
      "217eb0b5226e414490ff14ed0b1002c7",
      "d7d91d340d9747e1b7c78a89f53902a9",
      "ef63edc928f74edc870cd5f389761b61",
      "6ebd53b27e5144e0b4836a46784ebc82",
      "0de718137b9b49849836415a9cd6572f",
      "334001b6cf1e47c594d54b5cfc92f4a8",
      "e83ac59f6060412e978ec350f5bc01c1",
      "c1cbbe424dce433daa97b4ecaea825fa",
      "472b9a40c01c463b9c833667002c92fb",
      "8bf09d51ce8b4cf6a06af9b8cf2d9dc9",
      "ea847dc3582e40b9bcd86030efa13195",
      "d30fdf566d634adc98d0c0f9b6f698f3",
      "3e36575f005649b5a612e8b461e16372",
      "615bfc36f70944edb278d6baba6401b0",
      "cc96a6dd218e43ef82c6dbe9b7d30229",
      "26ba808c911f4612b1ea7019969757a7",
      "542bc5a82db046b38b339378cece4d78",
      "705c37cdda8d4df999f795faa04a55bf",
      "094aafa7888b46d1845eb4c4719facd8",
      "459c9771925d4a66ba4e1c11d91975ed",
      "980a86136dc4428ba094d34793ec78e5",
      "077bb21e6e7047568a56ab2389dfc3d9",
      "0cfdba8d1a1e4aed89ac9a0af5b3d000",
      "c950a47a7ace40be9af56a1ee28ff41d",
      "73993969a6024a97992ed12e0fabe053",
      "9448c1793c8a4a589c47d3515a3e9fc6",
      "21307422a1054270b7007a0a1438bfc7",
      "b77f9def700443739d1542f7ad15946e",
      "a3e90b43a84749aeb6b0af90a756354f",
      "8f85cefdc5b44ca6bba955e51afd7642",
      "db2897a419134c90831d05275a353f1d",
      "49be4c8ab811411193efc7a50b57b1b4",
      "4b549a14f7664f3eaf5db04cef27f040",
      "c7fac56fe6cf472ab3c479d4b05398a4",
      "14c64ec7da864e199b9d823ff41bb09a",
      "16d3b0315c85480e86a89f9d9035b3b2",
      "2d4911dd8dd241088b88dd7a0b6357aa",
      "f2456993dd1f4b1a892624d3933a0ab4",
      "3460b0b956054d34bf4412fb224434e0",
      "e10cec166aa245d2af4ca6b40c36da4a",
      "f81721f1cb4f4667abbb2336a58a1797",
      "2d37acc4febe49388f679cd59d44946e",
      "e4e91ffe753c44a091ecfc57a570f2c5"
     ]
    },
    "id": "mYn0gcjkc_5W",
    "outputId": "c637f679-a596-4c54-e7e0-0ea176ad8d7c"
   },
   "outputs": [
    {
     "name": "stderr",
     "output_type": "stream",
     "text": [
      "C:\\Users\\sghavat\\Downloads\\work\\git\\pytorch-transformer\\pytorch-transformer_venv\\Lib\\site-packages\\huggingface_hub\\file_download.py:140: UserWarning: `huggingface_hub` cache-system uses symlinks by default to efficiently store duplicated files but your machine does not support them in C:\\Users\\sghavat\\.cache\\huggingface\\hub\\datasets--cfilt--iitb-english-hindi. Caching files will still work but in a degraded version that might require more space on your disk. This warning can be disabled by setting the `HF_HUB_DISABLE_SYMLINKS_WARNING` environment variable. For more details, see https://huggingface.co/docs/huggingface_hub/how-to-cache#limitations.\n",
      "To support symlinks on Windows, you either need to activate Developer Mode or to run Python as an administrator. In order to activate developer mode, see this article: https://docs.microsoft.com/en-us/windows/apps/get-started/enable-your-device-for-development\n",
      "  warnings.warn(message)\n",
      "Generating train split: 100%|███████████████████████████████████| 1659083/1659083 [00:01<00:00, 1026838.47 examples/s]\n",
      "Generating validation split: 100%|████████████████████████████████████████| 520/520 [00:00<00:00, 99595.33 examples/s]\n",
      "Generating test split: 100%|███████████████████████████████████████████| 2507/2507 [00:00<00:00, 305450.11 examples/s]\n"
     ]
    },
    {
     "name": "stdout",
     "output_type": "stream",
     "text": [
      "{'translation': {'en': 'Give your application an accessibility workout', 'hi': 'अपने अनुप्रयोग को पहुंचनीयता व्यायाम का लाभ दें'}}\n",
      "{'en': 'Give your application an accessibility workout', 'hi': 'अपने अनुप्रयोग को पहुंचनीयता व्यायाम का लाभ दें'}\n",
      "Give your application an accessibility workout\n",
      "अपने अनुप्रयोग को पहुंचनीयता व्यायाम का लाभ दें\n",
      "hello world\n"
     ]
    }
   ],
   "source": [
    "tokenizer = Tokenizer(BPE(unk_token=\"[UNK]\"))\n",
    "\n",
    "dataset = load_dataset(\"cfilt/iitb-english-hindi\", split='train')\n",
    "\n",
    "print(dataset[0])\n",
    "print(dataset[0]['translation'])\n",
    "print(dataset[0]['translation']['en'])\n",
    "print(dataset[0]['translation']['hi'])\n",
    "\n",
    "if __name__ == '__main__':\n",
    "    print('hello world')\n",
    "    # print(config)"
   ]
  },
  {
   "cell_type": "code",
   "execution_count": null,
   "metadata": {
    "colab": {
     "base_uri": "https://localhost:8080/"
    },
    "id": "UbZwHeElOY5J",
    "outputId": "46bedcb5-478c-452e-c7e9-ac2d1762cc9f"
   },
   "outputs": [
    {
     "data": {
      "text/plain": [
       "Dataset({\n",
       "    features: ['translation'],\n",
       "    num_rows: 1659083\n",
       "})"
      ]
     },
     "execution_count": 6,
     "metadata": {},
     "output_type": "execute_result"
    }
   ],
   "source": [
    "dataset"
   ]
  },
  {
   "cell_type": "code",
   "execution_count": null,
   "metadata": {
    "colab": {
     "base_uri": "https://localhost:8080/",
     "height": 400,
     "referenced_widgets": [
      "9c223cdb3c094d7a907d1ee7f6ab49ad",
      "9814f3049e9f43c69c8a1ab654ec11a3",
      "0012067823a249e48f9a8b89c5b826d6",
      "d1c8e48bb34f4445909a9d05bddd14a5",
      "daea2ba33e164c7697aa876504384617",
      "15ccfd49d21a400c9f1ddaadafa679d9",
      "eb80e9e5a8294865a0b1200f5f4fd596",
      "82f6f82713f44eafa86ea7b744e8eae1",
      "3742598bf90b46f9848dd6db65bfe148",
      "1c3aa0e4ddc7438282153753012c4f4c",
      "9d542c0fc4de4037b44df281e5d202e2",
      "e7bbf67f178d49d58294dab7571240e1",
      "cbdbdf62994c4f2f80ea5f6d35ccf597",
      "9b65ee485c0441f88452930d6a32c6e1",
      "d0c0ed98e57a4e8aadea136dca7ae548",
      "a5ff16e16a0c4b87ad987b8abcf5104f",
      "225a2b47947e4facba2b55fea52bb3db",
      "e2f1cd0c13da4967ae47a28f8c446eda",
      "2fd57f3b188149218c0a14129aaca0bd",
      "1a50a94dd27d485db6ecb7fab66f3246",
      "2361a933a23b427b9729480649b5daf8",
      "802469eb633244c99827d284fcc463a3",
      "5ad5a8cafa3d42e0820dc5dfc7895d08",
      "d97e719a28f042718f6381d1bf328272",
      "3df006334c6b4811b2cd0a7ff2d3a7a8",
      "c25be831e23f4f1bacbc8f99462601dc",
      "f3d143cc6ed0493581c5a1d778bc9eda",
      "1f83e6ef2f9742ad937244ea5470bbef",
      "7ce093a421e347bf903e1be83bce6773",
      "55234695d8a94e18935459f33e914f0c",
      "900aa99ad3d946408a5e5632f404fa78",
      "39decff96a114a4891c3421b801c69c4",
      "52987fb124f0456b8e6d635f14c2d392",
      "86c8ea281b7d4cd69f56f999ba5d7730",
      "dcb985c0739c491ebb23a14574115f5e",
      "4a63aea62d7e4f28aabec16cf1a500aa",
      "a89bb9c90be642a693c20c551a377373",
      "3bca78cdf87a4ba5adb4fd9a96e705ad",
      "09a336e20bfd42e486d40ca962f9f56e",
      "24a1a0fea88540829a24a4218cf69aec",
      "37aee083346a4d21970af156c2b8384f",
      "e0a0d11f88b84ff695cd911085617e83",
      "5e3e2a0f05674749a41bd69691096fc6",
      "e27eda209f7b4492a44ecd40f9e6f93b",
      "590fc86e02064e96bb2d9aa74d6497e2",
      "a9a331a3cd3043b786ce4558ccccee81",
      "948c5822e7e84c6ca04672ca5fa3a2c2",
      "c0fdcee51f0b4cf5bfc7d8b30c24ab61",
      "3e8481eb064e4535b64bb0e0d09452d6",
      "6ea3ab09f48f41929139f3457c6d139c",
      "8953f783cfe147548cd6f82e1689b381",
      "5dd37640a675425e9ce3236ab4088f87",
      "0187f1aa68a64df28cf9a10d82cc1b35",
      "28dcdd5f34154effac4653c3b1bf3c22",
      "e3cbeda0ff1f43aab7b39b3d41812c3a",
      "7ca4b6b145574bc2857754c831f6d075",
      "fcef62fda205433f903107031cb15d2d",
      "7d91ef80cb3144028290dad6024e59fe",
      "6e48e607ab314490a3ff48e0eaec7b7a",
      "4ac5f1aa6f774316b8f7df80d154ca77",
      "fd95b36a842249f1aecb1f7c73eb7191",
      "039f0ef880a34c349db3f4c17bdf2b35",
      "b3c8e59f929e495dafc2c57c7b88ed3c",
      "60e58e5ed76847af8ae63de32c2aa4fe",
      "ca44d05aee324548ab5379e1b1edf288",
      "9f6d3f6dd1bf413fa4da4c2793d122a7",
      "2d10019b4a1b4c87b737cc095d0acfe5",
      "1598c7fc8fcc41099ed7e7e1636fb830",
      "375737e61cfb4b209b1b75069515b325",
      "d054c59ad0b2483583b555752960ace1",
      "44907e7728144d04a14936c74a24f0a8",
      "64e0259ea0f3499bb5a0a2fdb203aa93",
      "b8058de8e3ed43dfa4cf1df208ccee68",
      "b497bb1f0c594920b11055150900c666",
      "13d48961e55b455ebe565234a650af01",
      "3841a8f204bc438a9cc8e7fa6baacedc",
      "8e20176a70154458820f979bfa118db1",
      "bd3312765e4545d6a7b25af982171841",
      "03ee62f231c54df68b2bfa81d9326fcc",
      "f265fb7540c446dea896e02a60e21115",
      "37874be8bc5d48f991e6fc081680e0e6",
      "658293196053465a8520c8aee361d498",
      "bdcafb8918fb4b4e849a59a9a5060701",
      "86ff8585d61c4b25922078a0c773256d",
      "ff8e0fb151284a8f87cc3f66ace16327",
      "aae646a047e54aa09ce414bd67e20b56",
      "30ab6c7a43de44d98624061aa9b49bc9",
      "6a57217f862e4475870aa926e5fb120e"
     ]
    },
    "id": "nPi1w8CxmaPG",
    "outputId": "4cbb7cf0-dc0f-4ae2-a8ed-44165fa5d19c"
   },
   "outputs": [
    {
     "name": "stderr",
     "output_type": "stream",
     "text": [
      "/usr/local/lib/python3.10/dist-packages/huggingface_hub/utils/_token.py:89: UserWarning: \n",
      "The secret `HF_TOKEN` does not exist in your Colab secrets.\n",
      "To authenticate with the Hugging Face Hub, create a token in your settings tab (https://huggingface.co/settings/tokens), set it as secret in your Google Colab and restart your session.\n",
      "You will be able to reuse this secret in all of your notebooks.\n",
      "Please note that authentication is recommended but still optional to access public models or datasets.\n",
      "  warnings.warn(\n"
     ]
    },
    {
     "data": {
      "application/vnd.jupyter.widget-view+json": {
       "model_id": "9c223cdb3c094d7a907d1ee7f6ab49ad",
       "version_major": 2,
       "version_minor": 0
      },
      "text/plain": [
       "Downloading readme:   0%|          | 0.00/3.14k [00:00<?, ?B/s]"
      ]
     },
     "metadata": {},
     "output_type": "display_data"
    },
    {
     "data": {
      "application/vnd.jupyter.widget-view+json": {
       "model_id": "e7bbf67f178d49d58294dab7571240e1",
       "version_major": 2,
       "version_minor": 0
      },
      "text/plain": [
       "Downloading metadata:   0%|          | 0.00/953 [00:00<?, ?B/s]"
      ]
     },
     "metadata": {},
     "output_type": "display_data"
    },
    {
     "data": {
      "application/vnd.jupyter.widget-view+json": {
       "model_id": "5ad5a8cafa3d42e0820dc5dfc7895d08",
       "version_major": 2,
       "version_minor": 0
      },
      "text/plain": [
       "Downloading data:   0%|          | 0.00/190M [00:00<?, ?B/s]"
      ]
     },
     "metadata": {},
     "output_type": "display_data"
    },
    {
     "data": {
      "application/vnd.jupyter.widget-view+json": {
       "model_id": "86c8ea281b7d4cd69f56f999ba5d7730",
       "version_major": 2,
       "version_minor": 0
      },
      "text/plain": [
       "Downloading data:   0%|          | 0.00/85.7k [00:00<?, ?B/s]"
      ]
     },
     "metadata": {},
     "output_type": "display_data"
    },
    {
     "data": {
      "application/vnd.jupyter.widget-view+json": {
       "model_id": "590fc86e02064e96bb2d9aa74d6497e2",
       "version_major": 2,
       "version_minor": 0
      },
      "text/plain": [
       "Downloading data:   0%|          | 0.00/500k [00:00<?, ?B/s]"
      ]
     },
     "metadata": {},
     "output_type": "display_data"
    },
    {
     "data": {
      "application/vnd.jupyter.widget-view+json": {
       "model_id": "7ca4b6b145574bc2857754c831f6d075",
       "version_major": 2,
       "version_minor": 0
      },
      "text/plain": [
       "Generating train split:   0%|          | 0/1659083 [00:00<?, ? examples/s]"
      ]
     },
     "metadata": {},
     "output_type": "display_data"
    },
    {
     "data": {
      "application/vnd.jupyter.widget-view+json": {
       "model_id": "2d10019b4a1b4c87b737cc095d0acfe5",
       "version_major": 2,
       "version_minor": 0
      },
      "text/plain": [
       "Generating validation split:   0%|          | 0/520 [00:00<?, ? examples/s]"
      ]
     },
     "metadata": {},
     "output_type": "display_data"
    },
    {
     "data": {
      "application/vnd.jupyter.widget-view+json": {
       "model_id": "bd3312765e4545d6a7b25af982171841",
       "version_major": 2,
       "version_minor": 0
      },
      "text/plain": [
       "Generating test split:   0%|          | 0/2507 [00:00<?, ? examples/s]"
      ]
     },
     "metadata": {},
     "output_type": "display_data"
    }
   ],
   "source": [
    "from datasets import load_dataset\n",
    "from tokenizers import Tokenizer, models, trainers, pre_tokenizers, decoders, processors\n",
    "\n",
    "dataset = load_dataset(\"cfilt/iitb-english-hindi\")\n",
    "\n",
    "# def get_texts(dataset, lang):\n",
    "def get_texts(dataset):\n",
    "    for example in dataset['train']['translation']:\n",
    "        # yield example[lang]\n",
    "        yield example['en']\n",
    "        yield example['hi']\n",
    "\n",
    "tokenizer = Tokenizer(models.BPE())\n",
    "\n",
    "tokenizer.pre_tokenizer = pre_tokenizers.ByteLevel(add_prefix_space=False)\n",
    "tokenizer.decoder = decoders.ByteLevel()\n",
    "tokenizer.post_processor = processors.ByteLevel()\n",
    "\n",
    "trainer = trainers.BpeTrainer(special_tokens=[\"<s>\", \"<pad>\", \"</s>\", \"<unk>\", \"<mask>\"])\n",
    "\n",
    "# tokenizer.train_from_iterator(get_texts(dataset, 'en'), trainer=trainer)\n",
    "# tokenizer.train_from_iterator(get_texts(dataset, 'hi'), trainer=trainer)\n",
    "tokenizer.train_from_iterator(get_texts(dataset), trainer=trainer)\n",
    "\n",
    "tokenizer.save(\"iitb-english-hindi-tokenizer.json\")"
   ]
  },
  {
   "cell_type": "code",
   "execution_count": 6,
   "metadata": {},
   "outputs": [
    {
     "data": {
      "text/plain": [
       "DatasetDict({\n",
       "    train: Dataset({\n",
       "        features: ['translation'],\n",
       "        num_rows: 1659083\n",
       "    })\n",
       "    validation: Dataset({\n",
       "        features: ['translation'],\n",
       "        num_rows: 520\n",
       "    })\n",
       "    test: Dataset({\n",
       "        features: ['translation'],\n",
       "        num_rows: 2507\n",
       "    })\n",
       "})"
      ]
     },
     "execution_count": 6,
     "metadata": {},
     "output_type": "execute_result"
    }
   ],
   "source": [
    "from datasets import load_dataset\n",
    "dataset = load_dataset(\"cfilt/iitb-english-hindi\")\n",
    "dataset"
   ]
  },
  {
   "cell_type": "code",
   "execution_count": null,
   "metadata": {
    "colab": {
     "base_uri": "https://localhost:8080/"
    },
    "id": "0x6UTncTykhG",
    "outputId": "87e0c095-655e-4969-a8ff-80434fa400db"
   },
   "outputs": [
    {
     "name": "stdout",
     "output_type": "stream",
     "text": [
      "['This', 'Ġis', 'Ġa', 'Ġtest', 'Ġsentence', '.']\n"
     ]
    }
   ],
   "source": [
    "# Encode some text\n",
    "max_length = 50\n",
    "encoding = tokenizer.encode(\"This is a test sentence.\")\n",
    "print(encoding.tokens)"
   ]
  },
  {
   "cell_type": "code",
   "execution_count": null,
   "metadata": {
    "colab": {
     "base_uri": "https://localhost:8080/"
    },
    "id": "4y4vhMaBz4DT",
    "outputId": "6600bc77-40b5-436c-85a8-0f9d72360a2e"
   },
   "outputs": [
    {
     "data": {
      "text/plain": [
       "30000"
      ]
     },
     "execution_count": 7,
     "metadata": {},
     "output_type": "execute_result"
    }
   ],
   "source": [
    "tokenizer.get_vocab_size()"
   ]
  },
  {
   "cell_type": "code",
   "execution_count": null,
   "metadata": {
    "colab": {
     "base_uri": "https://localhost:8080/"
    },
    "id": "m-KDIZ4_IjrD",
    "outputId": "030d249f-cabf-438b-c649-7f2af02747b2"
   },
   "outputs": [
    {
     "data": {
      "text/plain": [
       "3"
      ]
     },
     "execution_count": 8,
     "metadata": {},
     "output_type": "execute_result"
    }
   ],
   "source": [
    "tokenizer.token_to_id(\"<unk>\")"
   ]
  },
  {
   "cell_type": "code",
   "execution_count": null,
   "metadata": {
    "colab": {
     "base_uri": "https://localhost:8080/"
    },
    "id": "XAA3SIwzI22u",
    "outputId": "c5756f15-1a90-4db1-fcae-5928fb1177e0"
   },
   "outputs": [
    {
     "name": "stdout",
     "output_type": "stream",
     "text": [
      "['Hell', 'o', ',', 'Ġy', \"'\", 'all', '!', '<pad>']\n",
      "[1, 1, 1, 1, 1, 1, 1, 0]\n",
      "['How', 'Ġare', 'Ġyou', 'Ġ', 'Ł', 'ĺ', 'ģ', 'Ġ?']\n",
      "[1, 1, 1, 1, 1, 1, 1, 1]\n"
     ]
    }
   ],
   "source": [
    "tokenizer.enable_padding(pad_id=1, pad_token=\"<pad>\")\n",
    "output = tokenizer.encode_batch([\"Hello, y'all!\", \"How are you 😁 ?\"])\n",
    "print(output[0].tokens)\n",
    "print(output[0].attention_mask)\n",
    "print(output[1].tokens)\n",
    "print(output[1].attention_mask)"
   ]
  },
  {
   "cell_type": "code",
   "execution_count": null,
   "metadata": {
    "colab": {
     "base_uri": "https://localhost:8080/"
    },
    "id": "4DHrj6dnyVUY",
    "outputId": "72283436-0f9f-497a-f0ba-c8d0dbb3eede"
   },
   "outputs": [
    {
     "name": "stdout",
     "output_type": "stream",
     "text": [
      "['This', 'Ġis', 'Ġa', 'Ġtest', 'Ġsentence', '.']\n",
      "[874, 317, 220, 2527, 9713, 18]\n",
      "This is a test sentence.\n"
     ]
    }
   ],
   "source": [
    "# Load the trained tokenizer\n",
    "tokenizer = Tokenizer.from_file(\"iitb-english-hindi-tokenizer.json\")\n",
    "\n",
    "# Encode some text\n",
    "encoding = tokenizer.encode(\"This is a test sentence.\")\n",
    "print(encoding.tokens)\n",
    "print(encoding.ids)\n",
    "\n",
    "# Decode back to text\n",
    "decoded_text = tokenizer.decode(encoding.ids)\n",
    "print(decoded_text)"
   ]
  },
  {
   "cell_type": "code",
   "execution_count": null,
   "metadata": {
    "colab": {
     "base_uri": "https://localhost:8080/"
    },
    "id": "qf0jZODuLb8P",
    "outputId": "cfc7cdbb-b2b6-48b5-d556-cbe719ad5098"
   },
   "outputs": [
    {
     "data": {
      "text/plain": [
       "[{'en': 'Give your application an accessibility workout',\n",
       "  'hi': 'अपने अनुप्रयोग को पहुंचनीयता व्यायाम का लाभ दें'},\n",
       " {'en': 'Accerciser Accessibility Explorer',\n",
       "  'hi': 'एक्सेर्साइसर पहुंचनीयता अन्वेषक'},\n",
       " {'en': 'The default plugin layout for the bottom panel',\n",
       "  'hi': 'निचले पटल के लिए डिफोल्ट प्लग-इन खाका'},\n",
       " {'en': 'The default plugin layout for the top panel',\n",
       "  'hi': 'ऊपरी पटल के लिए डिफोल्ट प्लग-इन खाका'},\n",
       " {'en': 'A list of plugins that are disabled by default',\n",
       "  'hi': 'उन प्लग-इनों की सूची जिन्हें डिफोल्ट रूप से निष्क्रिय किया गया है'},\n",
       " {'en': 'Highlight duration', 'hi': 'अवधि को हाइलाइट रकें'},\n",
       " {'en': 'The duration of the highlight box when selecting accessible nodes',\n",
       "  'hi': 'पहुंचनीय आसंधि (नोड) को चुनते समय हाइलाइट बक्से की अवधि'},\n",
       " {'en': 'Highlight border color',\n",
       "  'hi': 'सीमांत (बोर्डर) के रंग को हाइलाइट करें'},\n",
       " {'en': 'The color and opacity of the highlight border.',\n",
       "  'hi': 'हाइलाइट किए गए सीमांत का रंग और अपारदर्शिता। '},\n",
       " {'en': 'Highlight fill color', 'hi': 'भराई के रंग को हाइलाइट करें'}]"
      ]
     },
     "execution_count": 5,
     "metadata": {},
     "output_type": "execute_result"
    }
   ],
   "source": [
    "dataset['train']['translation'][:10]"
   ]
  },
  {
   "cell_type": "code",
   "execution_count": null,
   "metadata": {
    "id": "g99EtFDrLLvU"
   },
   "outputs": [],
   "source": [
    "len(dataset['train']['translation'][0]['hi'])"
   ]
  },
  {
   "cell_type": "code",
   "execution_count": null,
   "metadata": {
    "colab": {
     "base_uri": "https://localhost:8080/"
    },
    "id": "J6u3pyQmqATl",
    "outputId": "717d08a6-087d-4009-e94f-df3e32cbbc58"
   },
   "outputs": [
    {
     "data": {
      "text/plain": [
       "DatasetDict({\n",
       "    train: Dataset({\n",
       "        features: ['translation'],\n",
       "        num_rows: 1659083\n",
       "    })\n",
       "    validation: Dataset({\n",
       "        features: ['translation'],\n",
       "        num_rows: 520\n",
       "    })\n",
       "    test: Dataset({\n",
       "        features: ['translation'],\n",
       "        num_rows: 2507\n",
       "    })\n",
       "})"
      ]
     },
     "execution_count": 17,
     "metadata": {},
     "output_type": "execute_result"
    }
   ],
   "source": [
    "dataset"
   ]
  },
  {
   "cell_type": "code",
   "execution_count": null,
   "metadata": {
    "id": "K3wYx5GW1ihe"
   },
   "outputs": [],
   "source": [
    "import tqdm\n",
    "class CustomTranslationDataset(Dataset):\n",
    "    def __init__(self, dataset, tokenizer, max_length=64, split='train'):\n",
    "        self.dataset = dataset\n",
    "        self.tokenizer = tokenizer\n",
    "        self.split = split\n",
    "        self.max_length = max_length\n",
    "        # self.tokenized_data, self.attention_masks = self.tokenize_data()\n",
    "        self.tokenized_data = self.tokenize_data()\n",
    "\n",
    "    def tokenize_data(self):\n",
    "        tokens = []\n",
    "        attention_masks = []\n",
    "        tokenized_data = []\n",
    "        c=0\n",
    "        for example in tqdm.tqdm(self.dataset[self.split]['translation']):\n",
    "        # for example in self.dataset[self.split]['translation']:\n",
    "            en_text = example['en']\n",
    "            hi_text = example['hi']\n",
    "\n",
    "            en_tokens = self.tokenizer.encode(en_text).ids[:self.max_length - 2]  # -2 to account for <s> and </s>\n",
    "            hi_tokens = self.tokenizer.encode(hi_text).ids[:self.max_length - 2]\n",
    "\n",
    "            en_tokens = [self.tokenizer.token_to_id(\"<s>\")] + en_tokens + [self.tokenizer.token_to_id(\"</s>\")]\n",
    "            hi_tokens = [self.tokenizer.token_to_id(\"<s>\")] + hi_tokens + [self.tokenizer.token_to_id(\"</s>\")]\n",
    "\n",
    "            len_en = len(en_tokens)\n",
    "            len_h1 = len(hi_tokens)\n",
    "\n",
    "            en_padding_length = self.max_length - len_en\n",
    "            hi_padding_length = self.max_length - len_h1\n",
    "\n",
    "            en_tokens = en_tokens + [self.tokenizer.token_to_id(\"<pad>\")] * en_padding_length\n",
    "            hi_tokens = hi_tokens + [self.tokenizer.token_to_id(\"<pad>\")] * hi_padding_length\n",
    "\n",
    "            en_attention_mask = [1] * len_en + [0] * en_padding_length\n",
    "            hi_attention_mask = [1] * len_h1 + [0] * hi_padding_length\n",
    "\n",
    "            # tokens.append((en_tokens, hi_tokens))\n",
    "            # attention_masks.append((en_attention_mask, hi_attention_mask))\n",
    "            tokenized_data.append((en_tokens, hi_tokens, en_attention_mask, hi_attention_mask))\n",
    "            # c+=0\n",
    "            # if c==9:\n",
    "            #     break\n",
    "        # return tokens, attention_masks\n",
    "        return tokenized_data\n",
    "\n",
    "    def __getitem__(self, idx):\n",
    "        # return self.tokenized_data[idx] , self.attention_masks[idx]\n",
    "        return self.tokenized_data[idx]\n",
    "\n",
    "    def __len__(self):\n",
    "        return len(self.tokenized_data)"
   ]
  },
  {
   "cell_type": "markdown",
   "metadata": {
    "id": "mg8lOc6C6UqW"
   },
   "source": []
  },
  {
   "cell_type": "code",
   "execution_count": null,
   "metadata": {
    "colab": {
     "base_uri": "https://localhost:8080/"
    },
    "id": "_sG1BICgsoZI",
    "outputId": "f64b4917-f1bb-4327-b6dd-5ed0306c38ca"
   },
   "outputs": [
    {
     "name": "stderr",
     "output_type": "stream",
     "text": [
      "100%|██████████| 1659083/1659083 [09:20<00:00, 2961.51it/s]\n"
     ]
    }
   ],
   "source": [
    "ds = CustomTranslationDataset(dataset, tokenizer, max_length=64)"
   ]
  },
  {
   "cell_type": "code",
   "execution_count": null,
   "metadata": {
    "colab": {
     "base_uri": "https://localhost:8080/"
    },
    "id": "s47WsvEZYFHo",
    "outputId": "11559e66-c467-4dca-a8e6-5daeddc9d9d3"
   },
   "outputs": [
    {
     "name": "stdout",
     "output_type": "stream",
     "text": [
      "([0, 12879, 593, 2865, 388, 20185, 872, 678, 2, 1, 1, 1, 1, 1, 1, 1, 1, 1, 1, 1, 1, 1, 1, 1, 1, 1, 1, 1, 1, 1, 1, 1, 1, 1, 1, 1, 1, 1, 1, 1, 1, 1, 1, 1, 1, 1, 1, 1, 1, 1, 1, 1, 1, 1, 1, 1, 1, 1, 1, 1, 1, 1, 1, 1], [0, 1435, 207, 421, 230, 237, 208, 721, 217, 244, 210, 217, 543, 891, 679, 213, 575, 205, 252, 208, 219, 205, 219, 205, 223, 210, 205, 277, 205, 316, 271, 246, 2, 1, 1, 1, 1, 1, 1, 1, 1, 1, 1, 1, 1, 1, 1, 1, 1, 1, 1, 1, 1, 1, 1, 1, 1, 1, 1, 1, 1, 1, 1, 1], [1, 1, 1, 1, 1, 1, 1, 1, 1, 0, 0, 0, 0, 0, 0, 0, 0, 0, 0, 0, 0, 0, 0, 0, 0, 0, 0, 0, 0, 0, 0, 0, 0, 0, 0, 0, 0, 0, 0, 0, 0, 0, 0, 0, 0, 0, 0, 0, 0, 0, 0, 0, 0, 0, 0, 0, 0, 0, 0, 0, 0, 0, 0, 0], [1, 1, 1, 1, 1, 1, 1, 1, 1, 1, 1, 1, 1, 1, 1, 1, 1, 1, 1, 1, 1, 1, 1, 1, 1, 1, 1, 1, 1, 1, 1, 1, 1, 0, 0, 0, 0, 0, 0, 0, 0, 0, 0, 0, 0, 0, 0, 0, 0, 0, 0, 0, 0, 0, 0, 0, 0, 0, 0, 0, 0, 0, 0, 0])\n",
      "([0, 3828, 2199, 15705, 13974, 2803, 19351, 18660, 2, 1, 1, 1, 1, 1, 1, 1, 1, 1, 1, 1, 1, 1, 1, 1, 1, 1, 1, 1, 1, 1, 1, 1, 1, 1, 1, 1, 1, 1, 1, 1, 1, 1, 1, 1, 1, 1, 1, 1, 1, 1, 1, 1, 1, 1, 1, 1, 1, 1, 1, 1, 1, 1, 1, 1], [0, 905, 208, 221, 207, 206, 208, 221, 205, 11108, 543, 891, 679, 213, 575, 205, 421, 208, 234, 207, 1345, 2, 1, 1, 1, 1, 1, 1, 1, 1, 1, 1, 1, 1, 1, 1, 1, 1, 1, 1, 1, 1, 1, 1, 1, 1, 1, 1, 1, 1, 1, 1, 1, 1, 1, 1, 1, 1, 1, 1, 1, 1, 1, 1], [1, 1, 1, 1, 1, 1, 1, 1, 1, 0, 0, 0, 0, 0, 0, 0, 0, 0, 0, 0, 0, 0, 0, 0, 0, 0, 0, 0, 0, 0, 0, 0, 0, 0, 0, 0, 0, 0, 0, 0, 0, 0, 0, 0, 0, 0, 0, 0, 0, 0, 0, 0, 0, 0, 0, 0, 0, 0, 0, 0, 0, 0, 0, 0], [1, 1, 1, 1, 1, 1, 1, 1, 1, 1, 1, 1, 1, 1, 1, 1, 1, 1, 1, 1, 1, 1, 0, 0, 0, 0, 0, 0, 0, 0, 0, 0, 0, 0, 0, 0, 0, 0, 0, 0, 0, 0, 0, 0, 0, 0, 0, 0, 0, 0, 0, 0, 0, 0, 0, 0, 0, 0, 0, 0, 0, 0, 0, 0])\n",
      "([0, 350, 4508, 6824, 11074, 331, 228, 8304, 9578, 2, 1, 1, 1, 1, 1, 1, 1, 1, 1, 1, 1, 1, 1, 1, 1, 1, 1, 1, 1, 1, 1, 1, 1, 1, 1, 1, 1, 1, 1, 1, 1, 1, 1, 1, 1, 1, 1, 1, 1, 1, 1, 1, 1, 1, 1, 1, 1, 1, 1, 1, 1, 1, 1, 1], [0, 212, 209, 1871, 207, 12268, 210, 207, 277, 209, 283, 515, 209, 353, 217, 227, 208, 280, 232, 208, 1825, 17, 907, 361, 205, 216, 205, 2, 1, 1, 1, 1, 1, 1, 1, 1, 1, 1, 1, 1, 1, 1, 1, 1, 1, 1, 1, 1, 1, 1, 1, 1, 1, 1, 1, 1, 1, 1, 1, 1, 1, 1, 1, 1], [1, 1, 1, 1, 1, 1, 1, 1, 1, 1, 0, 0, 0, 0, 0, 0, 0, 0, 0, 0, 0, 0, 0, 0, 0, 0, 0, 0, 0, 0, 0, 0, 0, 0, 0, 0, 0, 0, 0, 0, 0, 0, 0, 0, 0, 0, 0, 0, 0, 0, 0, 0, 0, 0, 0, 0, 0, 0, 0, 0, 0, 0, 0, 0], [1, 1, 1, 1, 1, 1, 1, 1, 1, 1, 1, 1, 1, 1, 1, 1, 1, 1, 1, 1, 1, 1, 1, 1, 1, 1, 1, 1, 0, 0, 0, 0, 0, 0, 0, 0, 0, 0, 0, 0, 0, 0, 0, 0, 0, 0, 0, 0, 0, 0, 0, 0, 0, 0, 0, 0, 0, 0, 0, 0, 0, 0, 0, 0])\n",
      "([0, 350, 4508, 6824, 11074, 331, 228, 3070, 9578, 2, 1, 1, 1, 1, 1, 1, 1, 1, 1, 1, 1, 1, 1, 1, 1, 1, 1, 1, 1, 1, 1, 1, 1, 1, 1, 1, 1, 1, 1, 1, 1, 1, 1, 1, 1, 1, 1, 1, 1, 1, 1, 1, 1, 1, 1, 1, 1, 1, 1, 1, 1, 1, 1, 1], [0, 7812, 213, 12268, 210, 207, 277, 209, 283, 515, 209, 353, 217, 227, 208, 280, 232, 208, 1825, 17, 907, 361, 205, 216, 205, 2, 1, 1, 1, 1, 1, 1, 1, 1, 1, 1, 1, 1, 1, 1, 1, 1, 1, 1, 1, 1, 1, 1, 1, 1, 1, 1, 1, 1, 1, 1, 1, 1, 1, 1, 1, 1, 1, 1], [1, 1, 1, 1, 1, 1, 1, 1, 1, 1, 0, 0, 0, 0, 0, 0, 0, 0, 0, 0, 0, 0, 0, 0, 0, 0, 0, 0, 0, 0, 0, 0, 0, 0, 0, 0, 0, 0, 0, 0, 0, 0, 0, 0, 0, 0, 0, 0, 0, 0, 0, 0, 0, 0, 0, 0, 0, 0, 0, 0, 0, 0, 0, 0], [1, 1, 1, 1, 1, 1, 1, 1, 1, 1, 1, 1, 1, 1, 1, 1, 1, 1, 1, 1, 1, 1, 1, 1, 1, 1, 0, 0, 0, 0, 0, 0, 0, 0, 0, 0, 0, 0, 0, 0, 0, 0, 0, 0, 0, 0, 0, 0, 0, 0, 0, 0, 0, 0, 0, 0, 0, 0, 0, 0, 0, 0, 0, 0])\n"
     ]
    }
   ],
   "source": [
    "c=0\n",
    "for i in ds:\n",
    "    print(i)\n",
    "    c+=1\n",
    "    if c==4:\n",
    "        break"
   ]
  },
  {
   "cell_type": "code",
   "execution_count": null,
   "metadata": {
    "colab": {
     "base_uri": "https://localhost:8080/"
    },
    "id": "RY3XY47gWy3o",
    "outputId": "94a72500-4044-4468-ced3-3b0e88b46bcf"
   },
   "outputs": [
    {
     "name": "stdout",
     "output_type": "stream",
     "text": [
      "[[tensor([0, 0, 0, 0]), tensor([12879,  3828,   350,   350]), tensor([ 593, 2199, 4508, 4508]), tensor([ 2865, 15705,  6824,  6824]), tensor([  388, 13974, 11074, 11074]), tensor([20185,  2803,   331,   331]), tensor([  872, 19351,   228,   228]), tensor([  678, 18660,  8304,  3070]), tensor([   2,    2, 9578, 9578]), tensor([1, 1, 2, 2]), tensor([1, 1, 1, 1]), tensor([1, 1, 1, 1]), tensor([1, 1, 1, 1]), tensor([1, 1, 1, 1]), tensor([1, 1, 1, 1]), tensor([1, 1, 1, 1]), tensor([1, 1, 1, 1]), tensor([1, 1, 1, 1]), tensor([1, 1, 1, 1]), tensor([1, 1, 1, 1]), tensor([1, 1, 1, 1]), tensor([1, 1, 1, 1]), tensor([1, 1, 1, 1]), tensor([1, 1, 1, 1]), tensor([1, 1, 1, 1]), tensor([1, 1, 1, 1]), tensor([1, 1, 1, 1]), tensor([1, 1, 1, 1]), tensor([1, 1, 1, 1]), tensor([1, 1, 1, 1]), tensor([1, 1, 1, 1]), tensor([1, 1, 1, 1]), tensor([1, 1, 1, 1]), tensor([1, 1, 1, 1]), tensor([1, 1, 1, 1]), tensor([1, 1, 1, 1]), tensor([1, 1, 1, 1]), tensor([1, 1, 1, 1]), tensor([1, 1, 1, 1]), tensor([1, 1, 1, 1]), tensor([1, 1, 1, 1]), tensor([1, 1, 1, 1]), tensor([1, 1, 1, 1]), tensor([1, 1, 1, 1]), tensor([1, 1, 1, 1]), tensor([1, 1, 1, 1]), tensor([1, 1, 1, 1]), tensor([1, 1, 1, 1]), tensor([1, 1, 1, 1]), tensor([1, 1, 1, 1]), tensor([1, 1, 1, 1]), tensor([1, 1, 1, 1]), tensor([1, 1, 1, 1]), tensor([1, 1, 1, 1]), tensor([1, 1, 1, 1]), tensor([1, 1, 1, 1]), tensor([1, 1, 1, 1]), tensor([1, 1, 1, 1]), tensor([1, 1, 1, 1]), tensor([1, 1, 1, 1]), tensor([1, 1, 1, 1]), tensor([1, 1, 1, 1]), tensor([1, 1, 1, 1]), tensor([1, 1, 1, 1])], [tensor([0, 0, 0, 0]), tensor([1435,  905,  212, 7812]), tensor([207, 208, 209, 213]), tensor([  421,   221,  1871, 12268]), tensor([230, 207, 207, 210]), tensor([  237,   206, 12268,   207]), tensor([208, 208, 210, 277]), tensor([721, 221, 207, 209]), tensor([217, 205, 277, 283]), tensor([  244, 11108,   209,   515]), tensor([210, 543, 283, 209]), tensor([217, 891, 515, 353]), tensor([543, 679, 209, 217]), tensor([891, 213, 353, 227]), tensor([679, 575, 217, 208]), tensor([213, 205, 227, 280]), tensor([575, 421, 208, 232]), tensor([205, 208, 280, 208]), tensor([ 252,  234,  232, 1825]), tensor([208, 207, 208,  17]), tensor([ 219, 1345, 1825,  907]), tensor([205,   2,  17, 361]), tensor([219,   1, 907, 205]), tensor([205,   1, 361, 216]), tensor([223,   1, 205, 205]), tensor([210,   1, 216,   2]), tensor([205,   1, 205,   1]), tensor([277,   1,   2,   1]), tensor([205,   1,   1,   1]), tensor([316,   1,   1,   1]), tensor([271,   1,   1,   1]), tensor([246,   1,   1,   1]), tensor([2, 1, 1, 1]), tensor([1, 1, 1, 1]), tensor([1, 1, 1, 1]), tensor([1, 1, 1, 1]), tensor([1, 1, 1, 1]), tensor([1, 1, 1, 1]), tensor([1, 1, 1, 1]), tensor([1, 1, 1, 1]), tensor([1, 1, 1, 1]), tensor([1, 1, 1, 1]), tensor([1, 1, 1, 1]), tensor([1, 1, 1, 1]), tensor([1, 1, 1, 1]), tensor([1, 1, 1, 1]), tensor([1, 1, 1, 1]), tensor([1, 1, 1, 1]), tensor([1, 1, 1, 1]), tensor([1, 1, 1, 1]), tensor([1, 1, 1, 1]), tensor([1, 1, 1, 1]), tensor([1, 1, 1, 1]), tensor([1, 1, 1, 1]), tensor([1, 1, 1, 1]), tensor([1, 1, 1, 1]), tensor([1, 1, 1, 1]), tensor([1, 1, 1, 1]), tensor([1, 1, 1, 1]), tensor([1, 1, 1, 1]), tensor([1, 1, 1, 1]), tensor([1, 1, 1, 1]), tensor([1, 1, 1, 1]), tensor([1, 1, 1, 1])], [tensor([1, 1, 1, 1]), tensor([1, 1, 1, 1]), tensor([1, 1, 1, 1]), tensor([1, 1, 1, 1]), tensor([1, 1, 1, 1]), tensor([1, 1, 1, 1]), tensor([1, 1, 1, 1]), tensor([1, 1, 1, 1]), tensor([1, 1, 1, 1]), tensor([0, 0, 1, 1]), tensor([0, 0, 0, 0]), tensor([0, 0, 0, 0]), tensor([0, 0, 0, 0]), tensor([0, 0, 0, 0]), tensor([0, 0, 0, 0]), tensor([0, 0, 0, 0]), tensor([0, 0, 0, 0]), tensor([0, 0, 0, 0]), tensor([0, 0, 0, 0]), tensor([0, 0, 0, 0]), tensor([0, 0, 0, 0]), tensor([0, 0, 0, 0]), tensor([0, 0, 0, 0]), tensor([0, 0, 0, 0]), tensor([0, 0, 0, 0]), tensor([0, 0, 0, 0]), tensor([0, 0, 0, 0]), tensor([0, 0, 0, 0]), tensor([0, 0, 0, 0]), tensor([0, 0, 0, 0]), tensor([0, 0, 0, 0]), tensor([0, 0, 0, 0]), tensor([0, 0, 0, 0]), tensor([0, 0, 0, 0]), tensor([0, 0, 0, 0]), tensor([0, 0, 0, 0]), tensor([0, 0, 0, 0]), tensor([0, 0, 0, 0]), tensor([0, 0, 0, 0]), tensor([0, 0, 0, 0]), tensor([0, 0, 0, 0]), tensor([0, 0, 0, 0]), tensor([0, 0, 0, 0]), tensor([0, 0, 0, 0]), tensor([0, 0, 0, 0]), tensor([0, 0, 0, 0]), tensor([0, 0, 0, 0]), tensor([0, 0, 0, 0]), tensor([0, 0, 0, 0]), tensor([0, 0, 0, 0]), tensor([0, 0, 0, 0]), tensor([0, 0, 0, 0]), tensor([0, 0, 0, 0]), tensor([0, 0, 0, 0]), tensor([0, 0, 0, 0]), tensor([0, 0, 0, 0]), tensor([0, 0, 0, 0]), tensor([0, 0, 0, 0]), tensor([0, 0, 0, 0]), tensor([0, 0, 0, 0]), tensor([0, 0, 0, 0]), tensor([0, 0, 0, 0]), tensor([0, 0, 0, 0]), tensor([0, 0, 0, 0])], [tensor([1, 1, 1, 1]), tensor([1, 1, 1, 1]), tensor([1, 1, 1, 1]), tensor([1, 1, 1, 1]), tensor([1, 1, 1, 1]), tensor([1, 1, 1, 1]), tensor([1, 1, 1, 1]), tensor([1, 1, 1, 1]), tensor([1, 1, 1, 1]), tensor([1, 1, 1, 1]), tensor([1, 1, 1, 1]), tensor([1, 1, 1, 1]), tensor([1, 1, 1, 1]), tensor([1, 1, 1, 1]), tensor([1, 1, 1, 1]), tensor([1, 1, 1, 1]), tensor([1, 1, 1, 1]), tensor([1, 1, 1, 1]), tensor([1, 1, 1, 1]), tensor([1, 1, 1, 1]), tensor([1, 1, 1, 1]), tensor([1, 1, 1, 1]), tensor([1, 0, 1, 1]), tensor([1, 0, 1, 1]), tensor([1, 0, 1, 1]), tensor([1, 0, 1, 1]), tensor([1, 0, 1, 0]), tensor([1, 0, 1, 0]), tensor([1, 0, 0, 0]), tensor([1, 0, 0, 0]), tensor([1, 0, 0, 0]), tensor([1, 0, 0, 0]), tensor([1, 0, 0, 0]), tensor([0, 0, 0, 0]), tensor([0, 0, 0, 0]), tensor([0, 0, 0, 0]), tensor([0, 0, 0, 0]), tensor([0, 0, 0, 0]), tensor([0, 0, 0, 0]), tensor([0, 0, 0, 0]), tensor([0, 0, 0, 0]), tensor([0, 0, 0, 0]), tensor([0, 0, 0, 0]), tensor([0, 0, 0, 0]), tensor([0, 0, 0, 0]), tensor([0, 0, 0, 0]), tensor([0, 0, 0, 0]), tensor([0, 0, 0, 0]), tensor([0, 0, 0, 0]), tensor([0, 0, 0, 0]), tensor([0, 0, 0, 0]), tensor([0, 0, 0, 0]), tensor([0, 0, 0, 0]), tensor([0, 0, 0, 0]), tensor([0, 0, 0, 0]), tensor([0, 0, 0, 0]), tensor([0, 0, 0, 0]), tensor([0, 0, 0, 0]), tensor([0, 0, 0, 0]), tensor([0, 0, 0, 0]), tensor([0, 0, 0, 0]), tensor([0, 0, 0, 0]), tensor([0, 0, 0, 0]), tensor([0, 0, 0, 0])]]\n",
      "4\n"
     ]
    }
   ],
   "source": [
    "train_data_loader = DataLoader(ds, batch_size=4, shuffle=False)\n",
    "for i in train_data_loader:\n",
    "    print(i)\n",
    "    print(len(i))\n",
    "    break"
   ]
  },
  {
   "cell_type": "code",
   "execution_count": null,
   "metadata": {
    "colab": {
     "base_uri": "https://localhost:8080/"
    },
    "id": "1j9JoUw0-_th",
    "outputId": "641ae5f9-05ac-4d9a-e652-de4da295f533"
   },
   "outputs": [
    {
     "name": "stderr",
     "output_type": "stream",
     "text": [
      "  0%|          | 0/1659083 [00:00<?, ?it/s]"
     ]
    },
    {
     "name": "stdout",
     "output_type": "stream",
     "text": [
      "[1, 1, 1, 1, 1, 1, 1, 1, 1, 0, 0, 0, 0, 0, 0, 0, 0, 0, 0, 0, 0, 0, 0, 0, 0, 0, 0, 0, 0, 0, 0, 0, 0, 0, 0, 0, 0, 0, 0, 0, 0, 0, 0, 0, 0, 0, 0, 0, 0, 0, 0, 0, 0, 0, 0, 0, 0, 0, 0, 0, 0, 0, 0, 0, 0, 0, 0, 0, 0, 0, 0, 0, 0, 0, 0, 0, 0, 0, 0, 0, 0, 0, 0, 0, 0, 0, 0, 0, 0, 0, 0, 0, 0, 0, 0, 0, 0, 0, 0, 0, 0, 0, 0, 0, 0, 0, 0, 0, 0, 0, 0, 0, 0, 0, 0, 0, 0, 0, 0, 0, 0, 0, 0, 0, 0, 0, 0, 0]\n",
      "9\n",
      "[1, 1, 1, 1, 1, 1, 1, 1, 1, 1, 1, 1, 1, 1, 1, 1, 1, 1, 1, 1, 1, 1, 1, 1, 1, 1, 1, 1, 1, 1, 1, 1, 1, 0, 0, 0, 0, 0, 0, 0, 0, 0, 0, 0, 0, 0, 0, 0, 0, 0, 0, 0, 0, 0, 0, 0, 0, 0, 0, 0, 0, 0, 0, 0, 0, 0, 0, 0, 0, 0, 0, 0, 0, 0, 0, 0, 0, 0, 0, 0, 0, 0, 0, 0, 0, 0, 0, 0, 0, 0, 0, 0, 0, 0, 0, 0, 0, 0, 0, 0, 0, 0, 0, 0, 0, 0, 0, 0, 0, 0, 0, 0, 0, 0, 0, 0, 0, 0, 0, 0, 0, 0, 0, 0, 0, 0, 0, 0]\n",
      "33\n",
      "0 0\n"
     ]
    },
    {
     "name": "stderr",
     "output_type": "stream",
     "text": [
      "\n"
     ]
    }
   ],
   "source": [
    "c = 0\n",
    "max_en = 0\n",
    "max_hi = 0\n",
    "for i in tqdm.tqdm(ds):\n",
    "    # print(tokenizer.decode(i[0][0]))\n",
    "    # print(tokenizer.decode(i[0][1]))\n",
    "    # c+=1\n",
    "    # if c ==100:\n",
    "    #     break\n",
    "    print(i[1][0])\n",
    "    print(sum(i[1][0]))\n",
    "    print(i[1][1])\n",
    "    print(sum(i[1][1]))\n",
    "    break\n",
    "    max_en = max(max_en , sum(i[1][0]))\n",
    "    max_hi = max(max_hi , sum(i[1][1]))\n",
    "print(max_en , max_hi)"
   ]
  },
  {
   "cell_type": "code",
   "execution_count": null,
   "metadata": {
    "colab": {
     "base_uri": "https://localhost:8080/"
    },
    "id": "RE5wmHGbIBt3",
    "outputId": "98d0ec76-13e2-4491-e440-8579ed92b999"
   },
   "outputs": [
    {
     "data": {
      "text/plain": [
       "353"
      ]
     },
     "execution_count": 33,
     "metadata": {},
     "output_type": "execute_result"
    }
   ],
   "source": [
    "import gc\n",
    "gc.collect()"
   ]
  },
  {
   "cell_type": "code",
   "execution_count": null,
   "metadata": {
    "id": "S3o_p2CdIA7_"
   },
   "outputs": [],
   "source": [
    "trans_data_loader = DataLoader(ds)"
   ]
  },
  {
   "cell_type": "code",
   "execution_count": null,
   "metadata": {
    "colab": {
     "base_uri": "https://localhost:8080/"
    },
    "id": "ESDxpNSZ2mk5",
    "outputId": "0ee8fb96-3eab-420c-e55c-581802539814"
   },
   "outputs": [
    {
     "name": "stdout",
     "output_type": "stream",
     "text": [
      "Give your application an accessibility workout\n",
      "47\n",
      "31\n"
     ]
    }
   ],
   "source": [
    "for i in ds:\n",
    "    print(tokenizer.decode(i[0]))\n",
    "    print(len(tokenizer.decode(i[1])))\n",
    "    print(len(i[1]))\n",
    "    break"
   ]
  },
  {
   "cell_type": "code",
   "execution_count": null,
   "metadata": {
    "id": "ety_zL27FhU5"
   },
   "outputs": [],
   "source": [
    "from datasets import load_dataset\n",
    "from tokenizers import Tokenizer, models, trainers, pre_tokenizers, decoders, processors\n",
    "\n",
    "dataset = load_dataset(\"cfilt/iitb-english-hindi\")\n",
    "\n",
    "def get_texts(dataset, lang):\n",
    "    for example in dataset['train']['translation']:\n",
    "        yield example[lang]\n",
    "\n",
    "tokenizer_en = Tokenizer(models.BPE())\n",
    "tokenizer_en.pre_tokenizer = pre_tokenizers.ByteLevel(add_prefix_space=False)\n",
    "tokenizer_en.decoder = decoders.ByteLevel()\n",
    "tokenizer_en.post_processor = processors.ByteLevel()\n",
    "trainer = trainers.BpeTrainer(special_tokens=[\"<s>\", \"<pad>\", \"</s>\", \"<unk>\", \"<mask>\"])\n",
    "tokenizer_en.train_from_iterator(get_texts(dataset, 'en'), trainer=trainer)\n",
    "\n",
    "tokenizer_en.save(\"iitb-english-hindi-tokenizer_en.json\")\n",
    "\n",
    "tokenizer_hi = Tokenizer(models.BPE())\n",
    "tokenizer_hi.pre_tokenizer = pre_tokenizers.ByteLevel(add_prefix_space=False)\n",
    "tokenizer_hi.decoder = decoders.ByteLevel()\n",
    "tokenizer_hi.post_processor = processors.ByteLevel()\n",
    "trainer = trainers.BpeTrainer(special_tokens=[\"<s>\", \"<pad>\", \"</s>\", \"<unk>\", \"<mask>\"])\n",
    "tokenizer_hi.train_from_iterator(get_texts(dataset, 'hi'), trainer=trainer)\n",
    "\n",
    "tokenizer_hi.save(\"iitb-english-hindi-tokenizer_hi.json\")"
   ]
  },
  {
   "cell_type": "code",
   "execution_count": null,
   "metadata": {
    "colab": {
     "base_uri": "https://localhost:8080/"
    },
    "id": "4kpauQgxI4Lu",
    "outputId": "a5895cdd-a2d6-4362-d60d-a9652e8d43fa"
   },
   "outputs": [
    {
     "data": {
      "text/plain": [
       "30000"
      ]
     },
     "execution_count": 62,
     "metadata": {},
     "output_type": "execute_result"
    }
   ],
   "source": [
    "tokenizer.get_vocab_size()"
   ]
  },
  {
   "cell_type": "code",
   "execution_count": null,
   "metadata": {
    "id": "9O3wSaG4L3H7"
   },
   "outputs": [],
   "source": []
  },
  {
   "cell_type": "code",
   "execution_count": null,
   "metadata": {
    "colab": {
     "base_uri": "https://localhost:8080/"
    },
    "id": "8qdn5vaaT94T",
    "outputId": "95ca85f3-c4e5-45a8-ab46-19d1bc2c1d30"
   },
   "outputs": [
    {
     "data": {
      "text/plain": [
       "torch.Size([5000, 1, 10])"
      ]
     },
     "execution_count": 10,
     "metadata": {},
     "output_type": "execute_result"
    }
   ],
   "source": [
    "max_len=5000\n",
    "# position = torch.arange(max_len).unsqueeze(1)\n",
    "position = torch.zeros((max_len,10))\n",
    "position = torch.zeros((max_len,10)).unsqueeze(1)\n",
    "position.shape"
   ]
  },
  {
   "cell_type": "code",
   "execution_count": null,
   "metadata": {
    "colab": {
     "base_uri": "https://localhost:8080/"
    },
    "id": "rjt3jlGS0xCD",
    "outputId": "1d3a793c-fe72-4a38-aa65-42d873242104"
   },
   "outputs": [
    {
     "name": "stdout",
     "output_type": "stream",
     "text": [
      "tensor([[-2.4445, -0.3239,  1.1292],\n",
      "        [-2.4652, -1.6679, -0.8715]])\n",
      "tensor([[0.0222, 0.1853, 0.7925],\n",
      "        [0.1228, 0.2726, 0.6046]])\n"
     ]
    }
   ],
   "source": [
    "m = nn.Softmax(dim=-1)\n",
    "input = torch.randn(2, 3)\n",
    "print(input)\n",
    "output = m(input)\n",
    "print(output)"
   ]
  },
  {
   "cell_type": "code",
   "execution_count": null,
   "metadata": {
    "id": "VbcgeoPM5t9J"
   },
   "outputs": [],
   "source": [
    "class Encoder(nn.Module):\n",
    "    def __init__(self, d, dk, dv, h) -> None:\n",
    "        super(Encoder, self).__init__()\n",
    "        # self.query_weight = nn.Parameter(torch.randn(d, dk), requires_grad=True)\n",
    "        # self.key_weight   = nn.Parameter(torch.randn(d, dk), requires_grad=True)\n",
    "        # self.value_weight = nn.Parameter(torch.randn(d, dv), requires_grad=True)\n",
    "        self.query_layer = nn.Linear(d,dk)\n",
    "        self.key_layer = nn.Linear(d,dk)\n",
    "        self.value_layer = nn.Linear(d,dv)\n",
    "        self.d = d\n",
    "        self.dk = dk\n",
    "        self.dv = dv\n",
    "        self.h = h\n",
    "        self.layer_norm1 = nn.LayerNorm(d)\n",
    "        self.layer_norm2 = nn.LayerNorm(d)\n",
    "        self.ffo_out = 2048\n",
    "        self.ffo = nn.Linear(self.h * self.dv , self.d)\n",
    "        self.ff1 = nn.Linear(self.d , self.ffo_out)\n",
    "        self.ff2 = nn.Linear(self.ffo_out , self.d)\n",
    "        self.relu = nn.ReLU()\n",
    "\n",
    "    def multihead_attention(self, query, key, value):\n",
    "        # same layers???\n",
    "        head_outputs = []\n",
    "        for _ in range(self.h):\n",
    "            head_output = self.self_attention(query, key, value)\n",
    "            head_outputs.append(head_output)\n",
    "        multihead = torch.concat(head_outputs, dim=-1)\n",
    "        return self.ffo(multihead)\n",
    "\n",
    "    def self_attention(self, query, key, value):\n",
    "        qt = torch.bmm(query, torch.transpose(key,1,2))\n",
    "        attn_weights = nn.Softmax(dim=-1)(qt/np.sqrt(self.dk))\n",
    "        self_attn = torch.bmm(qt, value)\n",
    "        return self_attn\n",
    "\n",
    "    def forward(self,x):\n",
    "        # query = torch.matmul(x, self.query_weight)\n",
    "        # key   = torch.matmul(x, self.key_weight)\n",
    "        # value = torch.matmul(x, self.value_weight)\n",
    "        query = self.query_layer(x)\n",
    "        key   = self.key_layer(x)\n",
    "        value = self.value_layer(x)\n",
    "\n",
    "        multihead_attn = self.multihead_attention(query, key, value)\n",
    "        resi1 = multihead_attn + x\n",
    "        norm1 = self.layer_norm1(resi1)\n",
    "        feed_forw1 = self.ff1(norm1)\n",
    "        feed_forw1 = self.relu(feed_forw1)\n",
    "        feed_forw2 = self.ff2(feed_forw1)\n",
    "        resi2 = feed_forw2 + norm1\n",
    "        norm2 = self.layer_norm2(resi2)\n",
    "        return norm2"
   ]
  },
  {
   "cell_type": "code",
   "execution_count": null,
   "metadata": {
    "id": "G8ygdhfeRbO7"
   },
   "outputs": [],
   "source": [
    "from torch import nn\n",
    "import numpy as np"
   ]
  },
  {
   "cell_type": "code",
   "execution_count": null,
   "metadata": {
    "colab": {
     "base_uri": "https://localhost:8080/"
    },
    "id": "oE89OACUe182",
    "outputId": "3ab44429-3137-4fa1-ea6d-27cdf846fb70"
   },
   "outputs": [
    {
     "name": "stdout",
     "output_type": "stream",
     "text": [
      "[[14823, 83, 16, 325, 11, 465, 5, 14823, 83, 16, 325, 11, 465, 5], [14823, 83, 16, 325, 11, 465, 5, 14823, 83, 16, 325, 11, 465, 5]]\n"
     ]
    },
    {
     "data": {
      "text/plain": [
       "torch.Size([2, 14])"
      ]
     },
     "execution_count": 66,
     "metadata": {},
     "output_type": "execute_result"
    }
   ],
   "source": [
    "# output = tokenizer.encode_batch([\"Hello, y'all!\", \"How are you 😁 ?\"])\n",
    "output = tokenizer.encode_batch([[\"Hello, y'all!\", \"Hello, y'all!\"] , [\"Hello, y'all!\", \"Hello, y'all!\"]])\n",
    "# output = tokenizer.encode_batch([\"Hello, y'all!\", \"Hello, y'all!\"])\n",
    "output = [x.ids for x in output]\n",
    "print(output)\n",
    "torch.Tensor(output).shape"
   ]
  },
  {
   "cell_type": "code",
   "execution_count": null,
   "metadata": {
    "id": "v8bGKbY-IYLx"
   },
   "outputs": [],
   "source": [
    "del dataset"
   ]
  },
  {
   "cell_type": "code",
   "execution_count": null,
   "metadata": {
    "colab": {
     "base_uri": "https://localhost:8080/"
    },
    "id": "SpGiv79kmJUs",
    "outputId": "94efc833-ad33-494e-e17b-b38844c45776"
   },
   "outputs": [
    {
     "data": {
      "text/plain": [
       "tensor([[-0.7800,    -inf,    -inf,    -inf,    -inf],\n",
       "        [ 0.4139,  0.8619,    -inf,    -inf,    -inf],\n",
       "        [ 0.0748,  1.4514, -0.8199,    -inf,    -inf],\n",
       "        [ 0.0096,  0.4620,  0.9776,  1.5842,    -inf],\n",
       "        [ 0.3352,  0.5023,  1.7969, -1.3255,  0.2893]])"
      ]
     },
     "execution_count": 36,
     "metadata": {},
     "output_type": "execute_result"
    }
   ],
   "source": [
    "\n",
    "mask_upper_tri_matrix(torch.randn(5, 5))"
   ]
  },
  {
   "cell_type": "code",
   "execution_count": null,
   "metadata": {
    "id": "qjcdgR0klDsz"
   },
   "outputs": [],
   "source": [
    "class Decoder(nn.Module):\n",
    "    def __init__(self, nx, h, d, dk, dv, ffo_out) -> None:\n",
    "        super(Decoder, self).__init__()\n",
    "        self.nx = nx\n",
    "        self.h = h\n",
    "        self.d = d\n",
    "        self.dk = dk\n",
    "        self.dv = dv\n",
    "        self.layer_norm1 = nn.LayerNorm(d)\n",
    "        self.layer_norm2 = nn.LayerNorm(d)\n",
    "        self.layer_norm3 = nn.LayerNorm(d)\n",
    "        self.ffo_out = 2048\n",
    "        self.ff1 = nn.Linear(self.d , self.ffo_out)\n",
    "        self.ff2 = nn.Linear(self.ffo_out , self.d)\n",
    "        self.relu = nn.ReLU()\n",
    "\n",
    "    def forward(self,x,enc_x):\n",
    "        multihead_attn1 = MultiHeadAttention(self.h, self.d, self.dk, self.dv, mask=True)(x)\n",
    "        resi1 = multihead_attn1 + x\n",
    "        norm1 = self.layer_norm1(resi1)\n",
    "        multihead_attn2 = MultiHeadAttention(self.h, self.d, self.dk, self.dv, mask=False)(x,enc_x)\n",
    "        resi2 = multihead_attn2 + norm1\n",
    "        norm2 = self.layer_norm2(resi2)\n",
    "        feed_forw1 = self.ff1(norm2)\n",
    "        feed_forw1 = self.relu(feed_forw1)\n",
    "        feed_forw2 = self.ff2(feed_forw1)\n",
    "        resi3 = feed_forw2 + norm2\n",
    "        norm3 = self.layer_norm2(resi3)\n",
    "        return norm3"
   ]
  },
  {
   "cell_type": "code",
   "execution_count": null,
   "metadata": {},
   "outputs": [],
   "source": []
  },
  {
   "cell_type": "code",
   "execution_count": null,
   "metadata": {},
   "outputs": [],
   "source": []
  },
  {
   "cell_type": "code",
   "execution_count": null,
   "metadata": {},
   "outputs": [],
   "source": []
  },
  {
   "cell_type": "code",
   "execution_count": null,
   "metadata": {},
   "outputs": [],
   "source": []
  },
  {
   "cell_type": "code",
   "execution_count": 6,
   "metadata": {},
   "outputs": [],
   "source": [
    "# https://www.youtube.com/watch?v=ISNdQcPhsts\n",
    "\n",
    "import torch\n",
    "import torch.nn as nn\n",
    "import math\n",
    "# from config import config\n",
    "from datasets import load_dataset\n",
    "from tokenizers import Tokenizer\n",
    "from tokenizers.models import BPE\n",
    "from torch.utils.data import Dataset, DataLoader\n",
    "\n",
    "import numpy as np"
   ]
  },
  {
   "cell_type": "code",
   "execution_count": 1,
   "metadata": {},
   "outputs": [
    {
     "name": "stderr",
     "output_type": "stream",
     "text": [
      "C:\\Users\\sghavat\\Downloads\\work\\git\\pytorch-transformer\\pytorch-transformer_venv\\Lib\\site-packages\\tqdm\\auto.py:21: TqdmWarning: IProgress not found. Please update jupyter and ipywidgets. See https://ipywidgets.readthedocs.io/en/stable/user_install.html\n",
      "  from .autonotebook import tqdm as notebook_tqdm\n"
     ]
    }
   ],
   "source": [
    "from datasets import load_dataset\n",
    "from tokenizers import Tokenizer\n",
    "from tokenizers.models import BPE\n",
    "from tokenizers.trainers import BpeTrainer\n",
    "from tokenizers.pre_tokenizers import Whitespace\n",
    "from tqdm import tqdm\n",
    "\n",
    "dataset = load_dataset(\"cfilt/iitb-english-hindi\")\n",
    "train_data = dataset['train']\n",
    "\n",
    "def data_iterator(dataset):\n",
    "    for example in tqdm(dataset, desc=\"Training Tokenizer\", unit=\"example\"):\n",
    "        yield example['translation']['en']\n",
    "        yield example['translation']['hi']\n",
    "\n",
    "tokenizer = Tokenizer(BPE(unk_token=\"[UNK]\"))\n",
    "\n",
    "tokenizer.pre_tokenizer = Whitespace()\n",
    "\n",
    "special_tokens = [\"[UNK]\", \"[CLS]\", \"[SEP]\", \"[PAD]\", \"[MASK]\"]\n",
    "# trainer = BpeTrainer(special_tokens=special_tokens, vocab_size=30000, min_frequency=2)\n",
    "trainer = BpeTrainer(special_tokens=special_tokens)"
   ]
  },
  {
   "cell_type": "code",
   "execution_count": 2,
   "metadata": {},
   "outputs": [
    {
     "name": "stdout",
     "output_type": "stream",
     "text": [
      "DatasetDict({\n",
      "    train: Dataset({\n",
      "        features: ['translation'],\n",
      "        num_rows: 1659083\n",
      "    })\n",
      "    validation: Dataset({\n",
      "        features: ['translation'],\n",
      "        num_rows: 520\n",
      "    })\n",
      "    test: Dataset({\n",
      "        features: ['translation'],\n",
      "        num_rows: 2507\n",
      "    })\n",
      "})\n"
     ]
    }
   ],
   "source": [
    "print(dataset)"
   ]
  },
  {
   "cell_type": "code",
   "execution_count": 5,
   "metadata": {
    "scrolled": true
   },
   "outputs": [],
   "source": [
    "tokenizer.train_from_iterator(data_iterator(train_data), trainer=trainer)"
   ]
  },
  {
   "cell_type": "code",
   "execution_count": null,
   "metadata": {
    "id": "qjcdgR0klDsz"
   },
   "outputs": [],
   "source": [
    "tokenizer.save(\"bpe_tokenizer_combined.json\")"
   ]
  },
  {
   "cell_type": "code",
   "execution_count": null,
   "metadata": {},
   "outputs": [],
   "source": [
    "def data_iterator(dataset, lang):\n",
    "    for example in tqdm(dataset, desc=\"Training Tokenizer\", unit=\"example\"):\n",
    "        yield example['translation'][lang]"
   ]
  },
  {
   "cell_type": "code",
   "execution_count": null,
   "metadata": {},
   "outputs": [],
   "source": [
    "tokenizer_en = Tokenizer(BPE(unk_token=\"[UNK]\"))\n",
    "tokenizer_en.pre_tokenizer = Whitespace()\n",
    "special_tokens = [\"[UNK]\", \"[CLS]\", \"[SEP]\", \"[PAD]\", \"[MASK]\"]\n",
    "# trainer = BpeTrainer(special_tokens=special_tokens, vocab_size=30000, min_frequency=2)\n",
    "trainer = BpeTrainer(special_tokens=special_tokens)\n",
    "\n",
    "tokenizer_en.train_from_iterator(data_iterator(train_data, 'en'), trainer=trainer)\n",
    "\n",
    "tokenizer_en.save(\"bpe_tokenizer_en.json\")"
   ]
  },
  {
   "cell_type": "code",
   "execution_count": null,
   "metadata": {},
   "outputs": [],
   "source": [
    "tokenizer_hi = Tokenizer(BPE(unk_token=\"[UNK]\"))\n",
    "tokenizer_hi.pre_tokenizer = Whitespace()\n",
    "special_tokens = [\"[UNK]\", \"[CLS]\", \"[SEP]\", \"[PAD]\", \"[MASK]\"]\n",
    "# trainer = BpeTrainer(special_tokens=special_tokens, vocab_size=30000, min_frequency=2)\n",
    "trainer = BpeTrainer(special_tokens=special_tokens)\n",
    "\n",
    "tokenizer_hi.train_from_iterator(data_iterator(train_data, 'hi'), trainer=trainer)\n",
    "\n",
    "tokenizer_hi.save(\"bpe_tokenizer_hi.json\")"
   ]
  },
  {
   "cell_type": "code",
   "execution_count": 4,
   "metadata": {},
   "outputs": [
    {
     "name": "stdout",
     "output_type": "stream",
     "text": [
      "English tokens length: 2983\n",
      "Hindi tokens length: 2734\n"
     ]
    }
   ],
   "source": [
    "# hindi_sentence = \"दसवीं अनुसूची में अन्य बातों के साथ साथ यह उपबंध है कि: i संसद या राज्य विधानमंडल का कोई सदस्य जो किसी राजनीतिक दल द्वारा खड़े किए गए अभ्यर्थी के रूप में सदस्य निर्वाचित हुआ है, तथा संसद या राज्य विधानमंडल का कोई नामनिर्देशित सदस्य, जो अपना स्थान ग्रहण करने के समय किसी राजनीतिक दल का सदस्य हो, दल-बदल के आधार पर निरर्हित होगा यदि उसने ऐसे राजनीतिक दल की अपनी सदस्यता स्वेच्छा से छोड़ दी या ऐसे दल द्वारा दिए गए किसी निदेश के विरुद्ध मतदान किया हो या मतदान करने से विरत रहा है; हमारी संसद ii संसद या राज्य विधानमंडल का कोई सदस्य निरर्हित होगा यदि वह अपने निर्वाचन के बाद किसी राजनीतिक दल में सम्मिलित हो जाता है; iii संसद या राज्य विधानमंडल का कोई नामनिर्देशित सदस्य, जो उसके नामनिर्देशन के समय किसी राजनीतिक दल का सदस्य नहीं है तथा जो अपना स्थान ग्रहण करने की तारीख से छह मास की समाप्ति से पूर्व किसी राजनीतिक दल का सदस्य नहीं बन गया है, निरर्हित होगा यदि वह छह मास की उक्त अवधि की समाप्ति के बाद किसी राजनीतिक दल में सम्मिलित होता है; iv जहां कोई सदस्य दावा करता है कि वह किसी दल के विभाजन से या किसी दल के दूसरे दल में विलय से उत्पन्न गुट का प्रतिनिधित्व करने वाले समूह से संबद्ध है तो उस स्थिति में कोई निरर्हता नहीं होगी किंतु विभाजन की स्थिति में विधान दल के एक-तिहाई से अन्यून सदस्य और विलय की स्थिति में विधान-दल के दो-तिहाई से अन्यून सदस्य उस समूह में होने चाहिए; v कोई व्यक्ति, जो लोक सभा अथवा किसी राज्य की विधान सभा के अध्यक्ष या उपाध्यक्ष के पद पर अथवा राज्य सभा के उपसभापति या किसी राज्य की विधान परिषद के सभापति या उपसभापति के पद पर निर्वाचित हुआ है, यदि वह अपने राजनीतिक दल से संबंध विच्छेद कर लेता है तो वह निरर्हित नहीं होगा; vi यदि यह प्रश्न उठता है कि संसद या राज्य विधानमंडल के किसी सदन का कोई सदस्य निरर्हता से ग्रस्त हो गया है या नहीं तो उसका विनिश्चय उस सदन के सभापति या अध्यक्ष द्वारा किया जाएगा, जहां प्रश्न स्वयं सभापति या अध्यक्ष के संदर्भ में हो तो उसका विनिश्चय संबंधित सदन के उस सदस्य द्वारा किया जायेगा, जिसे इस निमित्त निर्वाचित किया गया हो; vii इस अनुसूची के उपबंधों को कार्यान्वित करने के लिए सदन के सभापति या अध्यक्ष को नियम बनाने की शक्ति प्रदान की गई है। \"\n",
    "\n",
    "# english_sentence = \"The Tenth Schedule inter alia provides that: i An elected member of Parliament or a State Legisla - ture, who has been elected as a candidate set up by a political party, and a nominated member of Parlia - ment or a State Legislature who is a member of a political party at the time he takes his seat would be disqualified on the ground of defection if he voluntar - ily relinquishes his membership of such political party or votes or abstains from voting in the House contrary to any direction of such party; ii an independent member of Parliament or a State Leg - islature will be disqualified if he joins any political; party after his election; iii a nominated member of Parliament or a State Legisla - ture who is not a member of a political party at the time of his nomination and who has not become a member of any political party before the expiry of six months from the date on which he takes his seat shall be disqualified if he joins any political party after the expiry of the said period of six months; iv no disqualification would be incurred where a mem - ber claims that he belongs to a group representing a faction arising from a split in a party or merger of a party in another, provided that in the event of a split the group consists of not less than one - third of the members of the legislature party and in case of a merger of not less than two - thirds of the members of the legislature party concerned; v no disqualification is incurred by a person who has been elected to the office of the Speaker or the Deputy Speaker of the House of the People or of the Legislative Assembly of a State or to the office of the Deputy Chairman of the Council of States or the Chairman or the Deputy Chairman of the Legislative Council of a State, if he severes his connection with his political party; vi the question as to whether a member of a House of Parliament or State Legislature has become subject to disqualification will be determined by the Chairman or the Speaker of the respective House; where the question is with reference to the Chairman or the Speaker himself, it will be decided by a member of the concerned House elected by it on that behalf; vii the Chairman or the Speaker of a House have been empowered to make rules for giving effect to the provisions of the Schedule.\"\n",
    "\n",
    "# hindi_sentence = \"134, 135 विजय 6 क्षेत्रफल, ओड़िसा का 2 कांची-विजय और मणिका-ग्वालिन 162-63 क्षेत्रीय भाषा, 4,9 कांची आंवला ओषा 92-93 कानूनी अपराध 25 खंडाइत 10 कान्दणा 14 खारबेल राजा 6 काम पत्नी 15 खींचिंग मंदिर 1 कामर 49 खीर-चोर-गोपीनाथ 58 कामरु-गुरु 75 खुदुरकुगी ओषा 90 कार्तिक पूर्णिमा 87 खेलगीत 100 कार्य गीत 100 खोंड 9 काल चक्र 103 ओड़िसाः लोक-संस्कृति और साहित्य गंगवंशी राजाओं की विजय 6 ग्रामीण प्रकृति 3 गंगा 56 ग्वालिन का दूध बिलोना बेहेरा झिअत मोहिले गंजाम 22,124-25 दुध लो 128,129,130,131 गंजामी 4 गंजीकटा 104 घट पटुआ 106 गंडेइशुणि 85 घरेलू गाथाएं 36 गउड़ 10 घुमरा नृत्य 104 गड़बा 35,54,62,73,74 घुमरा सअर 104 गणेश चतुर्थी 86 गदबा 12,13,16,22,23,40-42 चंडक पूजा 84 गम्हा-पुनेई 85 चंडी 68 गम्हा पूर्णिमा 85-86 चंदन जात्रा 82,97 गर्भणा संक्राति 86-87 चंद्र-ग्रहण 51-52,53 गांजा 61 चंद्र पंचाग 53 गांधी, महात्मा 60 चंद्रभागा 56,83 चकुलियां 30,34 154-61 चढ़ावा 67,72,93 गाड़ीवान का गीत शकड़िया गीत 30,124,125 मनोकामना के पूर्ण होने पर 65 गाथा गीत गाथा गीतिका 31,35-37,116 चमार 10 117,118,119,120,121 चरवाहा गीत 30,34-35 गाय की कुर्बानी 66-67 चषा 10 गालियां गीत 98 चावल का मद 64 गुंजीकटा 101 चितउ अमावस्या 85 गुंडिचा 82 चिलेरी 13 गुप्तासिंह 18 चुरुट 62 गुरुवार ओषा 87-88 चैतन्य, श्री 1,6 गोंड 9,21,60,62,63,68 चैती घोड़ा नाट 89,101 गोदना 97 चैती मंगलवार ओषा 93 गोदना गीत 31,33 चैत्र उत्सव गीत 31 गोदावरी 56 चोल राजाओं का आक्रमण 6 गो-बलि की प्रथा 66-67 गोविन्दचंद्र, राजा 37 छंगु 64 गो हत्या 24 छंद 98 गौड़ 13 छऊ नृत्य 101-103 ग्रामदेवियां 69 आधारभूत तत्व 102 ग्रामीण कला 98 छड़ाखाई 87 ग्राणीण पुरोहित 29 छतुवा संक्रांति 84 छत्तीसगढ़ी 4 छूला गीत दोळि गीत 30,313,35,112,113,114,115,116,117 जगन्नाथ 1,82,85 झोडिया 13 जगन्नाथ पंथ 1,58 जगन्नाथ, भगवान 2,58,80,82,83 टोनहा 65,75 जगन्नाथ मंदिर 6 टोनहाइ 65 जगूड़ा 63 टोनही 72,73,74 जन-श्रुति 42 टोना-टोटका 74 जनसंख्या 2-3 जनमाष्टमा 86 ठाकुर जी 49 जन्ह मामूं 53 ठाकुराणी 93 जन्ही ओषा 91 जमुडिया कृष्ण 103 डयूंगसूम 50 जमुदली 104 डलखाई 101 जल-प्रलय 53 डाकिनी 73 जांगुलेई 93 डायन 26,72,74,75 जाति पंचायतें 23-24 डायन में विश्वास 65 जाति प्रथा 29 डोम 62 जातियों एवं जनजातियों का उद्गम 12-14 डोरा 12,13 जात्रा 105 तंती 10 जात्रा नृसिंह 104 तंबाकू 61 जादुई शक्ति 72,73 खेती 62 जादूगरी 75 मिथक 61 जादू टोना 72 ताड़ी 61,62 जामुडाली 101 तिमका 66 जुआंग 5,16,35,57,59,62,63,69,70 तीज-त्यौहार 93 जुआंग मिथक 50 तीर्थाटन का केंद्र 1 जुताई गीत 30 तेली 10,23 जुलाहा 23 त्यौहार गीत 100 जैन 1 त्रि-नाथ मेला पंथ 59 जोगी गीत 30,36-37 त्रिमूर्ति 49 ज्ञान गुरु 75 दंडनाटक 81,101 झभार 60 दंड निर्धारण 25 झाड़ फूंक संबंधी गीत 30 दन्तेश्वरी 59 झामू जात्रा 82 दराम्मसुम 20 ओड़िसाः लोक-संस्कृति और साहित्य दलखाई गीत 31 नाग नृत्य 103-04 दलराई 35 निआं-पटुआ 82 दाशकठिया 106 निरंतली देवी 17,19,20,66,77 दास, संस्कार 21 नृत्य 1 दिदई 48,52,54,78 नृत्य संगीत 101 दियाडी 13 दियामती कनिया 61 पंचुक व्रत 92 दीपावली 87 पंडागीत 30 दुतिया ओषा 91 पटचित्र 1 दुर्गा 68 पटनायक 94 दुर्गापूजा 80,86 पट-भोक्ता 81 दूतीवाहन ओषा 91 पटुआ 106 देव और देवियां 58 पटुआ जात्रा 84 देशज पंथ 71 पतर सउरुनी 57 देशी संगीत 101 पद्मतोला गीत 32,33 दौल जात्रा 83 परजा 35 द्रविड़ 4,9 परमगुट्टी 19,20 पर-स्त्री-पुरुष संबंध 24 धनु-संक्रांति 88 परेंगा 13 धरणी-पिन्नु 69 पर्व 80 धरमा 42-43 पाईक नृत्य 104 धरमेश 60 पाणइ 10 धर्म और जादू-टोना 65-79 पारिवारिक तालमेल 18-19 धर्म और पशु बलि का उद्भव 66 पाला 105 धर्म का आरंभ 65-66 पहाड़ी सअर 63,70 धर्म-पत्नी 15 पहाड़ी-बोंडो 65 धोबी 10,29 न्यायालय 25 पहेली/बुझौवल नां दिया 140,141,142,143 नदियां 56-58 पितर 60 नर्मदा 56 पितृवंशीय समाज 21 नवान्न 85 पुत्री 104 नाई 29 पुनर्विवाह की प्रथा 18 नाग चउठी ओषा 92 पुराणकथा और पौराणिकी 47-64 पुरोहित प्रथा 66,68,90 बाल-विवाह 29 पूष पुनेई 88 बाली तृतीया 91 पेंग 13 बालेसरी 4 पोइली 15 बासुली देवी 68,99 प्रजनन 19 बासेली 68 प्रजातीय इतिहास 5-6 बाहुडा यात्रा 83 प्रणय-गीत 98 बिंझल 49 प्रताप रुद्रदेव 6 बिंझवार 9,49,50,55,59,60,63 फुगड़ी गीत 31 63,78,93,94 बोंडोपरजा 5,18 बंगला 4 बोरम 64 बंगाली संस्कृति 9 बोरोड़ी 9 बंडा परजा गीत 142,143 बोस, एन. के. 5 बंध्यापन 19 बौद्ध धर्म 1,81 बऊली 104 ब्रह्मपुत्र 56 बग पंचुक 92 ब्रह्म हत्या 24 बड़ ओषा 83 ब्राह्मण 8,9,10,13,23,29 बढ़ई 10 ब्राह्मणी नदी 56 बर्मन 94 ब्राह्मी लिपि 4 बलभद्र 82 भंवर गीत 39 बलि प्रथा 66,93 भइना 70 बसंत पंचमी 88 भईयां 9 बांकी 104 भगोरिया 15 बांकी मुलाखी 101 भजन 31 बांसरानी के गीत 33-34 भतरी 4 बाड़म्बा रियासत 68 भविष्य-कथन 75 बाण-मरा 73 भविष्य-पुराण 53 बातों में कौन जीतेगा, कृष्ण को कथा रे के जिव भांग 61 कृषण कु जिणि 122-23 भागवत दुंगी 8 बार्टोंक, बेला 100 भाण-बसा 87 ओड़िसाः लोक-संस्कृति और साहित्य भारिया 13 माली 13 भाषाई भिन्नता 6 महाशिवरात्रि 83 भित्ति कला 1 मिथक और मिथक शास्त्र 16,47-64,65,66 भिमाई 55 68-69,75,78 भीम महाप्रभु 55 मुंडा 24,102 भुइयां 16,21,35,49,59,60,64,69,86 मुंडा-बारीक देव 69 मुंडारी 4,9 भूमिया गीत 142,143 मुंडारी गीत मुण्डारी गीत 144,145 भोई गदबा 13 मुखर्जी, सी. 49,74,75,93 भोक्ता 81 मुगल तमाशा 107 भौगोलिक विभाजन 3 मुगलवंश 6 मुझे बिसूरना मते झुरुथिबु 136,137 मंड 61 मुठा 24 मंडारी 60 मुरि 25,62 मंद 62 मुलरी 104 मकर संक्रांति 88 मूर्ति कला 1 मगर की पीठ पर समन्दर पार 120-21 मृत्यु 21,78-79 मत्रा 35 मेला 80 मद 61,64 मैथिली 4 मनुष्य बलि 71 मैदिनीपुरी 4 मैलाजार 101 मरांग 75 मौखिक साहित्य 27-46 मराठा 59 मौनावती 37 मराल 69 मलयावन 62 यदि वे होते बापा थआंते 134,135 महानदी यमुना महापात्र, सीताकांत 86,94,101,103 युद्ध गीत 30 महाभारत 1,13,56,102 महिषासुर वध 103 रक्तबोल 67,71,93 मांझी गीत नाउरिया गीत 132,133 रजड़ पर्व 85 माझी गीत 30 रजदोली 97 माथालजार 104 रजपर्व 85,113 मादक द्रव्य 60 रथ जात्रा 82 मानिकचंद्र, राजा 37 रथ यात्रा 80,82,97 माया साबरी 103 रसकेलि 101,104 मारंग बरुआ 17 राई दानोदर व्रत 92 मारिधा 26 राखिनी 15 राजनैतिक शक्ति एवं प्रभुत्व 24 लोकोक्ति और मुहावरे ढ़ग ढ़माळि 138,139, राना 35 140,141 रामचंडी 70 लोक गायक 100 रामलीला 84 लोक गीत 19,27,28,75 रामानुजाचार्य, संत 6 निर्माण की कथा और महत्व और महात्म्य रामायण 13,102 30-31 रामायण काल 5 प्रकार 31-39 रीति-रिवाजों के उद्गम और विकास 47 स्वरूप 30 रुदन गीत कांदणा गीत 130,131,132,133 लोक नाट्य 105-09 रूमरोक 78 कर्मा 107 रोग 78 दाशकठिया 106 रोना 13 पटुआ 106 पाला 105-06 ललित कला 1 मुगल तमाशा 107 लारिया 4 लोक नृत्य 101-04 लिंगराज 1 लोक परंपरा 58,100 लिपि 4 लोक विश्वास 77 लोंद्रुका 66 लोक संगीत 98-101 लोक कथा 16,19,28,40,75 मौखिक परंपरा 99-101 आरंभ, विस्तार और अंत 41-42 लोक साहित्य 18,27,28 दंड 43 लोरी 30,38,98 दानवी 45-46 लोहार 10,19,20 मालिन 44-45 मित्रता 44 वंदना 126,127,128,129 रक्षा 44 वंशी चोरी 103 राजा और राजकुमार 43 वधू-मूल्य 14 विभाजन 43 वर्जित यौन संबंध 24 शंकर-पार्वती 46 वर्षा की उत्पत्ति 54 साथी पशु 45 वसंतोत्सव 94 लोक कला 95-98 वसुधा देवी 51,52,60,69 चित्रां 97 वाक्-पटु-कृष्ण 122-23 जीवन में अनुस्यूत 97-98 वाराह शूकर 49-50 द्वार-सज्जा 97 वास्तुकला 1 रूप-भेद 96-97 विवाह सौंदर्यात्मक ऊंचाई 95-96 उद्गम 16-18 स्वाधीन व्यक्तित्व 98 नियमों का उल्लंघन 24 ओड़िसाः लोक-संस्कृति और साहित्य परिवार एवं परिजन 14-15 संयुक्त परिवार प्रथा 18,29 महत्व 15-16 सअर 59,62 विच्छेद 16,24 सअर गीत सउरा गीत 142,143 विश्वकर्मा 59 सअर नदी 57 विषुव-संक्रांति 81 सकमार नाच 102 वीर-गीत 100 सती 76 वृन्दावती देवी 91-92 सत्तू-संक्रांति 84 वेदव्यास 56 सत्यवान सावित्री कथा 22 वैतरिणी नदी 56 सबर 5,35,50 वैधव्य 18 सबर टोका 103 वैष्णव जाति 10 समलेश्वरी 59 व्यंग्य 39 सरगड़ा-किटुंग 70 व्यंग्य गीत 28,98,100 सरस्वती 56 सर्जक रुशी 50 शंकराचार्य 1 सर्वोच्च देवता 60 शकुन 65,75 सांभाल 35 शराब 61,63 सांस्कृतिक एकता 1,2 शिलालेख 4 सांस्कृतिक विविधता 7 शिव तांडव 103 साओरा 5,9 शिव-रात्रि 80 साउरूनी देवी 69 शिशु-गीत 38 साक्षरता 2 शुभ-मुहूर्त 65 साक्षी-गोपाल 58 श्रृंगार गीत 35 साबरा 16,20,22,24 शोक गीत 30,31 सामयिक अनुष्ठान 93 श्राद्ध तर्पण 22 सारथी गीत 30 श्री क्षेत्र 82 सावित्री व्रत 90 साहित्यिक गतिविधियां 4 षष्ठी ओषा 91 सिंगबोंग 49,60 सिंगी आर्के 50,60 संगात 92 सिबेई सांतरा 42 संथाल 24,49,72,74,75,94,102 सिरहा प्रथा 66,67,68,70,72,74,90 संथाली 4,60 सीता बोई 13,14 संपेरा गीत 30,32-33,124,125,126,127 सीमा बोगा 93 संबलपुरी 4 सुआरी 5,9 सुकांति, संत 57 स्तुति गीत 126,127,128,129 सुकाबेंज 57 स्थानीय देवता 59,67 सुकारमल्ला देवी 69 स्वप्न 75,77 सुकेशा 68 सुंदर 136,137,138,139 हत्या 25-26 सुभद्रा 82 हड़प्पा, संत 37 सूअर 35 हलवाहा गीत 31-32 सूर्य ग्रहण 51-52,53 हास्य गीत 98 सूय-चंद्र मित्र 50-52 हिंडोला गीत 100 सूर्य पंचागं 53 हिंदू समाज का प्रभाव 5 सूर्यवंशी राजा 4 हुमों 101,104 सृष्टि की उत्पत्ति 47-49 हेंगुलेई 93 सेती सीसा 66 हो 16,24 सोम वंश 6 होम 31 स्टीक्स 56 होली 88-89 स्तर केलि 31 होली गीत दोळि गीत 112,113\"\n",
    "\n",
    "# english_sentence = \"Puranic 70 'Goti' system, a variety of serfdom 116 Govinda Chandra, his life story Guppa Sing, offerings to 24 Hadipa, Mayanabati becomes disciple of 46 Harishchandra, legend of 42 Hill Bhuiyan offer pig during Dusserah to local goddess 105 Hill Bondo, primitive tribe, their story of Creation 58 their myths 62, 64 - 6 6 Hill Saora 18 their myths, 18, 21, 26, 59, 80 their notions about the brahmin 18 Hindu castes in old days 17 Hindu pantheon 18, 60, 69, 82, 97 - 100 some local gods assimilated into 81 the trinity Brahma, Vishnu, Shiva 60, 70 Hindu Raja, powers of 30 Hinduism, its local cults imbibed by tribals 12 Hingulei, goddess 114 Hirakud Dam 14 Holi 101, 108 legend about 108 Humo songs of love 44 Indra 47 rains attributed to God 66 Inter - village organisation among Oraons, Mundas, Santhals 31 Intoxicants, their role in life of tribals 33 Jagannath, cult of 2 festival of Lord 97 Impact of Jainism on 2 in folk songs 38 myths about 70 Jagannath temple, architecture and sculpture of 1 Jahni Osha, myth behind 111 Jainism, impact on Jagannath cult 2 Jajpur, centre of Shakti cult 67 Jala mahura antidote to snake poison 41 Jamshedpur, migration to industrial areas of 13 Jangulei goddess 114 Janha Mamu 63 Janmashtami, festival of 104 Jatra, held on birthday of Nrusimha 127 Jeypore, Raja of 17 Jeypore hills 17 Jhamu Jatra Nian Patua 98 Jhodia, one of 12 Gadaba brothers 17 Jimutavahana 42 Joint family system 37 Juang 44, 83 local deities of 83 myth about origin of water 68 - 69 Juvenile games 48 songs 48 Kaibarta Purana 108 Kala Paharh, story of 82 Kalahandi district 4, 12 Kalanka Deota ', how he caused death 29 Kalarei, story of 49 Kalasha pitcher of water, worship of 104 Kali, myths and worship of 71 worshipped as' Kalasha '104 Kalindi lake, seven - headed Kaliya monarch of 40 Kalinga empire 1, 5 Kaliya, cobra descendant of 40 Kama Kunjara cupid' s elephant painted on temple and house walls 118 Kama Patni and Dharma Patni 20 Kamgein Budhi, temple of 84 Kamru guru 90 Kanda root 16 Kandanas folk songs 18, 24 Kandha aboriginals 44 Kanji - Amla Osha, goddess Shathi 's worship by housewives 113 Kanji, soup of fermented rice 113 Kansa, legend of 40 Kantakuanri goddess 70 Karma festival 130 Kama 427 sacrifice of 46 Kartika Pumima 105 Keonjhar district 4, 12 Keshari dynasty 8 Ketar - raji Ketar - gumi Kittung' s wife, Ajerangdiye 18 Kharavela, king 8 Khiching temple 1 Khudurukuni Osha, worship of Goddess Mangala 110 Kittung Supreme God 22, 23, 26, 80 Kolar, one of 12 Gadaba brothers 17 Konarka temple 1 Kond, one of 12 Gadaba brothers 17 Kond and Saora under village organisation 31 Konda Dora of Koraput district Konds11 their myths 69, 88 Koraput district 4, 12 Kosala, western Orissa 8 Krishna 40 his sandal - mark on cobra 40 Kulta agricultural class, its caste deity 71 Kumar Purnima 105 Kunti, her advice to Bhima 42 mother of Pandavas 63 Sun God consorting with 63 Kuraitusum Kittung Kittung Mahaprabhu Hill Saora myth 59 Kuttia Kond, their myths 25, 60, 63, 79, 93 Laria, linguistic variation of Oriya in Sambalpur district 5 Law courts under Afghan and Moghal rulers 31 Lakshmi, Goddess 70 worshipped by Juangs 6 Lingaraj temple, Bhubaneswar 1, 100 Saora, legend about 18 Lord Mahadeva 114 '' Lord Rama, victory, of, in Ram Leela 101 worship of Shiva, Parvati by 111 Lord Shiva, boons from worshipped by Buddhists dislodged from their position 97, 98 Lord Surya Sun God, worship of 100 Love songs of aboriginals 44 Balangir 44, Bhuiyan aboriginals 44 Kalahandi 44 Sambalpur 44 spring festival 44 Machhkund Dam 14 Magh Saptami Mela 100 Magic, common belief in 87 Maha Shiva Ratri 100 Mahabharata, divine characters of 18 Orissa in the days of 1, 5 Mahalaya day, start of 10 - day worship of Goddess Durga 104 Mahanadi 4, 6 Stone Age remains found along 5 Mahaprabhu 17, 94 Bondo beliefs about 60, 64 Hill Saora myths about 60 Mahatma Gandhi, influence of 73 Mahima Gosain, preaches Alekh Mahima Dharma 85 Makara Samkranti, worship of Lord Shiva during 107 Malika forecast 64 Mcma Basa or Gurubara Osha, Thursday worship of Lakshmi 106 Mandiabur hill 18 Mangala, Queen of Bamboo prays to 41 Marang Baru 90 offering of vermilion to 23 Marathas, conquest of Orissa by 8 Maria, one of 12 Gadaba brothers 17 witches greatest menace to 32 Marriage, restrictions about, 19 in tribes 19 Mayanabati, her teaching 46 Mayurbhanj district 4 Medinipuri, a linguistics varia - tion of Oriya in Midnapur district of West Bengal 5 Mediterranean type, general population has sprinkling of 7 Melana, centre of congregation 101 Mughd Tatnasa, a form of opera songs composed in Oriya and Persian in 130 Muakkal - Kanda root 16 Mughals, conquest of Orissa by 8 Mukherjea, C 89, 90, 114 Munda Barik 82 Mundari language 12 speaking Juangs of Keonjhar district 5 Poems 149 Mythology 57 - 77 Myths 57 - 77 Naga Chauthi Osha 112 Naga Dance 127 Nagamata Serpent Mother Goddess, myth about 113 Narasingha Deb, emperor, asked to construct Sun Temple at Konarka 51 Nirantali Supreme Goddess 25 myths about her offspring 22, 26 Occupational structure, no study of 13 Odissi dance 1 music 1 Odradesha kingdom 1 Oral Literature Selections from 134 - 151 Oraon Poems 150 Orissa, cultural complexity of 9 its five divisions 4 its location 1 its people 2, 11 its total population 2 literacy in 3 oral literature of 34 - 56 regional differences in 11 rich in folk literature 34 Oriya ballads, their three groups 46 direct descendant of eastern Magadhi 5 its linguistic variations 5 people, 1, 14, 24 script derived from Brahmi script 5 spoken by some tribal com - munities 12 Osha, fast undertaken only by women 96, 110 Padma Purana, myth about Par - vati in 112 Pala, institution to popularise ancient Oriya literature 129 Panchuka five auspicious days 110 Panchuka Panchaka Vrata fast by 'widows 112 Panda 42 a handful of rice given to 108 Brahmans 42 Paradip, deep sea - port at 14 Paraja aboriginals 43 Parenga, one of 12 Gadaba brothers 17 Pastoral songs, content of 43 Pata Bhokta, leader of devotees 98 Patachitra, drawings on canvas, popular 118 Patni wife, types of 20 Patrilineal society of Orissa 19 Patta - chitra painting on cloth 11 Patua Jatra 101 Pausha Ravivar Vrata 63 Pengu, one of 12 Gadaba brothers 17 Thalguna, Shiva Ratri celebrated in 100 Phulbani district 4 Pratap Rudra Deb of Surya dynasty 8 Prathamashtami, festival for well - being of first born 106 Pre - marital experimentation among tribal communities 21 Prc - marital sex - relationship among Santhals and Saoras 21 Proverbs 91, 147 Puppetry most ancient folk art 131 traditional family aft 133 Pusha Punein, full moon festival of Bhuiyan, Gond tribes 107 Rahu - Ketu myth about eclipses 64 Rai Damodar Vrata, myth be - hind 112 Raja, loyalty towards 31 Raja Parab, swing festival for girls 102 Rama, Sitaboi married to 18 Rama Leela 101 Ramachandi, goddess patron - deity of Kolta caste 83 Ramayana, Hindu influence through 17 Rana aboriginals 43 Ranadiu Kittung, Sitaboi marries 18 Rath Jatra, legend about 99 festival in Orissa except in Sambalpur district 97 Ravana, Rama' s war against 112 Ravinarayan Vrata 63 Rayagada, heavy industries near Religion and Magic 78 - 95 Religious worship, tlwin 's account of myths about 78 - 60 Riddles 148 Ritual idiom, types of sacrifices in 85 - 86 Rourkela, establishment of heavy industries near 14 Rupansuri, myths about 18 Rushi in Juang myths 60 Sabar tribe Suari 6 Sahada tree 92 Sajanagad temple 82 Sajani, songs of love 44 Sambaleishwari, Goddess 71 Sambalpur 12 dances of 123 Sambalpuri, a linguistic variation of Oriya 5 Samkranti day, worship on 119 Santhal, aboriginals 43 customs and traditions 59, 87 of Mayurbhanj suspected of murders 89 society and marriage 23 Saora aboriginals 6, 12, 18, 43 gods and goddesses of 18 Saora tribe 6, 12 Saraswati worshipped as Kalasha 104 Sargada Kittung, myths about 84 Sauruni Goddess 82 savar Saora aboriginals 43 Savitri Vrata, story behind 110 Savitri - Satyavan theme, Binjhwar tale matching with 28 Selected Folktales 152 - 163 Shakti, local goddesses versions of 82 Shamba, myth of 107 Shanivar, day of Saturn 92 Shankaracharya, visit to Shrikshetra Puri 1 Shathi Osha 111 Shiva and Parvati, worship of local deities versions of 25, 39, 55, 64 Shivaratri 96 Shraddha offered to ancestral spirits every year 28, 91 Shri Chaitanya, his influence 1, Shri Ramanuja, spiritual influence of 8 Sibei Santara, legend of 51 Sibi, his sacrifice 47 Siddha Basuli 42 Sita Devi, her curse 6 Sitabai, legend of 18 Snake charmer plays on nageswara and sings' padmatola '40 Social Institutions 16 - 33 Soma dynasty 8 Songs 140, 141, 144, 152 - 154 of Tribals 148 of Dalkhai, Humo, Rasar Keli 38 Sorcery, practice of, among Santhals 87 Soul Hindu idea of, 27 immortality of, 28 Muslim and Christian beliefs in 28 Stories 155 - 162 seven categories of 52 Story - telling, its setting 49 - 50 Subarnarekha river 4 Sukaramalla, temple of local goddess, destroyed by Kala Paharh 82 Sukesha, Saori woman story about 82 Sun Temple, Konarka, legend of 51 - 52 Sunabeda in Koraput district 14 Sundargarh district 4, 12 Surya Dynasty 8 Swing songs, themes of 43 Talcher, power and industrial complexes near 14 Ta' poi, legend of Taraki demoness 17 Taraki Asurini 17 Tattoo song, its theme 41 Tattooing 41, 119 themes depicted in 119 Temples, painting on walls of 118 Thakurani, goddess 114 Thursday, sacred to Lakshmi, goddess of wealth 106 Traditional occuptions, shift from 13 Traditions 16 - 33 Tribal, his attitude to murder 32 Tribal areas of Phulbani, Ganjam, Koraput districts 12 communities葉heir distinc - tive sets of gods and goddesses 71 important languages, Mun - dari, Santali, Saora and kui / kuvi 5 marriage customs and forms 20 Tribal Myths of Orissa by Verrier Elwin 16, 93 Tribals, festivities among 114 Tribes, concept of supreme God among 72 and Castes, origins of 16 - 17 Trinath Mela, trinity in 70 Uda jatra Uda Patua 98 Untouchables and scheduled castes, isolation of 10 Upanishads on caste system 85 translation into Oriya 5 Urajang, first Oriya inscription discovered at 5 Utkala, name for Orissa 1 Uyungsum, Sun goddess 60 Vaishakha, first month: of Oriya solar calendar 97 'Vaishnava, Radha and Krishna images in the temples 100 - tradition in Orissa 70 Vaishnavism, conversipn of Ganga dynasty to 8 Vali 42 Vasanta Panchami, worship of Saraswati on 108 Vedas and Puranas 10, 11 Village goddesses, first fruits offered to 81 priest, role of 36 society, domination of zamin - dars and moneylenders in 36 Vishnu 81, Vishwakarma, god of arts and crafts 82 Visuva Samkranti, sacred to Buddhists 98 Vratas 109 - 114 Vrundavati Goddess 111 Widows, their status in society 23 Witches and witch - doctors 32, Ojhas and Jan Gurus 90 Yama God of Death 28, 29, 110 legends relating to the god of death 28, 29 Yayatinagara, capital of Kosala kingdom in W. Orissa 8 Yogi, his outfit 45 Printed at larang Printers, Delhi Without a real modern city centre, Orissa has been truly a State of thoroughly agrarian villages with their innate charm of folk music, dance, songs and other arts belonging to folk tradition.\"\n",
    "\n",
    "tokenizer = Tokenizer.from_file(\"bpe_tokenizer_combined.json\")\n",
    "\n",
    "english_tokens = tokenizer.encode(english_sentence).tokens\n",
    "hindi_tokens = tokenizer.encode(hindi_sentence).tokens\n",
    "\n",
    "# Print the tokenized sentences\n",
    "print(f\"English tokens length: {len(english_tokens)}\")\n",
    "print(f\"Hindi tokens length: {len(hindi_tokens)}\")"
   ]
  },
  {
   "cell_type": "code",
   "execution_count": 10,
   "metadata": {},
   "outputs": [
    {
     "name": "stderr",
     "output_type": "stream",
     "text": [
      "Pre-tokenizing dataset: 100%|██████████████████████████████████████████████| 1659083/1659083 [09:31<00:00, 2903.46it/s]\n"
     ]
    }
   ],
   "source": [
    "def pretokenize_dataset(dataset, tokenizer, max_length=128):\n",
    "    pad_token_id = tokenizer.token_to_id(\"[PAD]\")\n",
    "    cls_token_id = tokenizer.token_to_id(\"[CLS]\")\n",
    "    sep_token_id = tokenizer.token_to_id(\"[SEP]\")\n",
    "    \n",
    "    tokenized_data = []\n",
    "    for example in tqdm(dataset['train'], desc=\"Pre-tokenizing dataset\"):\n",
    "        en_text = example[\"translation\"][\"en\"]\n",
    "        hi_text = example[\"translation\"][\"hi\"]\n",
    "        \n",
    "        en_tokens = tokenizer.encode(en_text).ids\n",
    "        hi_tokens = tokenizer.encode(hi_text).ids\n",
    "        \n",
    "        en_tokens = [cls_token_id] + en_tokens + [sep_token_id]\n",
    "        hi_tokens = [cls_token_id] + hi_tokens + [sep_token_id]\n",
    "        \n",
    "        if len(en_tokens) < max_length:\n",
    "            en_tokens += [pad_token_id] * (max_length - len(en_tokens))\n",
    "        else:\n",
    "            en_tokens = en_tokens[:max_length]\n",
    "            \n",
    "        if len(hi_tokens) < max_length:\n",
    "            hi_tokens += [pad_token_id] * (max_length - len(hi_tokens))\n",
    "        else:\n",
    "            hi_tokens = hi_tokens[:max_length]\n",
    "            \n",
    "        tokenized_data.append((en_tokens, hi_tokens))\n",
    "    return tokenized_data\n",
    "\n",
    "# dataset = load_dataset(\"cfilt/iitb-english-hindi\")[\"train\"]\n",
    "tokenizer = Tokenizer.from_file(\"bpe_tokenizer_combined.json\")\n",
    "max_length = 128\n",
    "\n",
    "pretokenized_data = pretokenize_dataset(dataset, tokenizer, max_length=max_length)"
   ]
  },
  {
   "cell_type": "code",
   "execution_count": 13,
   "metadata": {},
   "outputs": [],
   "source": [
    "torch.save(pretokenized_data, \"pretokenized_data.pt\")"
   ]
  },
  {
   "cell_type": "code",
   "execution_count": 4,
   "metadata": {
    "id": "bUJ9fEjui9pQ"
   },
   "outputs": [
    {
     "ename": "NameError",
     "evalue": "name 'nn' is not defined",
     "output_type": "error",
     "traceback": [
      "\u001b[1;31m---------------------------------------------------------------------------\u001b[0m",
      "\u001b[1;31mNameError\u001b[0m                                 Traceback (most recent call last)",
      "Cell \u001b[1;32mIn[4], line 1\u001b[0m\n\u001b[1;32m----> 1\u001b[0m \u001b[38;5;28;01mclass\u001b[39;00m\u001b[38;5;250m \u001b[39m\u001b[38;5;21;01mPositionalEncoding\u001b[39;00m(\u001b[43mnn\u001b[49m\u001b[38;5;241m.\u001b[39mModule):\n\u001b[0;32m      2\u001b[0m     \u001b[38;5;28;01mdef\u001b[39;00m\u001b[38;5;250m \u001b[39m\u001b[38;5;21m__init__\u001b[39m(\u001b[38;5;28mself\u001b[39m, d_model, dropout\u001b[38;5;241m=\u001b[39m\u001b[38;5;241m0.1\u001b[39m, max_len\u001b[38;5;241m=\u001b[39m\u001b[38;5;241m5000\u001b[39m):\n\u001b[0;32m      3\u001b[0m \u001b[38;5;250m        \u001b[39m\u001b[38;5;124;03m\"\"\"\u001b[39;00m\n\u001b[0;32m      4\u001b[0m \u001b[38;5;124;03m        Implements the standard positional encoding as described in \u001b[39;00m\n\u001b[0;32m      5\u001b[0m \u001b[38;5;124;03m        'Attention is All You Need' (Vaswani et al.)\u001b[39;00m\n\u001b[0;32m      6\u001b[0m \u001b[38;5;124;03m        \"\"\"\u001b[39;00m\n",
      "\u001b[1;31mNameError\u001b[0m: name 'nn' is not defined"
     ]
    }
   ],
   "source": [
    "class PositionalEncoding(nn.Module):\n",
    "    def __init__(self, d_model, dropout=0.1, max_len=5000):\n",
    "        \"\"\"\n",
    "        Implements the standard positional encoding as described in \n",
    "        'Attention is All You Need' (Vaswani et al.)\n",
    "        \"\"\"\n",
    "        super(PositionalEncoding, self).__init__()\n",
    "        self.dropout = nn.Dropout(p=dropout)\n",
    "        \n",
    "        # Create constant positional encoding matrix of shape (max_len, d_model)\n",
    "        pe = torch.zeros(max_len, d_model)\n",
    "        position = torch.arange(0, max_len, dtype=torch.float).unsqueeze(1)\n",
    "        # Compute the div term\n",
    "        div_term = torch.exp(torch.arange(0, d_model, 2).float() * (-math.log(10000.0) / d_model))\n",
    "        # Apply sine to even indices and cosine to odd indices\n",
    "        pe[:, 0::2] = torch.sin(position * div_term)\n",
    "        pe[:, 1::2] = torch.cos(position * div_term)\n",
    "        # Add batch dimension\n",
    "        pe = pe.unsqueeze(0)  # shape: (1, max_len, d_model)\n",
    "        # Register as buffer (not a parameter, but saved with the model)\n",
    "        self.register_buffer('pe', pe)\n",
    "    \n",
    "    def forward(self, x):\n",
    "        \"\"\"\n",
    "        x: Tensor of shape (batch_size, seq_len, d_model)\n",
    "        \"\"\"\n",
    "        x = x + self.pe[:, :x.size(1)]\n",
    "        return self.dropout(x)"
   ]
  },
  {
   "cell_type": "code",
   "execution_count": 4,
   "metadata": {
    "id": "FIcMWA965N7d"
   },
   "outputs": [],
   "source": [
    "class SelfAttention(nn.Module):\n",
    "    def __init__(self, d, dk, dv, mask):\n",
    "        super(SelfAttention, self).__init__()\n",
    "        self.query_layer = nn.Linear(d,dk)\n",
    "        self.key_layer = nn.Linear(d,dk)\n",
    "        self.value_layer = nn.Linear(d,dv)\n",
    "        self.d = d\n",
    "        self.dk = dk\n",
    "        self.dv = dv\n",
    "        self.mask = mask\n",
    "\n",
    "    def mask_upper_tri_matrix(matrix):\n",
    "        upper_triangle_mask = torch.triu(torch.ones_like(matrix, dtype=torch.bool), diagonal=1)\n",
    "        return matrix.masked_fill(upper_triangle_mask, float('-inf'))\n",
    "\n",
    "    def forward(self, x, enc_x=None):\n",
    "        query = self.query_layer(x)\n",
    "        if enc_x is not None:\n",
    "            key   = self.key_layer(enc_x)\n",
    "            value = self.value_layer(enc_x)\n",
    "        else:\n",
    "            key   = self.key_layer(x)\n",
    "            value = self.value_layer(x)\n",
    "        qt = torch.bmm(query, torch.transpose(key,1,2))\n",
    "        if self.mask:\n",
    "            qt = self.mask_upper_tri_matrix(qt)\n",
    "        attn_weights = nn.Softmax(dim=-1)(qt/np.sqrt(self.dk))\n",
    "        self_attn = torch.bmm(qt, value)\n",
    "        return self_attn"
   ]
  },
  {
   "cell_type": "code",
   "execution_count": null,
   "metadata": {
    "id": "jgU2Sjz-55S_"
   },
   "outputs": [],
   "source": [
    "class MultiHeadAttention(nn.Module):\n",
    "    def __init__(self, h, d, dk, dv, mask):\n",
    "        super(MultiHeadAttention, self).__init__()\n",
    "        self.ffo = nn.Linear(h * dv , d)\n",
    "        self.self_attns = nn.ModuleList([SelfAttention(d, dk, dv, mask) for _ in range(h)])\n",
    "\n",
    "    def forward(self,x,enc_x=None):\n",
    "        head_outputs = []\n",
    "        for self_attn in self.self_attns:\n",
    "            head_output = self_attn(x , enc_x)\n",
    "            head_outputs.append(head_output)\n",
    "        multihead = torch.concat(head_outputs, dim=-1)\n",
    "        return self.ffo(multihead)"
   ]
  },
  {
   "cell_type": "code",
   "execution_count": null,
   "metadata": {},
   "outputs": [],
   "source": [
    "class EncoderBlock(nn.Module):\n",
    "    def __init__(self, h, d, dk, dv, ffo_out):\n",
    "        super(EncoderBlock, self).__init__()\n",
    "        self.layer_norm1 = nn.LayerNorm(d)\n",
    "        self.layer_norm2 = nn.LayerNorm(d)\n",
    "        self.ff1 = nn.Linear(d, ffo_out)\n",
    "        self.ff2 = nn.Linear(ffo_out, d)\n",
    "        self.relu = nn.ReLU()\n",
    "        multihead_attn = MultiheadAttention(h, d, dk, dv, mask=False)\n",
    "\n",
    "    def forward(self, x):\n",
    "        mha = multihead_attn(x)\n",
    "        resi1 = mha + x\n",
    "        norm1 = self.layer_norm1(resi1)\n",
    "        feed_forw1 = self.ff1(norm1)\n",
    "        feed_forw1 = self.relu(feed_forw1)\n",
    "        feed_forw2 = self.ff2(feed_forw1)\n",
    "        resi2 = feed_forw2 + norm1\n",
    "        norm2 = self.layer_norm2(resi2)\n",
    "        return norm2"
   ]
  },
  {
   "cell_type": "code",
   "execution_count": null,
   "metadata": {},
   "outputs": [],
   "source": [
    "class DecoderBlock(nn.Module):\n",
    "    def __init__(self, h, d, dk, dv, ffo_out):\n",
    "        super(DecoderBlock, self).__init__()\n",
    "        self.layer_norm1 = nn.LayerNorm(d)\n",
    "        self.layer_norm2 = nn.LayerNorm(d)\n",
    "        self.layer_norm3 = nn.LayerNorm(d)\n",
    "        self.ffo_out = 2048\n",
    "        self.ff1 = nn.Linear(self.d , self.ffo_out)\n",
    "        self.ff2 = nn.Linear(self.ffo_out , self.d)\n",
    "        self.relu = nn.ReLU()\n",
    "        multihead_attn1 = MultiheadAttention(h, d, dk, dv, mask=True)\n",
    "        multihead_attn2 = MultiheadAttention(h, d, dk, dv, mask=False)\n",
    "\n",
    "    def forward(self, x, enc_x):\n",
    "        mha1 = self.multihead_attn1(x)\n",
    "        resi1 = mha1 + x\n",
    "        norm1 = self.layer_norm1(resi1)\n",
    "        multihead_attn2 = self.multihead_attn1(x,enc_x)\n",
    "        resi2 = multihead_attn2 + norm1\n",
    "        norm2 = self.layer_norm2(resi2)\n",
    "        feed_forw1 = self.ff1(norm2)\n",
    "        feed_forw1 = self.relu(feed_forw1)\n",
    "        feed_forw2 = self.ff2(feed_forw1)\n",
    "        resi3 = feed_forw2 + norm2\n",
    "        norm3 = self.layer_norm2(resi3)\n",
    "        return norm3"
   ]
  },
  {
   "cell_type": "code",
   "execution_count": null,
   "metadata": {
    "id": "vspiO6yxSh1U"
   },
   "outputs": [],
   "source": [
    "class Encoder(nn.Module):\n",
    "    def __init__(self, nx, h, d, dk, dv, ffo_out) -> None:\n",
    "        super(Encoder, self).__init__() \n",
    "        self.encoder_blocks = nn.ModuleList([EncoderBlock(h, d, dk, dv, ffo_out) for _ in range(nx)])\n",
    "\n",
    "    def forward(self,x):\n",
    "        for encoder_block in self.encoder_blocks:\n",
    "            x = encoder_block(x)\n",
    "        return x"
   ]
  },
  {
   "cell_type": "code",
   "execution_count": null,
   "metadata": {
    "id": "vspiO6yxSh1U"
   },
   "outputs": [],
   "source": [
    "class Decoder(nn.Module):\n",
    "    def __init__(self, nx, h, d, dk, dv, ffo_out) -> None:\n",
    "        super(Decoder, self).__init__() \n",
    "        self.decoder_blocks = nn.ModuleList([DecoderBlock(h, d, dk, dv, ffo_out) for _ in range(nx)])\n",
    "\n",
    "    def forward(self, x, enc_x):\n",
    "        for decoder_block in self.decoder_blocks:\n",
    "            x = decoder_block(x, enc_x)\n",
    "        return x"
   ]
  },
  {
   "cell_type": "code",
   "execution_count": 7,
   "metadata": {},
   "outputs": [
    {
     "data": {
      "text/plain": [
       "torch.Size([10, 15])"
      ]
     },
     "execution_count": 7,
     "metadata": {},
     "output_type": "execute_result"
    }
   ],
   "source": [
    "# indices, 1000 unique words in vocab, 10 sentences 15 words each after padding\n",
    "x = torch.randint(0,1000, (10,15))\n",
    "x.shape"
   ]
  },
  {
   "cell_type": "code",
   "execution_count": null,
   "metadata": {
    "id": "uv585CzRUBKI"
   },
   "outputs": [],
   "source": [
    "class Transformer(nn.Module):\n",
    "    def __init__(self, tokenizer, nx=6, d=512, dk=64, dv=64, h=8, ffo_out = 2048) -> None:\n",
    "        super(Transformer, self).__init__()\n",
    "        self.tokenizer = tokenizer\n",
    "        self.nx = 6\n",
    "        self.d = 512\n",
    "        self.dk = 64\n",
    "        self.dv = 64\n",
    "        self.h = 8\n",
    "        self.ffo_out = 2048\n",
    "        self.inp_embedding = nn.Embedding(self.tokenizer.get_vocab_size(), self.d, max_norm=True)\n",
    "        self.out_embedding = nn.Embedding(self.tokenizer.get_vocab_size(), self.d, max_norm=True)\n",
    "        self.positional_encoding = PositionalEncoding()\n",
    "        self.encoder = Encoder(nx = self.nx, h = self.h, d = self.d, dk = self.dk, dv = self.dv, ffo_out = self.ffo_out)\n",
    "        self.decoder = Decoder(nx = self.nx, h = self.h, d = self.d, dk = self.dk, dv = self.dv, ffo_out = self.ffo_out)\n",
    "        self.projection = nn.Linear(self.d, self.tokenizer.get_vocab_size())\n",
    "        self.softmax = nn.Softmax(dim=-1)\n",
    "\n",
    "    def forward(self, input_tokens, output_tokens):\n",
    "        # input_tokens = torch.tensor(input_tokens, dtype=torch.int64)\n",
    "        x = self.inp_embedding(input_tokens)\n",
    "        x = self.positional_encoding(x)\n",
    "        x = self.encoder(x)\n",
    "        dec_x = self.out_embedding(output_tokens)\n",
    "        x = self.decoder(dec_x, x)\n",
    "        x = self.projection(x)\n",
    "        x = self.softmax(x)\n",
    "        return out"
   ]
  },
  {
   "cell_type": "code",
   "execution_count": null,
   "metadata": {
    "colab": {
     "base_uri": "https://localhost:8080/"
    },
    "id": "JntmaNHEgcfc",
    "outputId": "7aedfac0-4ef6-442a-c762-e10e3568278d"
   },
   "outputs": [
    {
     "name": "stdout",
     "output_type": "stream",
     "text": [
      "torch.Size([2, 7, 256])\n"
     ]
    }
   ],
   "source": [
    "# model = Transformer(tokenizer)(torch.LongTensor(output))\n",
    "model = Transformer(tokenizer)(torch.tensor(output, dtype=torch.int64))"
   ]
  },
  {
   "cell_type": "code",
   "execution_count": null,
   "metadata": {
    "colab": {
     "base_uri": "https://localhost:8080/"
    },
    "id": "KU9TKP5MUSG0",
    "outputId": "3973d3e8-1e36-4f48-cabe-735048c97bbf"
   },
   "outputs": [
    {
     "name": "stdout",
     "output_type": "stream",
     "text": [
      "[[[tensor([0, 0, 0, 0]), tensor([12879,  3828,   350,   350]), tensor([ 593, 2199, 4508, 4508]), tensor([ 2865, 15705,  6824,  6824]), tensor([  388, 13974, 11074, 11074]), tensor([20185,  2803,   331,   331]), tensor([  872, 19351,   228,   228]), tensor([  678, 18660,  8304,  3070]), tensor([   2,    2, 9578, 9578]), tensor([1, 1, 2, 2]), tensor([1, 1, 1, 1]), tensor([1, 1, 1, 1]), tensor([1, 1, 1, 1]), tensor([1, 1, 1, 1]), tensor([1, 1, 1, 1]), tensor([1, 1, 1, 1]), tensor([1, 1, 1, 1]), tensor([1, 1, 1, 1]), tensor([1, 1, 1, 1]), tensor([1, 1, 1, 1]), tensor([1, 1, 1, 1]), tensor([1, 1, 1, 1]), tensor([1, 1, 1, 1]), tensor([1, 1, 1, 1]), tensor([1, 1, 1, 1]), tensor([1, 1, 1, 1]), tensor([1, 1, 1, 1]), tensor([1, 1, 1, 1]), tensor([1, 1, 1, 1]), tensor([1, 1, 1, 1]), tensor([1, 1, 1, 1]), tensor([1, 1, 1, 1]), tensor([1, 1, 1, 1]), tensor([1, 1, 1, 1]), tensor([1, 1, 1, 1]), tensor([1, 1, 1, 1]), tensor([1, 1, 1, 1]), tensor([1, 1, 1, 1]), tensor([1, 1, 1, 1]), tensor([1, 1, 1, 1]), tensor([1, 1, 1, 1]), tensor([1, 1, 1, 1]), tensor([1, 1, 1, 1]), tensor([1, 1, 1, 1]), tensor([1, 1, 1, 1]), tensor([1, 1, 1, 1]), tensor([1, 1, 1, 1]), tensor([1, 1, 1, 1]), tensor([1, 1, 1, 1]), tensor([1, 1, 1, 1]), tensor([1, 1, 1, 1]), tensor([1, 1, 1, 1]), tensor([1, 1, 1, 1]), tensor([1, 1, 1, 1]), tensor([1, 1, 1, 1]), tensor([1, 1, 1, 1]), tensor([1, 1, 1, 1]), tensor([1, 1, 1, 1]), tensor([1, 1, 1, 1]), tensor([1, 1, 1, 1]), tensor([1, 1, 1, 1]), tensor([1, 1, 1, 1]), tensor([1, 1, 1, 1]), tensor([1, 1, 1, 1]), tensor([1, 1, 1, 1]), tensor([1, 1, 1, 1]), tensor([1, 1, 1, 1]), tensor([1, 1, 1, 1]), tensor([1, 1, 1, 1]), tensor([1, 1, 1, 1]), tensor([1, 1, 1, 1]), tensor([1, 1, 1, 1]), tensor([1, 1, 1, 1]), tensor([1, 1, 1, 1]), tensor([1, 1, 1, 1]), tensor([1, 1, 1, 1]), tensor([1, 1, 1, 1]), tensor([1, 1, 1, 1]), tensor([1, 1, 1, 1]), tensor([1, 1, 1, 1]), tensor([1, 1, 1, 1]), tensor([1, 1, 1, 1]), tensor([1, 1, 1, 1]), tensor([1, 1, 1, 1]), tensor([1, 1, 1, 1]), tensor([1, 1, 1, 1]), tensor([1, 1, 1, 1]), tensor([1, 1, 1, 1]), tensor([1, 1, 1, 1]), tensor([1, 1, 1, 1]), tensor([1, 1, 1, 1]), tensor([1, 1, 1, 1]), tensor([1, 1, 1, 1]), tensor([1, 1, 1, 1]), tensor([1, 1, 1, 1]), tensor([1, 1, 1, 1]), tensor([1, 1, 1, 1]), tensor([1, 1, 1, 1]), tensor([1, 1, 1, 1]), tensor([1, 1, 1, 1]), tensor([1, 1, 1, 1]), tensor([1, 1, 1, 1]), tensor([1, 1, 1, 1]), tensor([1, 1, 1, 1]), tensor([1, 1, 1, 1]), tensor([1, 1, 1, 1]), tensor([1, 1, 1, 1]), tensor([1, 1, 1, 1]), tensor([1, 1, 1, 1]), tensor([1, 1, 1, 1]), tensor([1, 1, 1, 1]), tensor([1, 1, 1, 1]), tensor([1, 1, 1, 1]), tensor([1, 1, 1, 1]), tensor([1, 1, 1, 1]), tensor([1, 1, 1, 1]), tensor([1, 1, 1, 1]), tensor([1, 1, 1, 1]), tensor([1, 1, 1, 1]), tensor([1, 1, 1, 1]), tensor([1, 1, 1, 1]), tensor([1, 1, 1, 1]), tensor([1, 1, 1, 1]), tensor([1, 1, 1, 1]), tensor([1, 1, 1, 1]), tensor([1, 1, 1, 1]), tensor([1, 1, 1, 1]), tensor([1, 1, 1, 1])], [tensor([0, 0, 0, 0]), tensor([1435,  905,  212, 7812]), tensor([207, 208, 209, 213]), tensor([  421,   221,  1871, 12268]), tensor([230, 207, 207, 210]), tensor([  237,   206, 12268,   207]), tensor([208, 208, 210, 277]), tensor([721, 221, 207, 209]), tensor([217, 205, 277, 283]), tensor([  244, 11108,   209,   515]), tensor([210, 543, 283, 209]), tensor([217, 891, 515, 353]), tensor([543, 679, 209, 217]), tensor([891, 213, 353, 227]), tensor([679, 575, 217, 208]), tensor([213, 205, 227, 280]), tensor([575, 421, 208, 232]), tensor([205, 208, 280, 208]), tensor([ 252,  234,  232, 1825]), tensor([208, 207, 208,  17]), tensor([ 219, 1345, 1825,  907]), tensor([205,   2,  17, 361]), tensor([219,   1, 907, 205]), tensor([205,   1, 361, 216]), tensor([223,   1, 205, 205]), tensor([210,   1, 216,   2]), tensor([205,   1, 205,   1]), tensor([277,   1,   2,   1]), tensor([205,   1,   1,   1]), tensor([316,   1,   1,   1]), tensor([271,   1,   1,   1]), tensor([246,   1,   1,   1]), tensor([2, 1, 1, 1]), tensor([1, 1, 1, 1]), tensor([1, 1, 1, 1]), tensor([1, 1, 1, 1]), tensor([1, 1, 1, 1]), tensor([1, 1, 1, 1]), tensor([1, 1, 1, 1]), tensor([1, 1, 1, 1]), tensor([1, 1, 1, 1]), tensor([1, 1, 1, 1]), tensor([1, 1, 1, 1]), tensor([1, 1, 1, 1]), tensor([1, 1, 1, 1]), tensor([1, 1, 1, 1]), tensor([1, 1, 1, 1]), tensor([1, 1, 1, 1]), tensor([1, 1, 1, 1]), tensor([1, 1, 1, 1]), tensor([1, 1, 1, 1]), tensor([1, 1, 1, 1]), tensor([1, 1, 1, 1]), tensor([1, 1, 1, 1]), tensor([1, 1, 1, 1]), tensor([1, 1, 1, 1]), tensor([1, 1, 1, 1]), tensor([1, 1, 1, 1]), tensor([1, 1, 1, 1]), tensor([1, 1, 1, 1]), tensor([1, 1, 1, 1]), tensor([1, 1, 1, 1]), tensor([1, 1, 1, 1]), tensor([1, 1, 1, 1]), tensor([1, 1, 1, 1]), tensor([1, 1, 1, 1]), tensor([1, 1, 1, 1]), tensor([1, 1, 1, 1]), tensor([1, 1, 1, 1]), tensor([1, 1, 1, 1]), tensor([1, 1, 1, 1]), tensor([1, 1, 1, 1]), tensor([1, 1, 1, 1]), tensor([1, 1, 1, 1]), tensor([1, 1, 1, 1]), tensor([1, 1, 1, 1]), tensor([1, 1, 1, 1]), tensor([1, 1, 1, 1]), tensor([1, 1, 1, 1]), tensor([1, 1, 1, 1]), tensor([1, 1, 1, 1]), tensor([1, 1, 1, 1]), tensor([1, 1, 1, 1]), tensor([1, 1, 1, 1]), tensor([1, 1, 1, 1]), tensor([1, 1, 1, 1]), tensor([1, 1, 1, 1]), tensor([1, 1, 1, 1]), tensor([1, 1, 1, 1]), tensor([1, 1, 1, 1]), tensor([1, 1, 1, 1]), tensor([1, 1, 1, 1]), tensor([1, 1, 1, 1]), tensor([1, 1, 1, 1]), tensor([1, 1, 1, 1]), tensor([1, 1, 1, 1]), tensor([1, 1, 1, 1]), tensor([1, 1, 1, 1]), tensor([1, 1, 1, 1]), tensor([1, 1, 1, 1]), tensor([1, 1, 1, 1]), tensor([1, 1, 1, 1]), tensor([1, 1, 1, 1]), tensor([1, 1, 1, 1]), tensor([1, 1, 1, 1]), tensor([1, 1, 1, 1]), tensor([1, 1, 1, 1]), tensor([1, 1, 1, 1]), tensor([1, 1, 1, 1]), tensor([1, 1, 1, 1]), tensor([1, 1, 1, 1]), tensor([1, 1, 1, 1]), tensor([1, 1, 1, 1]), tensor([1, 1, 1, 1]), tensor([1, 1, 1, 1]), tensor([1, 1, 1, 1]), tensor([1, 1, 1, 1]), tensor([1, 1, 1, 1]), tensor([1, 1, 1, 1]), tensor([1, 1, 1, 1]), tensor([1, 1, 1, 1]), tensor([1, 1, 1, 1]), tensor([1, 1, 1, 1]), tensor([1, 1, 1, 1]), tensor([1, 1, 1, 1]), tensor([1, 1, 1, 1]), tensor([1, 1, 1, 1]), tensor([1, 1, 1, 1])]], [[tensor([1, 1, 1, 1]), tensor([1, 1, 1, 1]), tensor([1, 1, 1, 1]), tensor([1, 1, 1, 1]), tensor([1, 1, 1, 1]), tensor([1, 1, 1, 1]), tensor([1, 1, 1, 1]), tensor([1, 1, 1, 1]), tensor([1, 1, 1, 1]), tensor([0, 0, 1, 1]), tensor([0, 0, 0, 0]), tensor([0, 0, 0, 0]), tensor([0, 0, 0, 0]), tensor([0, 0, 0, 0]), tensor([0, 0, 0, 0]), tensor([0, 0, 0, 0]), tensor([0, 0, 0, 0]), tensor([0, 0, 0, 0]), tensor([0, 0, 0, 0]), tensor([0, 0, 0, 0]), tensor([0, 0, 0, 0]), tensor([0, 0, 0, 0]), tensor([0, 0, 0, 0]), tensor([0, 0, 0, 0]), tensor([0, 0, 0, 0]), tensor([0, 0, 0, 0]), tensor([0, 0, 0, 0]), tensor([0, 0, 0, 0]), tensor([0, 0, 0, 0]), tensor([0, 0, 0, 0]), tensor([0, 0, 0, 0]), tensor([0, 0, 0, 0]), tensor([0, 0, 0, 0]), tensor([0, 0, 0, 0]), tensor([0, 0, 0, 0]), tensor([0, 0, 0, 0]), tensor([0, 0, 0, 0]), tensor([0, 0, 0, 0]), tensor([0, 0, 0, 0]), tensor([0, 0, 0, 0]), tensor([0, 0, 0, 0]), tensor([0, 0, 0, 0]), tensor([0, 0, 0, 0]), tensor([0, 0, 0, 0]), tensor([0, 0, 0, 0]), tensor([0, 0, 0, 0]), tensor([0, 0, 0, 0]), tensor([0, 0, 0, 0]), tensor([0, 0, 0, 0]), tensor([0, 0, 0, 0]), tensor([0, 0, 0, 0]), tensor([0, 0, 0, 0]), tensor([0, 0, 0, 0]), tensor([0, 0, 0, 0]), tensor([0, 0, 0, 0]), tensor([0, 0, 0, 0]), tensor([0, 0, 0, 0]), tensor([0, 0, 0, 0]), tensor([0, 0, 0, 0]), tensor([0, 0, 0, 0]), tensor([0, 0, 0, 0]), tensor([0, 0, 0, 0]), tensor([0, 0, 0, 0]), tensor([0, 0, 0, 0]), tensor([0, 0, 0, 0]), tensor([0, 0, 0, 0]), tensor([0, 0, 0, 0]), tensor([0, 0, 0, 0]), tensor([0, 0, 0, 0]), tensor([0, 0, 0, 0]), tensor([0, 0, 0, 0]), tensor([0, 0, 0, 0]), tensor([0, 0, 0, 0]), tensor([0, 0, 0, 0]), tensor([0, 0, 0, 0]), tensor([0, 0, 0, 0]), tensor([0, 0, 0, 0]), tensor([0, 0, 0, 0]), tensor([0, 0, 0, 0]), tensor([0, 0, 0, 0]), tensor([0, 0, 0, 0]), tensor([0, 0, 0, 0]), tensor([0, 0, 0, 0]), tensor([0, 0, 0, 0]), tensor([0, 0, 0, 0]), tensor([0, 0, 0, 0]), tensor([0, 0, 0, 0]), tensor([0, 0, 0, 0]), tensor([0, 0, 0, 0]), tensor([0, 0, 0, 0]), tensor([0, 0, 0, 0]), tensor([0, 0, 0, 0]), tensor([0, 0, 0, 0]), tensor([0, 0, 0, 0]), tensor([0, 0, 0, 0]), tensor([0, 0, 0, 0]), tensor([0, 0, 0, 0]), tensor([0, 0, 0, 0]), tensor([0, 0, 0, 0]), tensor([0, 0, 0, 0]), tensor([0, 0, 0, 0]), tensor([0, 0, 0, 0]), tensor([0, 0, 0, 0]), tensor([0, 0, 0, 0]), tensor([0, 0, 0, 0]), tensor([0, 0, 0, 0]), tensor([0, 0, 0, 0]), tensor([0, 0, 0, 0]), tensor([0, 0, 0, 0]), tensor([0, 0, 0, 0]), tensor([0, 0, 0, 0]), tensor([0, 0, 0, 0]), tensor([0, 0, 0, 0]), tensor([0, 0, 0, 0]), tensor([0, 0, 0, 0]), tensor([0, 0, 0, 0]), tensor([0, 0, 0, 0]), tensor([0, 0, 0, 0]), tensor([0, 0, 0, 0]), tensor([0, 0, 0, 0]), tensor([0, 0, 0, 0]), tensor([0, 0, 0, 0]), tensor([0, 0, 0, 0]), tensor([0, 0, 0, 0]), tensor([0, 0, 0, 0]), tensor([0, 0, 0, 0]), tensor([0, 0, 0, 0]), tensor([0, 0, 0, 0])], [tensor([1, 1, 1, 1]), tensor([1, 1, 1, 1]), tensor([1, 1, 1, 1]), tensor([1, 1, 1, 1]), tensor([1, 1, 1, 1]), tensor([1, 1, 1, 1]), tensor([1, 1, 1, 1]), tensor([1, 1, 1, 1]), tensor([1, 1, 1, 1]), tensor([1, 1, 1, 1]), tensor([1, 1, 1, 1]), tensor([1, 1, 1, 1]), tensor([1, 1, 1, 1]), tensor([1, 1, 1, 1]), tensor([1, 1, 1, 1]), tensor([1, 1, 1, 1]), tensor([1, 1, 1, 1]), tensor([1, 1, 1, 1]), tensor([1, 1, 1, 1]), tensor([1, 1, 1, 1]), tensor([1, 1, 1, 1]), tensor([1, 1, 1, 1]), tensor([1, 0, 1, 1]), tensor([1, 0, 1, 1]), tensor([1, 0, 1, 1]), tensor([1, 0, 1, 1]), tensor([1, 0, 1, 0]), tensor([1, 0, 1, 0]), tensor([1, 0, 0, 0]), tensor([1, 0, 0, 0]), tensor([1, 0, 0, 0]), tensor([1, 0, 0, 0]), tensor([1, 0, 0, 0]), tensor([0, 0, 0, 0]), tensor([0, 0, 0, 0]), tensor([0, 0, 0, 0]), tensor([0, 0, 0, 0]), tensor([0, 0, 0, 0]), tensor([0, 0, 0, 0]), tensor([0, 0, 0, 0]), tensor([0, 0, 0, 0]), tensor([0, 0, 0, 0]), tensor([0, 0, 0, 0]), tensor([0, 0, 0, 0]), tensor([0, 0, 0, 0]), tensor([0, 0, 0, 0]), tensor([0, 0, 0, 0]), tensor([0, 0, 0, 0]), tensor([0, 0, 0, 0]), tensor([0, 0, 0, 0]), tensor([0, 0, 0, 0]), tensor([0, 0, 0, 0]), tensor([0, 0, 0, 0]), tensor([0, 0, 0, 0]), tensor([0, 0, 0, 0]), tensor([0, 0, 0, 0]), tensor([0, 0, 0, 0]), tensor([0, 0, 0, 0]), tensor([0, 0, 0, 0]), tensor([0, 0, 0, 0]), tensor([0, 0, 0, 0]), tensor([0, 0, 0, 0]), tensor([0, 0, 0, 0]), tensor([0, 0, 0, 0]), tensor([0, 0, 0, 0]), tensor([0, 0, 0, 0]), tensor([0, 0, 0, 0]), tensor([0, 0, 0, 0]), tensor([0, 0, 0, 0]), tensor([0, 0, 0, 0]), tensor([0, 0, 0, 0]), tensor([0, 0, 0, 0]), tensor([0, 0, 0, 0]), tensor([0, 0, 0, 0]), tensor([0, 0, 0, 0]), tensor([0, 0, 0, 0]), tensor([0, 0, 0, 0]), tensor([0, 0, 0, 0]), tensor([0, 0, 0, 0]), tensor([0, 0, 0, 0]), tensor([0, 0, 0, 0]), tensor([0, 0, 0, 0]), tensor([0, 0, 0, 0]), tensor([0, 0, 0, 0]), tensor([0, 0, 0, 0]), tensor([0, 0, 0, 0]), tensor([0, 0, 0, 0]), tensor([0, 0, 0, 0]), tensor([0, 0, 0, 0]), tensor([0, 0, 0, 0]), tensor([0, 0, 0, 0]), tensor([0, 0, 0, 0]), tensor([0, 0, 0, 0]), tensor([0, 0, 0, 0]), tensor([0, 0, 0, 0]), tensor([0, 0, 0, 0]), tensor([0, 0, 0, 0]), tensor([0, 0, 0, 0]), tensor([0, 0, 0, 0]), tensor([0, 0, 0, 0]), tensor([0, 0, 0, 0]), tensor([0, 0, 0, 0]), tensor([0, 0, 0, 0]), tensor([0, 0, 0, 0]), tensor([0, 0, 0, 0]), tensor([0, 0, 0, 0]), tensor([0, 0, 0, 0]), tensor([0, 0, 0, 0]), tensor([0, 0, 0, 0]), tensor([0, 0, 0, 0]), tensor([0, 0, 0, 0]), tensor([0, 0, 0, 0]), tensor([0, 0, 0, 0]), tensor([0, 0, 0, 0]), tensor([0, 0, 0, 0]), tensor([0, 0, 0, 0]), tensor([0, 0, 0, 0]), tensor([0, 0, 0, 0]), tensor([0, 0, 0, 0]), tensor([0, 0, 0, 0]), tensor([0, 0, 0, 0]), tensor([0, 0, 0, 0]), tensor([0, 0, 0, 0]), tensor([0, 0, 0, 0]), tensor([0, 0, 0, 0]), tensor([0, 0, 0, 0]), tensor([0, 0, 0, 0]), tensor([0, 0, 0, 0])]]]\n"
     ]
    }
   ],
   "source": [
    "train_data_loader = DataLoader(ds, batch_size=4, shuffle=False)\n",
    "for i in train_data_loader:\n",
    "    print(i)\n",
    "    break"
   ]
  },
  {
   "cell_type": "code",
   "execution_count": null,
   "metadata": {
    "colab": {
     "base_uri": "https://localhost:8080/",
     "height": 402
    },
    "id": "HliikPOVzfw0",
    "outputId": "552de139-33d5-4a67-fc62-055647c1d226"
   },
   "outputs": [
    {
     "name": "stdout",
     "output_type": "stream",
     "text": [
      "<class '__main__.Transformer'>\n"
     ]
    },
    {
     "name": "stderr",
     "output_type": "stream",
     "text": [
      "<ipython-input-164-b6569de0eef8>:19: UserWarning: To copy construct from a tensor, it is recommended to use sourceTensor.clone().detach() or sourceTensor.clone().detach().requires_grad_(True), rather than torch.tensor(sourceTensor).\n",
      "  input_tokens = torch.tensor(input_tokens, dtype=torch.int64)\n"
     ]
    },
    {
     "ename": "RuntimeError",
     "evalue": "batch1 must be a 3D tensor",
     "output_type": "error",
     "traceback": [
      "\u001b[0;31m---------------------------------------------------------------------------\u001b[0m",
      "\u001b[0;31mRuntimeError\u001b[0m                              Traceback (most recent call last)",
      "\u001b[0;32m<ipython-input-167-0af46bd20615>\u001b[0m in \u001b[0;36m<cell line: 4>\u001b[0;34m()\u001b[0m\n\u001b[1;32m      2\u001b[0m \u001b[0mmodel\u001b[0m \u001b[0;34m=\u001b[0m \u001b[0mTransformer\u001b[0m\u001b[0;34m(\u001b[0m\u001b[0mtokenizer\u001b[0m\u001b[0;34m)\u001b[0m\u001b[0;34m\u001b[0m\u001b[0;34m\u001b[0m\u001b[0m\n\u001b[1;32m      3\u001b[0m \u001b[0mprint\u001b[0m\u001b[0;34m(\u001b[0m\u001b[0mtype\u001b[0m\u001b[0;34m(\u001b[0m\u001b[0mmodel\u001b[0m\u001b[0;34m)\u001b[0m\u001b[0;34m)\u001b[0m\u001b[0;34m\u001b[0m\u001b[0;34m\u001b[0m\u001b[0m\n\u001b[0;32m----> 4\u001b[0;31m \u001b[0msummary\u001b[0m\u001b[0;34m(\u001b[0m\u001b[0mmodel\u001b[0m \u001b[0;34m,\u001b[0m \u001b[0minput_size\u001b[0m\u001b[0;34m=\u001b[0m\u001b[0;34m(\u001b[0m\u001b[0;36m100\u001b[0m\u001b[0;34m,\u001b[0m\u001b[0;36m2\u001b[0m\u001b[0;34m,\u001b[0m\u001b[0;36m7\u001b[0m\u001b[0;34m)\u001b[0m\u001b[0;34m)\u001b[0m\u001b[0;34m\u001b[0m\u001b[0;34m\u001b[0m\u001b[0m\n\u001b[0m",
      "\u001b[0;32m/usr/local/lib/python3.10/dist-packages/torchsummary/torchsummary.py\u001b[0m in \u001b[0;36msummary\u001b[0;34m(model, input_size, batch_size, device)\u001b[0m\n\u001b[1;32m     70\u001b[0m     \u001b[0;31m# make a forward pass\u001b[0m\u001b[0;34m\u001b[0m\u001b[0;34m\u001b[0m\u001b[0m\n\u001b[1;32m     71\u001b[0m     \u001b[0;31m# print(x.shape)\u001b[0m\u001b[0;34m\u001b[0m\u001b[0;34m\u001b[0m\u001b[0m\n\u001b[0;32m---> 72\u001b[0;31m     \u001b[0mmodel\u001b[0m\u001b[0;34m(\u001b[0m\u001b[0;34m*\u001b[0m\u001b[0mx\u001b[0m\u001b[0;34m)\u001b[0m\u001b[0;34m\u001b[0m\u001b[0;34m\u001b[0m\u001b[0m\n\u001b[0m\u001b[1;32m     73\u001b[0m \u001b[0;34m\u001b[0m\u001b[0m\n\u001b[1;32m     74\u001b[0m     \u001b[0;31m# remove these hooks\u001b[0m\u001b[0;34m\u001b[0m\u001b[0;34m\u001b[0m\u001b[0m\n",
      "\u001b[0;32m/usr/local/lib/python3.10/dist-packages/torch/nn/modules/module.py\u001b[0m in \u001b[0;36m_wrapped_call_impl\u001b[0;34m(self, *args, **kwargs)\u001b[0m\n\u001b[1;32m   1530\u001b[0m             \u001b[0;32mreturn\u001b[0m \u001b[0mself\u001b[0m\u001b[0;34m.\u001b[0m\u001b[0m_compiled_call_impl\u001b[0m\u001b[0;34m(\u001b[0m\u001b[0;34m*\u001b[0m\u001b[0margs\u001b[0m\u001b[0;34m,\u001b[0m \u001b[0;34m**\u001b[0m\u001b[0mkwargs\u001b[0m\u001b[0;34m)\u001b[0m  \u001b[0;31m# type: ignore[misc]\u001b[0m\u001b[0;34m\u001b[0m\u001b[0;34m\u001b[0m\u001b[0m\n\u001b[1;32m   1531\u001b[0m         \u001b[0;32melse\u001b[0m\u001b[0;34m:\u001b[0m\u001b[0;34m\u001b[0m\u001b[0;34m\u001b[0m\u001b[0m\n\u001b[0;32m-> 1532\u001b[0;31m             \u001b[0;32mreturn\u001b[0m \u001b[0mself\u001b[0m\u001b[0;34m.\u001b[0m\u001b[0m_call_impl\u001b[0m\u001b[0;34m(\u001b[0m\u001b[0;34m*\u001b[0m\u001b[0margs\u001b[0m\u001b[0;34m,\u001b[0m \u001b[0;34m**\u001b[0m\u001b[0mkwargs\u001b[0m\u001b[0;34m)\u001b[0m\u001b[0;34m\u001b[0m\u001b[0;34m\u001b[0m\u001b[0m\n\u001b[0m\u001b[1;32m   1533\u001b[0m \u001b[0;34m\u001b[0m\u001b[0m\n\u001b[1;32m   1534\u001b[0m     \u001b[0;32mdef\u001b[0m \u001b[0m_call_impl\u001b[0m\u001b[0;34m(\u001b[0m\u001b[0mself\u001b[0m\u001b[0;34m,\u001b[0m \u001b[0;34m*\u001b[0m\u001b[0margs\u001b[0m\u001b[0;34m,\u001b[0m \u001b[0;34m**\u001b[0m\u001b[0mkwargs\u001b[0m\u001b[0;34m)\u001b[0m\u001b[0;34m:\u001b[0m\u001b[0;34m\u001b[0m\u001b[0;34m\u001b[0m\u001b[0m\n",
      "\u001b[0;32m/usr/local/lib/python3.10/dist-packages/torch/nn/modules/module.py\u001b[0m in \u001b[0;36m_call_impl\u001b[0;34m(self, *args, **kwargs)\u001b[0m\n\u001b[1;32m   1539\u001b[0m                 \u001b[0;32mor\u001b[0m \u001b[0m_global_backward_pre_hooks\u001b[0m \u001b[0;32mor\u001b[0m \u001b[0m_global_backward_hooks\u001b[0m\u001b[0;34m\u001b[0m\u001b[0;34m\u001b[0m\u001b[0m\n\u001b[1;32m   1540\u001b[0m                 or _global_forward_hooks or _global_forward_pre_hooks):\n\u001b[0;32m-> 1541\u001b[0;31m             \u001b[0;32mreturn\u001b[0m \u001b[0mforward_call\u001b[0m\u001b[0;34m(\u001b[0m\u001b[0;34m*\u001b[0m\u001b[0margs\u001b[0m\u001b[0;34m,\u001b[0m \u001b[0;34m**\u001b[0m\u001b[0mkwargs\u001b[0m\u001b[0;34m)\u001b[0m\u001b[0;34m\u001b[0m\u001b[0;34m\u001b[0m\u001b[0m\n\u001b[0m\u001b[1;32m   1542\u001b[0m \u001b[0;34m\u001b[0m\u001b[0m\n\u001b[1;32m   1543\u001b[0m         \u001b[0;32mtry\u001b[0m\u001b[0;34m:\u001b[0m\u001b[0;34m\u001b[0m\u001b[0;34m\u001b[0m\u001b[0m\n",
      "\u001b[0;32m<ipython-input-164-b6569de0eef8>\u001b[0m in \u001b[0;36mforward\u001b[0;34m(self, input_tokens)\u001b[0m\n\u001b[1;32m     21\u001b[0m         \u001b[0mx\u001b[0m \u001b[0;34m=\u001b[0m \u001b[0mself\u001b[0m\u001b[0;34m.\u001b[0m\u001b[0mpositional_encoding\u001b[0m\u001b[0;34m(\u001b[0m\u001b[0mx\u001b[0m\u001b[0;34m)\u001b[0m\u001b[0;34m\u001b[0m\u001b[0;34m\u001b[0m\u001b[0m\n\u001b[1;32m     22\u001b[0m         \u001b[0;32mfor\u001b[0m \u001b[0m_\u001b[0m \u001b[0;32min\u001b[0m \u001b[0mrange\u001b[0m\u001b[0;34m(\u001b[0m\u001b[0mself\u001b[0m\u001b[0;34m.\u001b[0m\u001b[0mnx\u001b[0m\u001b[0;34m)\u001b[0m\u001b[0;34m:\u001b[0m\u001b[0;34m\u001b[0m\u001b[0;34m\u001b[0m\u001b[0m\n\u001b[0;32m---> 23\u001b[0;31m             \u001b[0mx\u001b[0m \u001b[0;34m=\u001b[0m \u001b[0mself\u001b[0m\u001b[0;34m.\u001b[0m\u001b[0mencoder\u001b[0m\u001b[0;34m(\u001b[0m\u001b[0mx\u001b[0m\u001b[0;34m)\u001b[0m\u001b[0;34m\u001b[0m\u001b[0;34m\u001b[0m\u001b[0m\n\u001b[0m\u001b[1;32m     24\u001b[0m         \u001b[0;31m# for encoder in self.encoders:\u001b[0m\u001b[0;34m\u001b[0m\u001b[0;34m\u001b[0m\u001b[0m\n\u001b[1;32m     25\u001b[0m         \u001b[0;31m#     x = encoder(x)\u001b[0m\u001b[0;34m\u001b[0m\u001b[0;34m\u001b[0m\u001b[0m\n",
      "\u001b[0;32m/usr/local/lib/python3.10/dist-packages/torch/nn/modules/module.py\u001b[0m in \u001b[0;36m_wrapped_call_impl\u001b[0;34m(self, *args, **kwargs)\u001b[0m\n\u001b[1;32m   1530\u001b[0m             \u001b[0;32mreturn\u001b[0m \u001b[0mself\u001b[0m\u001b[0;34m.\u001b[0m\u001b[0m_compiled_call_impl\u001b[0m\u001b[0;34m(\u001b[0m\u001b[0;34m*\u001b[0m\u001b[0margs\u001b[0m\u001b[0;34m,\u001b[0m \u001b[0;34m**\u001b[0m\u001b[0mkwargs\u001b[0m\u001b[0;34m)\u001b[0m  \u001b[0;31m# type: ignore[misc]\u001b[0m\u001b[0;34m\u001b[0m\u001b[0;34m\u001b[0m\u001b[0m\n\u001b[1;32m   1531\u001b[0m         \u001b[0;32melse\u001b[0m\u001b[0;34m:\u001b[0m\u001b[0;34m\u001b[0m\u001b[0;34m\u001b[0m\u001b[0m\n\u001b[0;32m-> 1532\u001b[0;31m             \u001b[0;32mreturn\u001b[0m \u001b[0mself\u001b[0m\u001b[0;34m.\u001b[0m\u001b[0m_call_impl\u001b[0m\u001b[0;34m(\u001b[0m\u001b[0;34m*\u001b[0m\u001b[0margs\u001b[0m\u001b[0;34m,\u001b[0m \u001b[0;34m**\u001b[0m\u001b[0mkwargs\u001b[0m\u001b[0;34m)\u001b[0m\u001b[0;34m\u001b[0m\u001b[0;34m\u001b[0m\u001b[0m\n\u001b[0m\u001b[1;32m   1533\u001b[0m \u001b[0;34m\u001b[0m\u001b[0m\n\u001b[1;32m   1534\u001b[0m     \u001b[0;32mdef\u001b[0m \u001b[0m_call_impl\u001b[0m\u001b[0;34m(\u001b[0m\u001b[0mself\u001b[0m\u001b[0;34m,\u001b[0m \u001b[0;34m*\u001b[0m\u001b[0margs\u001b[0m\u001b[0;34m,\u001b[0m \u001b[0;34m**\u001b[0m\u001b[0mkwargs\u001b[0m\u001b[0;34m)\u001b[0m\u001b[0;34m:\u001b[0m\u001b[0;34m\u001b[0m\u001b[0;34m\u001b[0m\u001b[0m\n",
      "\u001b[0;32m/usr/local/lib/python3.10/dist-packages/torch/nn/modules/module.py\u001b[0m in \u001b[0;36m_call_impl\u001b[0;34m(self, *args, **kwargs)\u001b[0m\n\u001b[1;32m   1580\u001b[0m                 \u001b[0margs\u001b[0m \u001b[0;34m=\u001b[0m \u001b[0mbw_hook\u001b[0m\u001b[0;34m.\u001b[0m\u001b[0msetup_input_hook\u001b[0m\u001b[0;34m(\u001b[0m\u001b[0margs\u001b[0m\u001b[0;34m)\u001b[0m\u001b[0;34m\u001b[0m\u001b[0;34m\u001b[0m\u001b[0m\n\u001b[1;32m   1581\u001b[0m \u001b[0;34m\u001b[0m\u001b[0m\n\u001b[0;32m-> 1582\u001b[0;31m             \u001b[0mresult\u001b[0m \u001b[0;34m=\u001b[0m \u001b[0mforward_call\u001b[0m\u001b[0;34m(\u001b[0m\u001b[0;34m*\u001b[0m\u001b[0margs\u001b[0m\u001b[0;34m,\u001b[0m \u001b[0;34m**\u001b[0m\u001b[0mkwargs\u001b[0m\u001b[0;34m)\u001b[0m\u001b[0;34m\u001b[0m\u001b[0;34m\u001b[0m\u001b[0m\n\u001b[0m\u001b[1;32m   1583\u001b[0m             \u001b[0;32mif\u001b[0m \u001b[0m_global_forward_hooks\u001b[0m \u001b[0;32mor\u001b[0m \u001b[0mself\u001b[0m\u001b[0;34m.\u001b[0m\u001b[0m_forward_hooks\u001b[0m\u001b[0;34m:\u001b[0m\u001b[0;34m\u001b[0m\u001b[0;34m\u001b[0m\u001b[0m\n\u001b[1;32m   1584\u001b[0m                 for hook_id, hook in (\n",
      "\u001b[0;32m<ipython-input-147-f9dd79680f74>\u001b[0m in \u001b[0;36mforward\u001b[0;34m(self, x)\u001b[0m\n\u001b[1;32m     14\u001b[0m \u001b[0;34m\u001b[0m\u001b[0m\n\u001b[1;32m     15\u001b[0m     \u001b[0;32mdef\u001b[0m \u001b[0mforward\u001b[0m\u001b[0;34m(\u001b[0m\u001b[0mself\u001b[0m\u001b[0;34m,\u001b[0m\u001b[0mx\u001b[0m\u001b[0;34m)\u001b[0m\u001b[0;34m:\u001b[0m\u001b[0;34m\u001b[0m\u001b[0;34m\u001b[0m\u001b[0m\n\u001b[0;32m---> 16\u001b[0;31m         \u001b[0mmultihead_attn\u001b[0m \u001b[0;34m=\u001b[0m \u001b[0mMultiHeadAttention\u001b[0m\u001b[0;34m(\u001b[0m\u001b[0mself\u001b[0m\u001b[0;34m.\u001b[0m\u001b[0mh\u001b[0m\u001b[0;34m,\u001b[0m \u001b[0mself\u001b[0m\u001b[0;34m.\u001b[0m\u001b[0md\u001b[0m\u001b[0;34m,\u001b[0m \u001b[0mself\u001b[0m\u001b[0;34m.\u001b[0m\u001b[0mdk\u001b[0m\u001b[0;34m,\u001b[0m \u001b[0mself\u001b[0m\u001b[0;34m.\u001b[0m\u001b[0mdv\u001b[0m\u001b[0;34m,\u001b[0m \u001b[0mmask\u001b[0m\u001b[0;34m=\u001b[0m\u001b[0;32mFalse\u001b[0m\u001b[0;34m)\u001b[0m\u001b[0;34m(\u001b[0m\u001b[0mx\u001b[0m\u001b[0;34m)\u001b[0m\u001b[0;34m\u001b[0m\u001b[0;34m\u001b[0m\u001b[0m\n\u001b[0m\u001b[1;32m     17\u001b[0m         \u001b[0mresi1\u001b[0m \u001b[0;34m=\u001b[0m \u001b[0mmultihead_attn\u001b[0m \u001b[0;34m+\u001b[0m \u001b[0mx\u001b[0m\u001b[0;34m\u001b[0m\u001b[0;34m\u001b[0m\u001b[0m\n\u001b[1;32m     18\u001b[0m         \u001b[0mnorm1\u001b[0m \u001b[0;34m=\u001b[0m \u001b[0mself\u001b[0m\u001b[0;34m.\u001b[0m\u001b[0mlayer_norm1\u001b[0m\u001b[0;34m(\u001b[0m\u001b[0mresi1\u001b[0m\u001b[0;34m)\u001b[0m\u001b[0;34m\u001b[0m\u001b[0;34m\u001b[0m\u001b[0m\n",
      "\u001b[0;32m/usr/local/lib/python3.10/dist-packages/torch/nn/modules/module.py\u001b[0m in \u001b[0;36m_wrapped_call_impl\u001b[0;34m(self, *args, **kwargs)\u001b[0m\n\u001b[1;32m   1530\u001b[0m             \u001b[0;32mreturn\u001b[0m \u001b[0mself\u001b[0m\u001b[0;34m.\u001b[0m\u001b[0m_compiled_call_impl\u001b[0m\u001b[0;34m(\u001b[0m\u001b[0;34m*\u001b[0m\u001b[0margs\u001b[0m\u001b[0;34m,\u001b[0m \u001b[0;34m**\u001b[0m\u001b[0mkwargs\u001b[0m\u001b[0;34m)\u001b[0m  \u001b[0;31m# type: ignore[misc]\u001b[0m\u001b[0;34m\u001b[0m\u001b[0;34m\u001b[0m\u001b[0m\n\u001b[1;32m   1531\u001b[0m         \u001b[0;32melse\u001b[0m\u001b[0;34m:\u001b[0m\u001b[0;34m\u001b[0m\u001b[0;34m\u001b[0m\u001b[0m\n\u001b[0;32m-> 1532\u001b[0;31m             \u001b[0;32mreturn\u001b[0m \u001b[0mself\u001b[0m\u001b[0;34m.\u001b[0m\u001b[0m_call_impl\u001b[0m\u001b[0;34m(\u001b[0m\u001b[0;34m*\u001b[0m\u001b[0margs\u001b[0m\u001b[0;34m,\u001b[0m \u001b[0;34m**\u001b[0m\u001b[0mkwargs\u001b[0m\u001b[0;34m)\u001b[0m\u001b[0;34m\u001b[0m\u001b[0;34m\u001b[0m\u001b[0m\n\u001b[0m\u001b[1;32m   1533\u001b[0m \u001b[0;34m\u001b[0m\u001b[0m\n\u001b[1;32m   1534\u001b[0m     \u001b[0;32mdef\u001b[0m \u001b[0m_call_impl\u001b[0m\u001b[0;34m(\u001b[0m\u001b[0mself\u001b[0m\u001b[0;34m,\u001b[0m \u001b[0;34m*\u001b[0m\u001b[0margs\u001b[0m\u001b[0;34m,\u001b[0m \u001b[0;34m**\u001b[0m\u001b[0mkwargs\u001b[0m\u001b[0;34m)\u001b[0m\u001b[0;34m:\u001b[0m\u001b[0;34m\u001b[0m\u001b[0;34m\u001b[0m\u001b[0m\n",
      "\u001b[0;32m/usr/local/lib/python3.10/dist-packages/torch/nn/modules/module.py\u001b[0m in \u001b[0;36m_call_impl\u001b[0;34m(self, *args, **kwargs)\u001b[0m\n\u001b[1;32m   1539\u001b[0m                 \u001b[0;32mor\u001b[0m \u001b[0m_global_backward_pre_hooks\u001b[0m \u001b[0;32mor\u001b[0m \u001b[0m_global_backward_hooks\u001b[0m\u001b[0;34m\u001b[0m\u001b[0;34m\u001b[0m\u001b[0m\n\u001b[1;32m   1540\u001b[0m                 or _global_forward_hooks or _global_forward_pre_hooks):\n\u001b[0;32m-> 1541\u001b[0;31m             \u001b[0;32mreturn\u001b[0m \u001b[0mforward_call\u001b[0m\u001b[0;34m(\u001b[0m\u001b[0;34m*\u001b[0m\u001b[0margs\u001b[0m\u001b[0;34m,\u001b[0m \u001b[0;34m**\u001b[0m\u001b[0mkwargs\u001b[0m\u001b[0;34m)\u001b[0m\u001b[0;34m\u001b[0m\u001b[0;34m\u001b[0m\u001b[0m\n\u001b[0m\u001b[1;32m   1542\u001b[0m \u001b[0;34m\u001b[0m\u001b[0m\n\u001b[1;32m   1543\u001b[0m         \u001b[0;32mtry\u001b[0m\u001b[0;34m:\u001b[0m\u001b[0;34m\u001b[0m\u001b[0;34m\u001b[0m\u001b[0m\n",
      "\u001b[0;32m<ipython-input-146-3c2b55be7970>\u001b[0m in \u001b[0;36mforward\u001b[0;34m(self, x, enc_x)\u001b[0m\n\u001b[1;32m     12\u001b[0m         \u001b[0mhead_outputs\u001b[0m \u001b[0;34m=\u001b[0m \u001b[0;34m[\u001b[0m\u001b[0;34m]\u001b[0m\u001b[0;34m\u001b[0m\u001b[0;34m\u001b[0m\u001b[0m\n\u001b[1;32m     13\u001b[0m         \u001b[0;32mfor\u001b[0m \u001b[0m_\u001b[0m \u001b[0;32min\u001b[0m \u001b[0mrange\u001b[0m\u001b[0;34m(\u001b[0m\u001b[0mself\u001b[0m\u001b[0;34m.\u001b[0m\u001b[0mh\u001b[0m\u001b[0;34m)\u001b[0m\u001b[0;34m:\u001b[0m\u001b[0;34m\u001b[0m\u001b[0;34m\u001b[0m\u001b[0m\n\u001b[0;32m---> 14\u001b[0;31m             \u001b[0mhead_output\u001b[0m \u001b[0;34m=\u001b[0m \u001b[0mSelfAttention\u001b[0m\u001b[0;34m(\u001b[0m\u001b[0mself\u001b[0m\u001b[0;34m.\u001b[0m\u001b[0md\u001b[0m \u001b[0;34m,\u001b[0m \u001b[0mself\u001b[0m\u001b[0;34m.\u001b[0m\u001b[0mdk\u001b[0m \u001b[0;34m,\u001b[0m \u001b[0mself\u001b[0m\u001b[0;34m.\u001b[0m\u001b[0mdv\u001b[0m \u001b[0;34m,\u001b[0m \u001b[0mself\u001b[0m\u001b[0;34m.\u001b[0m\u001b[0mmask\u001b[0m\u001b[0;34m)\u001b[0m\u001b[0;34m(\u001b[0m\u001b[0mx\u001b[0m \u001b[0;34m,\u001b[0m \u001b[0menc_x\u001b[0m\u001b[0;34m)\u001b[0m\u001b[0;34m\u001b[0m\u001b[0;34m\u001b[0m\u001b[0m\n\u001b[0m\u001b[1;32m     15\u001b[0m             \u001b[0mhead_outputs\u001b[0m\u001b[0;34m.\u001b[0m\u001b[0mappend\u001b[0m\u001b[0;34m(\u001b[0m\u001b[0mhead_output\u001b[0m\u001b[0;34m)\u001b[0m\u001b[0;34m\u001b[0m\u001b[0;34m\u001b[0m\u001b[0m\n\u001b[1;32m     16\u001b[0m         \u001b[0mmultihead\u001b[0m \u001b[0;34m=\u001b[0m \u001b[0mtorch\u001b[0m\u001b[0;34m.\u001b[0m\u001b[0mconcat\u001b[0m\u001b[0;34m(\u001b[0m\u001b[0mhead_outputs\u001b[0m\u001b[0;34m,\u001b[0m \u001b[0mdim\u001b[0m\u001b[0;34m=\u001b[0m\u001b[0;34m-\u001b[0m\u001b[0;36m1\u001b[0m\u001b[0;34m)\u001b[0m\u001b[0;34m\u001b[0m\u001b[0;34m\u001b[0m\u001b[0m\n",
      "\u001b[0;32m/usr/local/lib/python3.10/dist-packages/torch/nn/modules/module.py\u001b[0m in \u001b[0;36m_wrapped_call_impl\u001b[0;34m(self, *args, **kwargs)\u001b[0m\n\u001b[1;32m   1530\u001b[0m             \u001b[0;32mreturn\u001b[0m \u001b[0mself\u001b[0m\u001b[0;34m.\u001b[0m\u001b[0m_compiled_call_impl\u001b[0m\u001b[0;34m(\u001b[0m\u001b[0;34m*\u001b[0m\u001b[0margs\u001b[0m\u001b[0;34m,\u001b[0m \u001b[0;34m**\u001b[0m\u001b[0mkwargs\u001b[0m\u001b[0;34m)\u001b[0m  \u001b[0;31m# type: ignore[misc]\u001b[0m\u001b[0;34m\u001b[0m\u001b[0;34m\u001b[0m\u001b[0m\n\u001b[1;32m   1531\u001b[0m         \u001b[0;32melse\u001b[0m\u001b[0;34m:\u001b[0m\u001b[0;34m\u001b[0m\u001b[0;34m\u001b[0m\u001b[0m\n\u001b[0;32m-> 1532\u001b[0;31m             \u001b[0;32mreturn\u001b[0m \u001b[0mself\u001b[0m\u001b[0;34m.\u001b[0m\u001b[0m_call_impl\u001b[0m\u001b[0;34m(\u001b[0m\u001b[0;34m*\u001b[0m\u001b[0margs\u001b[0m\u001b[0;34m,\u001b[0m \u001b[0;34m**\u001b[0m\u001b[0mkwargs\u001b[0m\u001b[0;34m)\u001b[0m\u001b[0;34m\u001b[0m\u001b[0;34m\u001b[0m\u001b[0m\n\u001b[0m\u001b[1;32m   1533\u001b[0m \u001b[0;34m\u001b[0m\u001b[0m\n\u001b[1;32m   1534\u001b[0m     \u001b[0;32mdef\u001b[0m \u001b[0m_call_impl\u001b[0m\u001b[0;34m(\u001b[0m\u001b[0mself\u001b[0m\u001b[0;34m,\u001b[0m \u001b[0;34m*\u001b[0m\u001b[0margs\u001b[0m\u001b[0;34m,\u001b[0m \u001b[0;34m**\u001b[0m\u001b[0mkwargs\u001b[0m\u001b[0;34m)\u001b[0m\u001b[0;34m:\u001b[0m\u001b[0;34m\u001b[0m\u001b[0;34m\u001b[0m\u001b[0m\n",
      "\u001b[0;32m/usr/local/lib/python3.10/dist-packages/torch/nn/modules/module.py\u001b[0m in \u001b[0;36m_call_impl\u001b[0;34m(self, *args, **kwargs)\u001b[0m\n\u001b[1;32m   1539\u001b[0m                 \u001b[0;32mor\u001b[0m \u001b[0m_global_backward_pre_hooks\u001b[0m \u001b[0;32mor\u001b[0m \u001b[0m_global_backward_hooks\u001b[0m\u001b[0;34m\u001b[0m\u001b[0;34m\u001b[0m\u001b[0m\n\u001b[1;32m   1540\u001b[0m                 or _global_forward_hooks or _global_forward_pre_hooks):\n\u001b[0;32m-> 1541\u001b[0;31m             \u001b[0;32mreturn\u001b[0m \u001b[0mforward_call\u001b[0m\u001b[0;34m(\u001b[0m\u001b[0;34m*\u001b[0m\u001b[0margs\u001b[0m\u001b[0;34m,\u001b[0m \u001b[0;34m**\u001b[0m\u001b[0mkwargs\u001b[0m\u001b[0;34m)\u001b[0m\u001b[0;34m\u001b[0m\u001b[0;34m\u001b[0m\u001b[0m\n\u001b[0m\u001b[1;32m   1542\u001b[0m \u001b[0;34m\u001b[0m\u001b[0m\n\u001b[1;32m   1543\u001b[0m         \u001b[0;32mtry\u001b[0m\u001b[0;34m:\u001b[0m\u001b[0;34m\u001b[0m\u001b[0;34m\u001b[0m\u001b[0m\n",
      "\u001b[0;32m<ipython-input-145-7e7e025d2817>\u001b[0m in \u001b[0;36mforward\u001b[0;34m(self, x, enc_x)\u001b[0m\n\u001b[1;32m     19\u001b[0m             \u001b[0mkey\u001b[0m   \u001b[0;34m=\u001b[0m \u001b[0mself\u001b[0m\u001b[0;34m.\u001b[0m\u001b[0mkey_layer\u001b[0m\u001b[0;34m(\u001b[0m\u001b[0mx\u001b[0m\u001b[0;34m)\u001b[0m\u001b[0;34m\u001b[0m\u001b[0;34m\u001b[0m\u001b[0m\n\u001b[1;32m     20\u001b[0m             \u001b[0mvalue\u001b[0m \u001b[0;34m=\u001b[0m \u001b[0mself\u001b[0m\u001b[0;34m.\u001b[0m\u001b[0mvalue_layer\u001b[0m\u001b[0;34m(\u001b[0m\u001b[0mx\u001b[0m\u001b[0;34m)\u001b[0m\u001b[0;34m\u001b[0m\u001b[0;34m\u001b[0m\u001b[0m\n\u001b[0;32m---> 21\u001b[0;31m         \u001b[0mqt\u001b[0m \u001b[0;34m=\u001b[0m \u001b[0mtorch\u001b[0m\u001b[0;34m.\u001b[0m\u001b[0mbmm\u001b[0m\u001b[0;34m(\u001b[0m\u001b[0mquery\u001b[0m\u001b[0;34m,\u001b[0m \u001b[0mtorch\u001b[0m\u001b[0;34m.\u001b[0m\u001b[0mtranspose\u001b[0m\u001b[0;34m(\u001b[0m\u001b[0mkey\u001b[0m\u001b[0;34m,\u001b[0m\u001b[0;36m1\u001b[0m\u001b[0;34m,\u001b[0m\u001b[0;36m2\u001b[0m\u001b[0;34m)\u001b[0m\u001b[0;34m)\u001b[0m\u001b[0;34m\u001b[0m\u001b[0;34m\u001b[0m\u001b[0m\n\u001b[0m\u001b[1;32m     22\u001b[0m         \u001b[0;32mif\u001b[0m \u001b[0mself\u001b[0m\u001b[0;34m.\u001b[0m\u001b[0mmask\u001b[0m\u001b[0;34m:\u001b[0m\u001b[0;34m\u001b[0m\u001b[0;34m\u001b[0m\u001b[0m\n\u001b[1;32m     23\u001b[0m             \u001b[0mqt\u001b[0m \u001b[0;34m=\u001b[0m \u001b[0mmask_upper_tri_matrix\u001b[0m\u001b[0;34m(\u001b[0m\u001b[0mqt\u001b[0m\u001b[0;34m)\u001b[0m\u001b[0;34m\u001b[0m\u001b[0;34m\u001b[0m\u001b[0m\n",
      "\u001b[0;31mRuntimeError\u001b[0m: batch1 must be a 3D tensor"
     ]
    }
   ],
   "source": [
    "from torchsummary import summary\n",
    "model = Transformer(tokenizer)\n",
    "print(type(model))\n",
    "summary(model , input_size=(100,2,7))"
   ]
  },
  {
   "cell_type": "code",
   "execution_count": null,
   "metadata": {
    "colab": {
     "base_uri": "https://localhost:8080/"
    },
    "id": "9riMtoHrz3_8",
    "outputId": "7321e9ce-9710-4366-e17e-93c6e917e4ba"
   },
   "outputs": [
    {
     "data": {
      "text/plain": [
       "[[14823, 83, 16, 325, 11, 465, 5], [14823, 83, 16, 325, 11, 465, 5]]"
      ]
     },
     "execution_count": 163,
     "metadata": {},
     "output_type": "execute_result"
    }
   ],
   "source": [
    "output"
   ]
  },
  {
   "cell_type": "code",
   "execution_count": null,
   "metadata": {
    "colab": {
     "base_uri": "https://localhost:8080/"
    },
    "id": "371dy4Bhk3fC",
    "outputId": "2c3aa235-56f8-4ca1-ef79-d4ec32484b21"
   },
   "outputs": [
    {
     "data": {
      "text/plain": [
       "tensor([[14823,    83,    16,   325,    11,   465,     5],\n",
       "        [14823,    83,    16,   325,    11,   465,     5]])"
      ]
     },
     "execution_count": 38,
     "metadata": {},
     "output_type": "execute_result"
    }
   ],
   "source": [
    "torch.LongTensor(output)"
   ]
  },
  {
   "cell_type": "code",
   "execution_count": null,
   "metadata": {
    "colab": {
     "base_uri": "https://localhost:8080/"
    },
    "id": "h3BesgrQk68T",
    "outputId": "f694e32d-9676-49a1-837d-bb623f000792"
   },
   "outputs": [
    {
     "data": {
      "text/plain": [
       "array([[14823,    83,    16,   325,    11,   465,     5],\n",
       "       [14823,    83,    16,   325,    11,   465,     5]], dtype=int32)"
      ]
     },
     "execution_count": 39,
     "metadata": {},
     "output_type": "execute_result"
    }
   ],
   "source": [
    "np.array(output, dtype=np.int32)"
   ]
  },
  {
   "cell_type": "code",
   "execution_count": null,
   "metadata": {
    "colab": {
     "base_uri": "https://localhost:8080/"
    },
    "id": "jfaouILplHaV",
    "outputId": "8455742f-471d-423a-f27e-32a5512f6d02"
   },
   "outputs": [
    {
     "data": {
      "text/plain": [
       "Linear(in_features=10, out_features=10, bias=True)"
      ]
     },
     "execution_count": 15,
     "metadata": {},
     "output_type": "execute_result"
    }
   ],
   "source": [
    "nn.Linear(10,10)"
   ]
  },
  {
   "cell_type": "code",
   "execution_count": null,
   "metadata": {
    "id": "uuPLBkAsUU9R"
   },
   "outputs": [],
   "source": [
    "l = nn.Linear(10,20)"
   ]
  },
  {
   "cell_type": "code",
   "execution_count": null,
   "metadata": {
    "colab": {
     "base_uri": "https://localhost:8080/"
    },
    "id": "V3AeTun9Uoy1",
    "outputId": "d29d838e-1b4d-4052-eaa0-e56246ce3881"
   },
   "outputs": [
    {
     "data": {
      "text/plain": [
       "torch.Size([128, 32, 10])"
      ]
     },
     "execution_count": 28,
     "metadata": {},
     "output_type": "execute_result"
    }
   ],
   "source": [
    "x = torch.randn(128, 32,10)\n",
    "x.shape"
   ]
  },
  {
   "cell_type": "code",
   "execution_count": null,
   "metadata": {
    "colab": {
     "base_uri": "https://localhost:8080/"
    },
    "id": "i0MO4PLuVP7z",
    "outputId": "2eb3549e-4221-40b4-df6e-76d2cea02730"
   },
   "outputs": [
    {
     "data": {
      "text/plain": [
       "torch.Size([128, 32, 20])"
      ]
     },
     "execution_count": 29,
     "metadata": {},
     "output_type": "execute_result"
    }
   ],
   "source": [
    "l(x).shape"
   ]
  },
  {
   "cell_type": "code",
   "execution_count": null,
   "metadata": {
    "colab": {
     "base_uri": "https://localhost:8080/"
    },
    "id": "WRwen52vVi2Q",
    "outputId": "c8403655-8be0-4949-94d3-923ed8a31ee2"
   },
   "outputs": [
    {
     "data": {
      "text/plain": [
       "torch.Size([32, 20])"
      ]
     },
     "execution_count": 27,
     "metadata": {},
     "output_type": "execute_result"
    }
   ],
   "source": [
    "l(x).size()"
   ]
  },
  {
   "cell_type": "code",
   "execution_count": null,
   "metadata": {
    "id": "MuGGvznyVq6R"
   },
   "outputs": [],
   "source": []
  },
  {
   "cell_type": "code",
   "execution_count": null,
   "metadata": {
    "id": "JoAc2upC2bw_"
   },
   "outputs": [],
   "source": []
  },
  {
   "cell_type": "code",
   "execution_count": null,
   "metadata": {
    "id": "nHPTfWN82buS"
   },
   "outputs": [],
   "source": [
    "class MyModel(nn.Module):\n",
    "    def __init__(self):\n",
    "        super(MyModel, self).__init__()\n",
    "        self.conv1 = nn.Conv2d(3, 64, kernel_size=3, stride=1, padding=1)\n",
    "        self.relu = nn.ReLU()\n",
    "        self.pool = nn.MaxPool2d(2, 2)\n",
    "        self.fc1 = nn.Linear(64 * 16 * 16, 10)  # Adjust 16 * 16 according to your input size\n",
    "\n",
    "    def forward(self, x):\n",
    "        x = self.conv1(x)\n",
    "        x = self.relu(x)\n",
    "        x = self.pool(x)\n",
    "        x = x.view(-1, 64 * 16 * 16)  # Adjust 16 * 16 according to your input size\n",
    "        x = self.fc1(x)\n",
    "        return x"
   ]
  },
  {
   "cell_type": "code",
   "execution_count": null,
   "metadata": {
    "id": "ND74vM2Z2cef"
   },
   "outputs": [],
   "source": [
    "def model_summary(model, input_size):\n",
    "    summary(model, input_size=input_size)"
   ]
  },
  {
   "cell_type": "code",
   "execution_count": null,
   "metadata": {
    "colab": {
     "base_uri": "https://localhost:8080/"
    },
    "id": "57ixaoUR2drb",
    "outputId": "8fdfe5b4-a44a-4899-cb00-749c83705784"
   },
   "outputs": [
    {
     "name": "stdout",
     "output_type": "stream",
     "text": [
      "----------------------------------------------------------------\n",
      "        Layer (type)               Output Shape         Param #\n",
      "================================================================\n",
      "            Conv2d-1           [-1, 64, 32, 32]           1,792\n",
      "              ReLU-2           [-1, 64, 32, 32]               0\n",
      "         MaxPool2d-3           [-1, 64, 16, 16]               0\n",
      "            Linear-4                   [-1, 10]         163,850\n",
      "================================================================\n",
      "Total params: 165,642\n",
      "Trainable params: 165,642\n",
      "Non-trainable params: 0\n",
      "----------------------------------------------------------------\n",
      "Input size (MB): 0.01\n",
      "Forward/backward pass size (MB): 1.13\n",
      "Params size (MB): 0.63\n",
      "Estimated Total Size (MB): 1.77\n",
      "----------------------------------------------------------------\n"
     ]
    }
   ],
   "source": [
    "model = MyModel()\n",
    "input_size = (3, 32, 32)  # Example input size (channels, height, width)\n",
    "model_summary(model, input_size)"
   ]
  },
  {
   "cell_type": "code",
   "execution_count": null,
   "metadata": {
    "id": "r6xSfvmC92Dh"
   },
   "outputs": [],
   "source": []
  }
 ],
 "metadata": {
  "colab": {
   "authorship_tag": "ABX9TyOrFF3GuXz1Vi5WA/Eu9GDZ",
   "include_colab_link": true,
   "mount_file_id": "1I6-_g0sbfdu0mZIrsHz1F5nIz0vEzv9w",
   "provenance": []
  },
  "kernelspec": {
   "display_name": "Python (pytorch-transformer_venv)",
   "language": "python",
   "name": "pytorch-transformer_venv"
  },
  "language_info": {
   "codemirror_mode": {
    "name": "ipython",
    "version": 3
   },
   "file_extension": ".py",
   "mimetype": "text/x-python",
   "name": "python",
   "nbconvert_exporter": "python",
   "pygments_lexer": "ipython3",
   "version": "3.13.2"
  },
  "widgets": {
   "application/vnd.jupyter.widget-state+json": {
    "0012067823a249e48f9a8b89c5b826d6": {
     "model_module": "@jupyter-widgets/controls",
     "model_module_version": "1.5.0",
     "model_name": "FloatProgressModel",
     "state": {
      "_dom_classes": [],
      "_model_module": "@jupyter-widgets/controls",
      "_model_module_version": "1.5.0",
      "_model_name": "FloatProgressModel",
      "_view_count": null,
      "_view_module": "@jupyter-widgets/controls",
      "_view_module_version": "1.5.0",
      "_view_name": "ProgressView",
      "bar_style": "success",
      "description": "",
      "description_tooltip": null,
      "layout": "IPY_MODEL_82f6f82713f44eafa86ea7b744e8eae1",
      "max": 3140,
      "min": 0,
      "orientation": "horizontal",
      "style": "IPY_MODEL_3742598bf90b46f9848dd6db65bfe148",
      "value": 3140
     }
    },
    "0187f1aa68a64df28cf9a10d82cc1b35": {
     "model_module": "@jupyter-widgets/controls",
     "model_module_version": "1.5.0",
     "model_name": "ProgressStyleModel",
     "state": {
      "_model_module": "@jupyter-widgets/controls",
      "_model_module_version": "1.5.0",
      "_model_name": "ProgressStyleModel",
      "_view_count": null,
      "_view_module": "@jupyter-widgets/base",
      "_view_module_version": "1.2.0",
      "_view_name": "StyleView",
      "bar_color": null,
      "description_width": ""
     }
    },
    "039f0ef880a34c349db3f4c17bdf2b35": {
     "model_module": "@jupyter-widgets/controls",
     "model_module_version": "1.5.0",
     "model_name": "DescriptionStyleModel",
     "state": {
      "_model_module": "@jupyter-widgets/controls",
      "_model_module_version": "1.5.0",
      "_model_name": "DescriptionStyleModel",
      "_view_count": null,
      "_view_module": "@jupyter-widgets/base",
      "_view_module_version": "1.2.0",
      "_view_name": "StyleView",
      "description_width": ""
     }
    },
    "03ee62f231c54df68b2bfa81d9326fcc": {
     "model_module": "@jupyter-widgets/controls",
     "model_module_version": "1.5.0",
     "model_name": "HTMLModel",
     "state": {
      "_dom_classes": [],
      "_model_module": "@jupyter-widgets/controls",
      "_model_module_version": "1.5.0",
      "_model_name": "HTMLModel",
      "_view_count": null,
      "_view_module": "@jupyter-widgets/controls",
      "_view_module_version": "1.5.0",
      "_view_name": "HTMLView",
      "description": "",
      "description_tooltip": null,
      "layout": "IPY_MODEL_bdcafb8918fb4b4e849a59a9a5060701",
      "placeholder": "​",
      "style": "IPY_MODEL_86ff8585d61c4b25922078a0c773256d",
      "value": "Generating test split: 100%"
     }
    },
    "06e381b8f78f4777a8eccfa107e9e717": {
     "model_module": "@jupyter-widgets/controls",
     "model_module_version": "1.5.0",
     "model_name": "HTMLModel",
     "state": {
      "_dom_classes": [],
      "_model_module": "@jupyter-widgets/controls",
      "_model_module_version": "1.5.0",
      "_model_name": "HTMLModel",
      "_view_count": null,
      "_view_module": "@jupyter-widgets/controls",
      "_view_module_version": "1.5.0",
      "_view_name": "HTMLView",
      "description": "",
      "description_tooltip": null,
      "layout": "IPY_MODEL_a85ec585a82741488045612d8b136375",
      "placeholder": "​",
      "style": "IPY_MODEL_af65180b12e145a09cff0aaf54cfe0d5",
      "value": " 190M/190M [00:05&lt;00:00, 43.7MB/s]"
     }
    },
    "077bb21e6e7047568a56ab2389dfc3d9": {
     "model_module": "@jupyter-widgets/controls",
     "model_module_version": "1.5.0",
     "model_name": "HBoxModel",
     "state": {
      "_dom_classes": [],
      "_model_module": "@jupyter-widgets/controls",
      "_model_module_version": "1.5.0",
      "_model_name": "HBoxModel",
      "_view_count": null,
      "_view_module": "@jupyter-widgets/controls",
      "_view_module_version": "1.5.0",
      "_view_name": "HBoxView",
      "box_style": "",
      "children": [
       "IPY_MODEL_0cfdba8d1a1e4aed89ac9a0af5b3d000",
       "IPY_MODEL_c950a47a7ace40be9af56a1ee28ff41d",
       "IPY_MODEL_73993969a6024a97992ed12e0fabe053"
      ],
      "layout": "IPY_MODEL_9448c1793c8a4a589c47d3515a3e9fc6"
     }
    },
    "094aafa7888b46d1845eb4c4719facd8": {
     "model_module": "@jupyter-widgets/controls",
     "model_module_version": "1.5.0",
     "model_name": "ProgressStyleModel",
     "state": {
      "_model_module": "@jupyter-widgets/controls",
      "_model_module_version": "1.5.0",
      "_model_name": "ProgressStyleModel",
      "_view_count": null,
      "_view_module": "@jupyter-widgets/base",
      "_view_module_version": "1.2.0",
      "_view_name": "StyleView",
      "bar_color": null,
      "description_width": ""
     }
    },
    "09a336e20bfd42e486d40ca962f9f56e": {
     "model_module": "@jupyter-widgets/base",
     "model_module_version": "1.2.0",
     "model_name": "LayoutModel",
     "state": {
      "_model_module": "@jupyter-widgets/base",
      "_model_module_version": "1.2.0",
      "_model_name": "LayoutModel",
      "_view_count": null,
      "_view_module": "@jupyter-widgets/base",
      "_view_module_version": "1.2.0",
      "_view_name": "LayoutView",
      "align_content": null,
      "align_items": null,
      "align_self": null,
      "border": null,
      "bottom": null,
      "display": null,
      "flex": null,
      "flex_flow": null,
      "grid_area": null,
      "grid_auto_columns": null,
      "grid_auto_flow": null,
      "grid_auto_rows": null,
      "grid_column": null,
      "grid_gap": null,
      "grid_row": null,
      "grid_template_areas": null,
      "grid_template_columns": null,
      "grid_template_rows": null,
      "height": null,
      "justify_content": null,
      "justify_items": null,
      "left": null,
      "margin": null,
      "max_height": null,
      "max_width": null,
      "min_height": null,
      "min_width": null,
      "object_fit": null,
      "object_position": null,
      "order": null,
      "overflow": null,
      "overflow_x": null,
      "overflow_y": null,
      "padding": null,
      "right": null,
      "top": null,
      "visibility": null,
      "width": null
     }
    },
    "0cfdba8d1a1e4aed89ac9a0af5b3d000": {
     "model_module": "@jupyter-widgets/controls",
     "model_module_version": "1.5.0",
     "model_name": "HTMLModel",
     "state": {
      "_dom_classes": [],
      "_model_module": "@jupyter-widgets/controls",
      "_model_module_version": "1.5.0",
      "_model_name": "HTMLModel",
      "_view_count": null,
      "_view_module": "@jupyter-widgets/controls",
      "_view_module_version": "1.5.0",
      "_view_name": "HTMLView",
      "description": "",
      "description_tooltip": null,
      "layout": "IPY_MODEL_21307422a1054270b7007a0a1438bfc7",
      "placeholder": "​",
      "style": "IPY_MODEL_b77f9def700443739d1542f7ad15946e",
      "value": "Generating validation split: 100%"
     }
    },
    "0de718137b9b49849836415a9cd6572f": {
     "model_module": "@jupyter-widgets/base",
     "model_module_version": "1.2.0",
     "model_name": "LayoutModel",
     "state": {
      "_model_module": "@jupyter-widgets/base",
      "_model_module_version": "1.2.0",
      "_model_name": "LayoutModel",
      "_view_count": null,
      "_view_module": "@jupyter-widgets/base",
      "_view_module_version": "1.2.0",
      "_view_name": "LayoutView",
      "align_content": null,
      "align_items": null,
      "align_self": null,
      "border": null,
      "bottom": null,
      "display": null,
      "flex": null,
      "flex_flow": null,
      "grid_area": null,
      "grid_auto_columns": null,
      "grid_auto_flow": null,
      "grid_auto_rows": null,
      "grid_column": null,
      "grid_gap": null,
      "grid_row": null,
      "grid_template_areas": null,
      "grid_template_columns": null,
      "grid_template_rows": null,
      "height": null,
      "justify_content": null,
      "justify_items": null,
      "left": null,
      "margin": null,
      "max_height": null,
      "max_width": null,
      "min_height": null,
      "min_width": null,
      "object_fit": null,
      "object_position": null,
      "order": null,
      "overflow": null,
      "overflow_x": null,
      "overflow_y": null,
      "padding": null,
      "right": null,
      "top": null,
      "visibility": null,
      "width": null
     }
    },
    "0e0a58640fec4d498a4ebc423007f4f7": {
     "model_module": "@jupyter-widgets/base",
     "model_module_version": "1.2.0",
     "model_name": "LayoutModel",
     "state": {
      "_model_module": "@jupyter-widgets/base",
      "_model_module_version": "1.2.0",
      "_model_name": "LayoutModel",
      "_view_count": null,
      "_view_module": "@jupyter-widgets/base",
      "_view_module_version": "1.2.0",
      "_view_name": "LayoutView",
      "align_content": null,
      "align_items": null,
      "align_self": null,
      "border": null,
      "bottom": null,
      "display": null,
      "flex": null,
      "flex_flow": null,
      "grid_area": null,
      "grid_auto_columns": null,
      "grid_auto_flow": null,
      "grid_auto_rows": null,
      "grid_column": null,
      "grid_gap": null,
      "grid_row": null,
      "grid_template_areas": null,
      "grid_template_columns": null,
      "grid_template_rows": null,
      "height": null,
      "justify_content": null,
      "justify_items": null,
      "left": null,
      "margin": null,
      "max_height": null,
      "max_width": null,
      "min_height": null,
      "min_width": null,
      "object_fit": null,
      "object_position": null,
      "order": null,
      "overflow": null,
      "overflow_x": null,
      "overflow_y": null,
      "padding": null,
      "right": null,
      "top": null,
      "visibility": null,
      "width": null
     }
    },
    "13d48961e55b455ebe565234a650af01": {
     "model_module": "@jupyter-widgets/controls",
     "model_module_version": "1.5.0",
     "model_name": "ProgressStyleModel",
     "state": {
      "_model_module": "@jupyter-widgets/controls",
      "_model_module_version": "1.5.0",
      "_model_name": "ProgressStyleModel",
      "_view_count": null,
      "_view_module": "@jupyter-widgets/base",
      "_view_module_version": "1.2.0",
      "_view_name": "StyleView",
      "bar_color": null,
      "description_width": ""
     }
    },
    "14c64ec7da864e199b9d823ff41bb09a": {
     "model_module": "@jupyter-widgets/controls",
     "model_module_version": "1.5.0",
     "model_name": "FloatProgressModel",
     "state": {
      "_dom_classes": [],
      "_model_module": "@jupyter-widgets/controls",
      "_model_module_version": "1.5.0",
      "_model_name": "FloatProgressModel",
      "_view_count": null,
      "_view_module": "@jupyter-widgets/controls",
      "_view_module_version": "1.5.0",
      "_view_name": "ProgressView",
      "bar_style": "success",
      "description": "",
      "description_tooltip": null,
      "layout": "IPY_MODEL_e10cec166aa245d2af4ca6b40c36da4a",
      "max": 2507,
      "min": 0,
      "orientation": "horizontal",
      "style": "IPY_MODEL_f81721f1cb4f4667abbb2336a58a1797",
      "value": 2507
     }
    },
    "1598c7fc8fcc41099ed7e7e1636fb830": {
     "model_module": "@jupyter-widgets/controls",
     "model_module_version": "1.5.0",
     "model_name": "HTMLModel",
     "state": {
      "_dom_classes": [],
      "_model_module": "@jupyter-widgets/controls",
      "_model_module_version": "1.5.0",
      "_model_name": "HTMLModel",
      "_view_count": null,
      "_view_module": "@jupyter-widgets/controls",
      "_view_module_version": "1.5.0",
      "_view_name": "HTMLView",
      "description": "",
      "description_tooltip": null,
      "layout": "IPY_MODEL_64e0259ea0f3499bb5a0a2fdb203aa93",
      "placeholder": "​",
      "style": "IPY_MODEL_b8058de8e3ed43dfa4cf1df208ccee68",
      "value": "Generating validation split: 100%"
     }
    },
    "15ccfd49d21a400c9f1ddaadafa679d9": {
     "model_module": "@jupyter-widgets/base",
     "model_module_version": "1.2.0",
     "model_name": "LayoutModel",
     "state": {
      "_model_module": "@jupyter-widgets/base",
      "_model_module_version": "1.2.0",
      "_model_name": "LayoutModel",
      "_view_count": null,
      "_view_module": "@jupyter-widgets/base",
      "_view_module_version": "1.2.0",
      "_view_name": "LayoutView",
      "align_content": null,
      "align_items": null,
      "align_self": null,
      "border": null,
      "bottom": null,
      "display": null,
      "flex": null,
      "flex_flow": null,
      "grid_area": null,
      "grid_auto_columns": null,
      "grid_auto_flow": null,
      "grid_auto_rows": null,
      "grid_column": null,
      "grid_gap": null,
      "grid_row": null,
      "grid_template_areas": null,
      "grid_template_columns": null,
      "grid_template_rows": null,
      "height": null,
      "justify_content": null,
      "justify_items": null,
      "left": null,
      "margin": null,
      "max_height": null,
      "max_width": null,
      "min_height": null,
      "min_width": null,
      "object_fit": null,
      "object_position": null,
      "order": null,
      "overflow": null,
      "overflow_x": null,
      "overflow_y": null,
      "padding": null,
      "right": null,
      "top": null,
      "visibility": null,
      "width": null
     }
    },
    "16d3b0315c85480e86a89f9d9035b3b2": {
     "model_module": "@jupyter-widgets/controls",
     "model_module_version": "1.5.0",
     "model_name": "HTMLModel",
     "state": {
      "_dom_classes": [],
      "_model_module": "@jupyter-widgets/controls",
      "_model_module_version": "1.5.0",
      "_model_name": "HTMLModel",
      "_view_count": null,
      "_view_module": "@jupyter-widgets/controls",
      "_view_module_version": "1.5.0",
      "_view_name": "HTMLView",
      "description": "",
      "description_tooltip": null,
      "layout": "IPY_MODEL_2d37acc4febe49388f679cd59d44946e",
      "placeholder": "​",
      "style": "IPY_MODEL_e4e91ffe753c44a091ecfc57a570f2c5",
      "value": " 2507/2507 [00:00&lt;00:00, 64828.11 examples/s]"
     }
    },
    "1a50a94dd27d485db6ecb7fab66f3246": {
     "model_module": "@jupyter-widgets/controls",
     "model_module_version": "1.5.0",
     "model_name": "ProgressStyleModel",
     "state": {
      "_model_module": "@jupyter-widgets/controls",
      "_model_module_version": "1.5.0",
      "_model_name": "ProgressStyleModel",
      "_view_count": null,
      "_view_module": "@jupyter-widgets/base",
      "_view_module_version": "1.2.0",
      "_view_name": "StyleView",
      "bar_color": null,
      "description_width": ""
     }
    },
    "1c3aa0e4ddc7438282153753012c4f4c": {
     "model_module": "@jupyter-widgets/base",
     "model_module_version": "1.2.0",
     "model_name": "LayoutModel",
     "state": {
      "_model_module": "@jupyter-widgets/base",
      "_model_module_version": "1.2.0",
      "_model_name": "LayoutModel",
      "_view_count": null,
      "_view_module": "@jupyter-widgets/base",
      "_view_module_version": "1.2.0",
      "_view_name": "LayoutView",
      "align_content": null,
      "align_items": null,
      "align_self": null,
      "border": null,
      "bottom": null,
      "display": null,
      "flex": null,
      "flex_flow": null,
      "grid_area": null,
      "grid_auto_columns": null,
      "grid_auto_flow": null,
      "grid_auto_rows": null,
      "grid_column": null,
      "grid_gap": null,
      "grid_row": null,
      "grid_template_areas": null,
      "grid_template_columns": null,
      "grid_template_rows": null,
      "height": null,
      "justify_content": null,
      "justify_items": null,
      "left": null,
      "margin": null,
      "max_height": null,
      "max_width": null,
      "min_height": null,
      "min_width": null,
      "object_fit": null,
      "object_position": null,
      "order": null,
      "overflow": null,
      "overflow_x": null,
      "overflow_y": null,
      "padding": null,
      "right": null,
      "top": null,
      "visibility": null,
      "width": null
     }
    },
    "1f83e6ef2f9742ad937244ea5470bbef": {
     "model_module": "@jupyter-widgets/base",
     "model_module_version": "1.2.0",
     "model_name": "LayoutModel",
     "state": {
      "_model_module": "@jupyter-widgets/base",
      "_model_module_version": "1.2.0",
      "_model_name": "LayoutModel",
      "_view_count": null,
      "_view_module": "@jupyter-widgets/base",
      "_view_module_version": "1.2.0",
      "_view_name": "LayoutView",
      "align_content": null,
      "align_items": null,
      "align_self": null,
      "border": null,
      "bottom": null,
      "display": null,
      "flex": null,
      "flex_flow": null,
      "grid_area": null,
      "grid_auto_columns": null,
      "grid_auto_flow": null,
      "grid_auto_rows": null,
      "grid_column": null,
      "grid_gap": null,
      "grid_row": null,
      "grid_template_areas": null,
      "grid_template_columns": null,
      "grid_template_rows": null,
      "height": null,
      "justify_content": null,
      "justify_items": null,
      "left": null,
      "margin": null,
      "max_height": null,
      "max_width": null,
      "min_height": null,
      "min_width": null,
      "object_fit": null,
      "object_position": null,
      "order": null,
      "overflow": null,
      "overflow_x": null,
      "overflow_y": null,
      "padding": null,
      "right": null,
      "top": null,
      "visibility": null,
      "width": null
     }
    },
    "21307422a1054270b7007a0a1438bfc7": {
     "model_module": "@jupyter-widgets/base",
     "model_module_version": "1.2.0",
     "model_name": "LayoutModel",
     "state": {
      "_model_module": "@jupyter-widgets/base",
      "_model_module_version": "1.2.0",
      "_model_name": "LayoutModel",
      "_view_count": null,
      "_view_module": "@jupyter-widgets/base",
      "_view_module_version": "1.2.0",
      "_view_name": "LayoutView",
      "align_content": null,
      "align_items": null,
      "align_self": null,
      "border": null,
      "bottom": null,
      "display": null,
      "flex": null,
      "flex_flow": null,
      "grid_area": null,
      "grid_auto_columns": null,
      "grid_auto_flow": null,
      "grid_auto_rows": null,
      "grid_column": null,
      "grid_gap": null,
      "grid_row": null,
      "grid_template_areas": null,
      "grid_template_columns": null,
      "grid_template_rows": null,
      "height": null,
      "justify_content": null,
      "justify_items": null,
      "left": null,
      "margin": null,
      "max_height": null,
      "max_width": null,
      "min_height": null,
      "min_width": null,
      "object_fit": null,
      "object_position": null,
      "order": null,
      "overflow": null,
      "overflow_x": null,
      "overflow_y": null,
      "padding": null,
      "right": null,
      "top": null,
      "visibility": null,
      "width": null
     }
    },
    "217eb0b5226e414490ff14ed0b1002c7": {
     "model_module": "@jupyter-widgets/controls",
     "model_module_version": "1.5.0",
     "model_name": "HTMLModel",
     "state": {
      "_dom_classes": [],
      "_model_module": "@jupyter-widgets/controls",
      "_model_module_version": "1.5.0",
      "_model_name": "HTMLModel",
      "_view_count": null,
      "_view_module": "@jupyter-widgets/controls",
      "_view_module_version": "1.5.0",
      "_view_name": "HTMLView",
      "description": "",
      "description_tooltip": null,
      "layout": "IPY_MODEL_0de718137b9b49849836415a9cd6572f",
      "placeholder": "​",
      "style": "IPY_MODEL_334001b6cf1e47c594d54b5cfc92f4a8",
      "value": "Downloading data: 100%"
     }
    },
    "225a2b47947e4facba2b55fea52bb3db": {
     "model_module": "@jupyter-widgets/base",
     "model_module_version": "1.2.0",
     "model_name": "LayoutModel",
     "state": {
      "_model_module": "@jupyter-widgets/base",
      "_model_module_version": "1.2.0",
      "_model_name": "LayoutModel",
      "_view_count": null,
      "_view_module": "@jupyter-widgets/base",
      "_view_module_version": "1.2.0",
      "_view_name": "LayoutView",
      "align_content": null,
      "align_items": null,
      "align_self": null,
      "border": null,
      "bottom": null,
      "display": null,
      "flex": null,
      "flex_flow": null,
      "grid_area": null,
      "grid_auto_columns": null,
      "grid_auto_flow": null,
      "grid_auto_rows": null,
      "grid_column": null,
      "grid_gap": null,
      "grid_row": null,
      "grid_template_areas": null,
      "grid_template_columns": null,
      "grid_template_rows": null,
      "height": null,
      "justify_content": null,
      "justify_items": null,
      "left": null,
      "margin": null,
      "max_height": null,
      "max_width": null,
      "min_height": null,
      "min_width": null,
      "object_fit": null,
      "object_position": null,
      "order": null,
      "overflow": null,
      "overflow_x": null,
      "overflow_y": null,
      "padding": null,
      "right": null,
      "top": null,
      "visibility": null,
      "width": null
     }
    },
    "2361a933a23b427b9729480649b5daf8": {
     "model_module": "@jupyter-widgets/base",
     "model_module_version": "1.2.0",
     "model_name": "LayoutModel",
     "state": {
      "_model_module": "@jupyter-widgets/base",
      "_model_module_version": "1.2.0",
      "_model_name": "LayoutModel",
      "_view_count": null,
      "_view_module": "@jupyter-widgets/base",
      "_view_module_version": "1.2.0",
      "_view_name": "LayoutView",
      "align_content": null,
      "align_items": null,
      "align_self": null,
      "border": null,
      "bottom": null,
      "display": null,
      "flex": null,
      "flex_flow": null,
      "grid_area": null,
      "grid_auto_columns": null,
      "grid_auto_flow": null,
      "grid_auto_rows": null,
      "grid_column": null,
      "grid_gap": null,
      "grid_row": null,
      "grid_template_areas": null,
      "grid_template_columns": null,
      "grid_template_rows": null,
      "height": null,
      "justify_content": null,
      "justify_items": null,
      "left": null,
      "margin": null,
      "max_height": null,
      "max_width": null,
      "min_height": null,
      "min_width": null,
      "object_fit": null,
      "object_position": null,
      "order": null,
      "overflow": null,
      "overflow_x": null,
      "overflow_y": null,
      "padding": null,
      "right": null,
      "top": null,
      "visibility": null,
      "width": null
     }
    },
    "24a1a0fea88540829a24a4218cf69aec": {
     "model_module": "@jupyter-widgets/controls",
     "model_module_version": "1.5.0",
     "model_name": "DescriptionStyleModel",
     "state": {
      "_model_module": "@jupyter-widgets/controls",
      "_model_module_version": "1.5.0",
      "_model_name": "DescriptionStyleModel",
      "_view_count": null,
      "_view_module": "@jupyter-widgets/base",
      "_view_module_version": "1.2.0",
      "_view_name": "StyleView",
      "description_width": ""
     }
    },
    "26ba808c911f4612b1ea7019969757a7": {
     "model_module": "@jupyter-widgets/base",
     "model_module_version": "1.2.0",
     "model_name": "LayoutModel",
     "state": {
      "_model_module": "@jupyter-widgets/base",
      "_model_module_version": "1.2.0",
      "_model_name": "LayoutModel",
      "_view_count": null,
      "_view_module": "@jupyter-widgets/base",
      "_view_module_version": "1.2.0",
      "_view_name": "LayoutView",
      "align_content": null,
      "align_items": null,
      "align_self": null,
      "border": null,
      "bottom": null,
      "display": null,
      "flex": null,
      "flex_flow": null,
      "grid_area": null,
      "grid_auto_columns": null,
      "grid_auto_flow": null,
      "grid_auto_rows": null,
      "grid_column": null,
      "grid_gap": null,
      "grid_row": null,
      "grid_template_areas": null,
      "grid_template_columns": null,
      "grid_template_rows": null,
      "height": null,
      "justify_content": null,
      "justify_items": null,
      "left": null,
      "margin": null,
      "max_height": null,
      "max_width": null,
      "min_height": null,
      "min_width": null,
      "object_fit": null,
      "object_position": null,
      "order": null,
      "overflow": null,
      "overflow_x": null,
      "overflow_y": null,
      "padding": null,
      "right": null,
      "top": null,
      "visibility": null,
      "width": null
     }
    },
    "28dcdd5f34154effac4653c3b1bf3c22": {
     "model_module": "@jupyter-widgets/base",
     "model_module_version": "1.2.0",
     "model_name": "LayoutModel",
     "state": {
      "_model_module": "@jupyter-widgets/base",
      "_model_module_version": "1.2.0",
      "_model_name": "LayoutModel",
      "_view_count": null,
      "_view_module": "@jupyter-widgets/base",
      "_view_module_version": "1.2.0",
      "_view_name": "LayoutView",
      "align_content": null,
      "align_items": null,
      "align_self": null,
      "border": null,
      "bottom": null,
      "display": null,
      "flex": null,
      "flex_flow": null,
      "grid_area": null,
      "grid_auto_columns": null,
      "grid_auto_flow": null,
      "grid_auto_rows": null,
      "grid_column": null,
      "grid_gap": null,
      "grid_row": null,
      "grid_template_areas": null,
      "grid_template_columns": null,
      "grid_template_rows": null,
      "height": null,
      "justify_content": null,
      "justify_items": null,
      "left": null,
      "margin": null,
      "max_height": null,
      "max_width": null,
      "min_height": null,
      "min_width": null,
      "object_fit": null,
      "object_position": null,
      "order": null,
      "overflow": null,
      "overflow_x": null,
      "overflow_y": null,
      "padding": null,
      "right": null,
      "top": null,
      "visibility": null,
      "width": null
     }
    },
    "2d10019b4a1b4c87b737cc095d0acfe5": {
     "model_module": "@jupyter-widgets/controls",
     "model_module_version": "1.5.0",
     "model_name": "HBoxModel",
     "state": {
      "_dom_classes": [],
      "_model_module": "@jupyter-widgets/controls",
      "_model_module_version": "1.5.0",
      "_model_name": "HBoxModel",
      "_view_count": null,
      "_view_module": "@jupyter-widgets/controls",
      "_view_module_version": "1.5.0",
      "_view_name": "HBoxView",
      "box_style": "",
      "children": [
       "IPY_MODEL_1598c7fc8fcc41099ed7e7e1636fb830",
       "IPY_MODEL_375737e61cfb4b209b1b75069515b325",
       "IPY_MODEL_d054c59ad0b2483583b555752960ace1"
      ],
      "layout": "IPY_MODEL_44907e7728144d04a14936c74a24f0a8"
     }
    },
    "2d37acc4febe49388f679cd59d44946e": {
     "model_module": "@jupyter-widgets/base",
     "model_module_version": "1.2.0",
     "model_name": "LayoutModel",
     "state": {
      "_model_module": "@jupyter-widgets/base",
      "_model_module_version": "1.2.0",
      "_model_name": "LayoutModel",
      "_view_count": null,
      "_view_module": "@jupyter-widgets/base",
      "_view_module_version": "1.2.0",
      "_view_name": "LayoutView",
      "align_content": null,
      "align_items": null,
      "align_self": null,
      "border": null,
      "bottom": null,
      "display": null,
      "flex": null,
      "flex_flow": null,
      "grid_area": null,
      "grid_auto_columns": null,
      "grid_auto_flow": null,
      "grid_auto_rows": null,
      "grid_column": null,
      "grid_gap": null,
      "grid_row": null,
      "grid_template_areas": null,
      "grid_template_columns": null,
      "grid_template_rows": null,
      "height": null,
      "justify_content": null,
      "justify_items": null,
      "left": null,
      "margin": null,
      "max_height": null,
      "max_width": null,
      "min_height": null,
      "min_width": null,
      "object_fit": null,
      "object_position": null,
      "order": null,
      "overflow": null,
      "overflow_x": null,
      "overflow_y": null,
      "padding": null,
      "right": null,
      "top": null,
      "visibility": null,
      "width": null
     }
    },
    "2d4911dd8dd241088b88dd7a0b6357aa": {
     "model_module": "@jupyter-widgets/base",
     "model_module_version": "1.2.0",
     "model_name": "LayoutModel",
     "state": {
      "_model_module": "@jupyter-widgets/base",
      "_model_module_version": "1.2.0",
      "_model_name": "LayoutModel",
      "_view_count": null,
      "_view_module": "@jupyter-widgets/base",
      "_view_module_version": "1.2.0",
      "_view_name": "LayoutView",
      "align_content": null,
      "align_items": null,
      "align_self": null,
      "border": null,
      "bottom": null,
      "display": null,
      "flex": null,
      "flex_flow": null,
      "grid_area": null,
      "grid_auto_columns": null,
      "grid_auto_flow": null,
      "grid_auto_rows": null,
      "grid_column": null,
      "grid_gap": null,
      "grid_row": null,
      "grid_template_areas": null,
      "grid_template_columns": null,
      "grid_template_rows": null,
      "height": null,
      "justify_content": null,
      "justify_items": null,
      "left": null,
      "margin": null,
      "max_height": null,
      "max_width": null,
      "min_height": null,
      "min_width": null,
      "object_fit": null,
      "object_position": null,
      "order": null,
      "overflow": null,
      "overflow_x": null,
      "overflow_y": null,
      "padding": null,
      "right": null,
      "top": null,
      "visibility": null,
      "width": null
     }
    },
    "2fd57f3b188149218c0a14129aaca0bd": {
     "model_module": "@jupyter-widgets/base",
     "model_module_version": "1.2.0",
     "model_name": "LayoutModel",
     "state": {
      "_model_module": "@jupyter-widgets/base",
      "_model_module_version": "1.2.0",
      "_model_name": "LayoutModel",
      "_view_count": null,
      "_view_module": "@jupyter-widgets/base",
      "_view_module_version": "1.2.0",
      "_view_name": "LayoutView",
      "align_content": null,
      "align_items": null,
      "align_self": null,
      "border": null,
      "bottom": null,
      "display": null,
      "flex": null,
      "flex_flow": null,
      "grid_area": null,
      "grid_auto_columns": null,
      "grid_auto_flow": null,
      "grid_auto_rows": null,
      "grid_column": null,
      "grid_gap": null,
      "grid_row": null,
      "grid_template_areas": null,
      "grid_template_columns": null,
      "grid_template_rows": null,
      "height": null,
      "justify_content": null,
      "justify_items": null,
      "left": null,
      "margin": null,
      "max_height": null,
      "max_width": null,
      "min_height": null,
      "min_width": null,
      "object_fit": null,
      "object_position": null,
      "order": null,
      "overflow": null,
      "overflow_x": null,
      "overflow_y": null,
      "padding": null,
      "right": null,
      "top": null,
      "visibility": null,
      "width": null
     }
    },
    "30ab6c7a43de44d98624061aa9b49bc9": {
     "model_module": "@jupyter-widgets/base",
     "model_module_version": "1.2.0",
     "model_name": "LayoutModel",
     "state": {
      "_model_module": "@jupyter-widgets/base",
      "_model_module_version": "1.2.0",
      "_model_name": "LayoutModel",
      "_view_count": null,
      "_view_module": "@jupyter-widgets/base",
      "_view_module_version": "1.2.0",
      "_view_name": "LayoutView",
      "align_content": null,
      "align_items": null,
      "align_self": null,
      "border": null,
      "bottom": null,
      "display": null,
      "flex": null,
      "flex_flow": null,
      "grid_area": null,
      "grid_auto_columns": null,
      "grid_auto_flow": null,
      "grid_auto_rows": null,
      "grid_column": null,
      "grid_gap": null,
      "grid_row": null,
      "grid_template_areas": null,
      "grid_template_columns": null,
      "grid_template_rows": null,
      "height": null,
      "justify_content": null,
      "justify_items": null,
      "left": null,
      "margin": null,
      "max_height": null,
      "max_width": null,
      "min_height": null,
      "min_width": null,
      "object_fit": null,
      "object_position": null,
      "order": null,
      "overflow": null,
      "overflow_x": null,
      "overflow_y": null,
      "padding": null,
      "right": null,
      "top": null,
      "visibility": null,
      "width": null
     }
    },
    "31158538fdbc412da1da716fbf1ec483": {
     "model_module": "@jupyter-widgets/controls",
     "model_module_version": "1.5.0",
     "model_name": "DescriptionStyleModel",
     "state": {
      "_model_module": "@jupyter-widgets/controls",
      "_model_module_version": "1.5.0",
      "_model_name": "DescriptionStyleModel",
      "_view_count": null,
      "_view_module": "@jupyter-widgets/base",
      "_view_module_version": "1.2.0",
      "_view_name": "StyleView",
      "description_width": ""
     }
    },
    "334001b6cf1e47c594d54b5cfc92f4a8": {
     "model_module": "@jupyter-widgets/controls",
     "model_module_version": "1.5.0",
     "model_name": "DescriptionStyleModel",
     "state": {
      "_model_module": "@jupyter-widgets/controls",
      "_model_module_version": "1.5.0",
      "_model_name": "DescriptionStyleModel",
      "_view_count": null,
      "_view_module": "@jupyter-widgets/base",
      "_view_module_version": "1.2.0",
      "_view_name": "StyleView",
      "description_width": ""
     }
    },
    "34210d42157049a88c5935e03c8eb36a": {
     "model_module": "@jupyter-widgets/controls",
     "model_module_version": "1.5.0",
     "model_name": "FloatProgressModel",
     "state": {
      "_dom_classes": [],
      "_model_module": "@jupyter-widgets/controls",
      "_model_module_version": "1.5.0",
      "_model_name": "FloatProgressModel",
      "_view_count": null,
      "_view_module": "@jupyter-widgets/controls",
      "_view_module_version": "1.5.0",
      "_view_name": "ProgressView",
      "bar_style": "success",
      "description": "",
      "description_tooltip": null,
      "layout": "IPY_MODEL_4cd79a3c04374caf99831f26af1c0cbc",
      "max": 85707,
      "min": 0,
      "orientation": "horizontal",
      "style": "IPY_MODEL_3874a044a3e24bc5a8549d47c3417584",
      "value": 85707
     }
    },
    "3460b0b956054d34bf4412fb224434e0": {
     "model_module": "@jupyter-widgets/controls",
     "model_module_version": "1.5.0",
     "model_name": "DescriptionStyleModel",
     "state": {
      "_model_module": "@jupyter-widgets/controls",
      "_model_module_version": "1.5.0",
      "_model_name": "DescriptionStyleModel",
      "_view_count": null,
      "_view_module": "@jupyter-widgets/base",
      "_view_module_version": "1.2.0",
      "_view_name": "StyleView",
      "description_width": ""
     }
    },
    "3742598bf90b46f9848dd6db65bfe148": {
     "model_module": "@jupyter-widgets/controls",
     "model_module_version": "1.5.0",
     "model_name": "ProgressStyleModel",
     "state": {
      "_model_module": "@jupyter-widgets/controls",
      "_model_module_version": "1.5.0",
      "_model_name": "ProgressStyleModel",
      "_view_count": null,
      "_view_module": "@jupyter-widgets/base",
      "_view_module_version": "1.2.0",
      "_view_name": "StyleView",
      "bar_color": null,
      "description_width": ""
     }
    },
    "375737e61cfb4b209b1b75069515b325": {
     "model_module": "@jupyter-widgets/controls",
     "model_module_version": "1.5.0",
     "model_name": "FloatProgressModel",
     "state": {
      "_dom_classes": [],
      "_model_module": "@jupyter-widgets/controls",
      "_model_module_version": "1.5.0",
      "_model_name": "FloatProgressModel",
      "_view_count": null,
      "_view_module": "@jupyter-widgets/controls",
      "_view_module_version": "1.5.0",
      "_view_name": "ProgressView",
      "bar_style": "success",
      "description": "",
      "description_tooltip": null,
      "layout": "IPY_MODEL_b497bb1f0c594920b11055150900c666",
      "max": 520,
      "min": 0,
      "orientation": "horizontal",
      "style": "IPY_MODEL_13d48961e55b455ebe565234a650af01",
      "value": 520
     }
    },
    "37874be8bc5d48f991e6fc081680e0e6": {
     "model_module": "@jupyter-widgets/controls",
     "model_module_version": "1.5.0",
     "model_name": "HTMLModel",
     "state": {
      "_dom_classes": [],
      "_model_module": "@jupyter-widgets/controls",
      "_model_module_version": "1.5.0",
      "_model_name": "HTMLModel",
      "_view_count": null,
      "_view_module": "@jupyter-widgets/controls",
      "_view_module_version": "1.5.0",
      "_view_name": "HTMLView",
      "description": "",
      "description_tooltip": null,
      "layout": "IPY_MODEL_30ab6c7a43de44d98624061aa9b49bc9",
      "placeholder": "​",
      "style": "IPY_MODEL_6a57217f862e4475870aa926e5fb120e",
      "value": " 2507/2507 [00:00&lt;00:00, 66460.96 examples/s]"
     }
    },
    "37aee083346a4d21970af156c2b8384f": {
     "model_module": "@jupyter-widgets/base",
     "model_module_version": "1.2.0",
     "model_name": "LayoutModel",
     "state": {
      "_model_module": "@jupyter-widgets/base",
      "_model_module_version": "1.2.0",
      "_model_name": "LayoutModel",
      "_view_count": null,
      "_view_module": "@jupyter-widgets/base",
      "_view_module_version": "1.2.0",
      "_view_name": "LayoutView",
      "align_content": null,
      "align_items": null,
      "align_self": null,
      "border": null,
      "bottom": null,
      "display": null,
      "flex": null,
      "flex_flow": null,
      "grid_area": null,
      "grid_auto_columns": null,
      "grid_auto_flow": null,
      "grid_auto_rows": null,
      "grid_column": null,
      "grid_gap": null,
      "grid_row": null,
      "grid_template_areas": null,
      "grid_template_columns": null,
      "grid_template_rows": null,
      "height": null,
      "justify_content": null,
      "justify_items": null,
      "left": null,
      "margin": null,
      "max_height": null,
      "max_width": null,
      "min_height": null,
      "min_width": null,
      "object_fit": null,
      "object_position": null,
      "order": null,
      "overflow": null,
      "overflow_x": null,
      "overflow_y": null,
      "padding": null,
      "right": null,
      "top": null,
      "visibility": null,
      "width": null
     }
    },
    "3841a8f204bc438a9cc8e7fa6baacedc": {
     "model_module": "@jupyter-widgets/base",
     "model_module_version": "1.2.0",
     "model_name": "LayoutModel",
     "state": {
      "_model_module": "@jupyter-widgets/base",
      "_model_module_version": "1.2.0",
      "_model_name": "LayoutModel",
      "_view_count": null,
      "_view_module": "@jupyter-widgets/base",
      "_view_module_version": "1.2.0",
      "_view_name": "LayoutView",
      "align_content": null,
      "align_items": null,
      "align_self": null,
      "border": null,
      "bottom": null,
      "display": null,
      "flex": null,
      "flex_flow": null,
      "grid_area": null,
      "grid_auto_columns": null,
      "grid_auto_flow": null,
      "grid_auto_rows": null,
      "grid_column": null,
      "grid_gap": null,
      "grid_row": null,
      "grid_template_areas": null,
      "grid_template_columns": null,
      "grid_template_rows": null,
      "height": null,
      "justify_content": null,
      "justify_items": null,
      "left": null,
      "margin": null,
      "max_height": null,
      "max_width": null,
      "min_height": null,
      "min_width": null,
      "object_fit": null,
      "object_position": null,
      "order": null,
      "overflow": null,
      "overflow_x": null,
      "overflow_y": null,
      "padding": null,
      "right": null,
      "top": null,
      "visibility": null,
      "width": null
     }
    },
    "3874a044a3e24bc5a8549d47c3417584": {
     "model_module": "@jupyter-widgets/controls",
     "model_module_version": "1.5.0",
     "model_name": "ProgressStyleModel",
     "state": {
      "_model_module": "@jupyter-widgets/controls",
      "_model_module_version": "1.5.0",
      "_model_name": "ProgressStyleModel",
      "_view_count": null,
      "_view_module": "@jupyter-widgets/base",
      "_view_module_version": "1.2.0",
      "_view_name": "StyleView",
      "bar_color": null,
      "description_width": ""
     }
    },
    "39decff96a114a4891c3421b801c69c4": {
     "model_module": "@jupyter-widgets/base",
     "model_module_version": "1.2.0",
     "model_name": "LayoutModel",
     "state": {
      "_model_module": "@jupyter-widgets/base",
      "_model_module_version": "1.2.0",
      "_model_name": "LayoutModel",
      "_view_count": null,
      "_view_module": "@jupyter-widgets/base",
      "_view_module_version": "1.2.0",
      "_view_name": "LayoutView",
      "align_content": null,
      "align_items": null,
      "align_self": null,
      "border": null,
      "bottom": null,
      "display": null,
      "flex": null,
      "flex_flow": null,
      "grid_area": null,
      "grid_auto_columns": null,
      "grid_auto_flow": null,
      "grid_auto_rows": null,
      "grid_column": null,
      "grid_gap": null,
      "grid_row": null,
      "grid_template_areas": null,
      "grid_template_columns": null,
      "grid_template_rows": null,
      "height": null,
      "justify_content": null,
      "justify_items": null,
      "left": null,
      "margin": null,
      "max_height": null,
      "max_width": null,
      "min_height": null,
      "min_width": null,
      "object_fit": null,
      "object_position": null,
      "order": null,
      "overflow": null,
      "overflow_x": null,
      "overflow_y": null,
      "padding": null,
      "right": null,
      "top": null,
      "visibility": null,
      "width": null
     }
    },
    "3ba9a6b984d14c19afaedc93f564cfdd": {
     "model_module": "@jupyter-widgets/base",
     "model_module_version": "1.2.0",
     "model_name": "LayoutModel",
     "state": {
      "_model_module": "@jupyter-widgets/base",
      "_model_module_version": "1.2.0",
      "_model_name": "LayoutModel",
      "_view_count": null,
      "_view_module": "@jupyter-widgets/base",
      "_view_module_version": "1.2.0",
      "_view_name": "LayoutView",
      "align_content": null,
      "align_items": null,
      "align_self": null,
      "border": null,
      "bottom": null,
      "display": null,
      "flex": null,
      "flex_flow": null,
      "grid_area": null,
      "grid_auto_columns": null,
      "grid_auto_flow": null,
      "grid_auto_rows": null,
      "grid_column": null,
      "grid_gap": null,
      "grid_row": null,
      "grid_template_areas": null,
      "grid_template_columns": null,
      "grid_template_rows": null,
      "height": null,
      "justify_content": null,
      "justify_items": null,
      "left": null,
      "margin": null,
      "max_height": null,
      "max_width": null,
      "min_height": null,
      "min_width": null,
      "object_fit": null,
      "object_position": null,
      "order": null,
      "overflow": null,
      "overflow_x": null,
      "overflow_y": null,
      "padding": null,
      "right": null,
      "top": null,
      "visibility": null,
      "width": null
     }
    },
    "3bca78cdf87a4ba5adb4fd9a96e705ad": {
     "model_module": "@jupyter-widgets/base",
     "model_module_version": "1.2.0",
     "model_name": "LayoutModel",
     "state": {
      "_model_module": "@jupyter-widgets/base",
      "_model_module_version": "1.2.0",
      "_model_name": "LayoutModel",
      "_view_count": null,
      "_view_module": "@jupyter-widgets/base",
      "_view_module_version": "1.2.0",
      "_view_name": "LayoutView",
      "align_content": null,
      "align_items": null,
      "align_self": null,
      "border": null,
      "bottom": null,
      "display": null,
      "flex": null,
      "flex_flow": null,
      "grid_area": null,
      "grid_auto_columns": null,
      "grid_auto_flow": null,
      "grid_auto_rows": null,
      "grid_column": null,
      "grid_gap": null,
      "grid_row": null,
      "grid_template_areas": null,
      "grid_template_columns": null,
      "grid_template_rows": null,
      "height": null,
      "justify_content": null,
      "justify_items": null,
      "left": null,
      "margin": null,
      "max_height": null,
      "max_width": null,
      "min_height": null,
      "min_width": null,
      "object_fit": null,
      "object_position": null,
      "order": null,
      "overflow": null,
      "overflow_x": null,
      "overflow_y": null,
      "padding": null,
      "right": null,
      "top": null,
      "visibility": null,
      "width": null
     }
    },
    "3df006334c6b4811b2cd0a7ff2d3a7a8": {
     "model_module": "@jupyter-widgets/controls",
     "model_module_version": "1.5.0",
     "model_name": "FloatProgressModel",
     "state": {
      "_dom_classes": [],
      "_model_module": "@jupyter-widgets/controls",
      "_model_module_version": "1.5.0",
      "_model_name": "FloatProgressModel",
      "_view_count": null,
      "_view_module": "@jupyter-widgets/controls",
      "_view_module_version": "1.5.0",
      "_view_name": "ProgressView",
      "bar_style": "success",
      "description": "",
      "description_tooltip": null,
      "layout": "IPY_MODEL_55234695d8a94e18935459f33e914f0c",
      "max": 189602204,
      "min": 0,
      "orientation": "horizontal",
      "style": "IPY_MODEL_900aa99ad3d946408a5e5632f404fa78",
      "value": 189602204
     }
    },
    "3e36575f005649b5a612e8b461e16372": {
     "model_module": "@jupyter-widgets/controls",
     "model_module_version": "1.5.0",
     "model_name": "FloatProgressModel",
     "state": {
      "_dom_classes": [],
      "_model_module": "@jupyter-widgets/controls",
      "_model_module_version": "1.5.0",
      "_model_name": "FloatProgressModel",
      "_view_count": null,
      "_view_module": "@jupyter-widgets/controls",
      "_view_module_version": "1.5.0",
      "_view_name": "ProgressView",
      "bar_style": "success",
      "description": "",
      "description_tooltip": null,
      "layout": "IPY_MODEL_705c37cdda8d4df999f795faa04a55bf",
      "max": 1659083,
      "min": 0,
      "orientation": "horizontal",
      "style": "IPY_MODEL_094aafa7888b46d1845eb4c4719facd8",
      "value": 1659083
     }
    },
    "3e8481eb064e4535b64bb0e0d09452d6": {
     "model_module": "@jupyter-widgets/base",
     "model_module_version": "1.2.0",
     "model_name": "LayoutModel",
     "state": {
      "_model_module": "@jupyter-widgets/base",
      "_model_module_version": "1.2.0",
      "_model_name": "LayoutModel",
      "_view_count": null,
      "_view_module": "@jupyter-widgets/base",
      "_view_module_version": "1.2.0",
      "_view_name": "LayoutView",
      "align_content": null,
      "align_items": null,
      "align_self": null,
      "border": null,
      "bottom": null,
      "display": null,
      "flex": null,
      "flex_flow": null,
      "grid_area": null,
      "grid_auto_columns": null,
      "grid_auto_flow": null,
      "grid_auto_rows": null,
      "grid_column": null,
      "grid_gap": null,
      "grid_row": null,
      "grid_template_areas": null,
      "grid_template_columns": null,
      "grid_template_rows": null,
      "height": null,
      "justify_content": null,
      "justify_items": null,
      "left": null,
      "margin": null,
      "max_height": null,
      "max_width": null,
      "min_height": null,
      "min_width": null,
      "object_fit": null,
      "object_position": null,
      "order": null,
      "overflow": null,
      "overflow_x": null,
      "overflow_y": null,
      "padding": null,
      "right": null,
      "top": null,
      "visibility": null,
      "width": null
     }
    },
    "41145271c64e4761ab25e32ce970f199": {
     "model_module": "@jupyter-widgets/controls",
     "model_module_version": "1.5.0",
     "model_name": "HTMLModel",
     "state": {
      "_dom_classes": [],
      "_model_module": "@jupyter-widgets/controls",
      "_model_module_version": "1.5.0",
      "_model_name": "HTMLModel",
      "_view_count": null,
      "_view_module": "@jupyter-widgets/controls",
      "_view_module_version": "1.5.0",
      "_view_name": "HTMLView",
      "description": "",
      "description_tooltip": null,
      "layout": "IPY_MODEL_3ba9a6b984d14c19afaedc93f564cfdd",
      "placeholder": "​",
      "style": "IPY_MODEL_71fd0bb1314d4b1d810e42780470a93f",
      "value": " 85.7k/85.7k [00:00&lt;00:00, 226kB/s]"
     }
    },
    "44907e7728144d04a14936c74a24f0a8": {
     "model_module": "@jupyter-widgets/base",
     "model_module_version": "1.2.0",
     "model_name": "LayoutModel",
     "state": {
      "_model_module": "@jupyter-widgets/base",
      "_model_module_version": "1.2.0",
      "_model_name": "LayoutModel",
      "_view_count": null,
      "_view_module": "@jupyter-widgets/base",
      "_view_module_version": "1.2.0",
      "_view_name": "LayoutView",
      "align_content": null,
      "align_items": null,
      "align_self": null,
      "border": null,
      "bottom": null,
      "display": null,
      "flex": null,
      "flex_flow": null,
      "grid_area": null,
      "grid_auto_columns": null,
      "grid_auto_flow": null,
      "grid_auto_rows": null,
      "grid_column": null,
      "grid_gap": null,
      "grid_row": null,
      "grid_template_areas": null,
      "grid_template_columns": null,
      "grid_template_rows": null,
      "height": null,
      "justify_content": null,
      "justify_items": null,
      "left": null,
      "margin": null,
      "max_height": null,
      "max_width": null,
      "min_height": null,
      "min_width": null,
      "object_fit": null,
      "object_position": null,
      "order": null,
      "overflow": null,
      "overflow_x": null,
      "overflow_y": null,
      "padding": null,
      "right": null,
      "top": null,
      "visibility": null,
      "width": null
     }
    },
    "459c9771925d4a66ba4e1c11d91975ed": {
     "model_module": "@jupyter-widgets/base",
     "model_module_version": "1.2.0",
     "model_name": "LayoutModel",
     "state": {
      "_model_module": "@jupyter-widgets/base",
      "_model_module_version": "1.2.0",
      "_model_name": "LayoutModel",
      "_view_count": null,
      "_view_module": "@jupyter-widgets/base",
      "_view_module_version": "1.2.0",
      "_view_name": "LayoutView",
      "align_content": null,
      "align_items": null,
      "align_self": null,
      "border": null,
      "bottom": null,
      "display": null,
      "flex": null,
      "flex_flow": null,
      "grid_area": null,
      "grid_auto_columns": null,
      "grid_auto_flow": null,
      "grid_auto_rows": null,
      "grid_column": null,
      "grid_gap": null,
      "grid_row": null,
      "grid_template_areas": null,
      "grid_template_columns": null,
      "grid_template_rows": null,
      "height": null,
      "justify_content": null,
      "justify_items": null,
      "left": null,
      "margin": null,
      "max_height": null,
      "max_width": null,
      "min_height": null,
      "min_width": null,
      "object_fit": null,
      "object_position": null,
      "order": null,
      "overflow": null,
      "overflow_x": null,
      "overflow_y": null,
      "padding": null,
      "right": null,
      "top": null,
      "visibility": null,
      "width": null
     }
    },
    "472b9a40c01c463b9c833667002c92fb": {
     "model_module": "@jupyter-widgets/base",
     "model_module_version": "1.2.0",
     "model_name": "LayoutModel",
     "state": {
      "_model_module": "@jupyter-widgets/base",
      "_model_module_version": "1.2.0",
      "_model_name": "LayoutModel",
      "_view_count": null,
      "_view_module": "@jupyter-widgets/base",
      "_view_module_version": "1.2.0",
      "_view_name": "LayoutView",
      "align_content": null,
      "align_items": null,
      "align_self": null,
      "border": null,
      "bottom": null,
      "display": null,
      "flex": null,
      "flex_flow": null,
      "grid_area": null,
      "grid_auto_columns": null,
      "grid_auto_flow": null,
      "grid_auto_rows": null,
      "grid_column": null,
      "grid_gap": null,
      "grid_row": null,
      "grid_template_areas": null,
      "grid_template_columns": null,
      "grid_template_rows": null,
      "height": null,
      "justify_content": null,
      "justify_items": null,
      "left": null,
      "margin": null,
      "max_height": null,
      "max_width": null,
      "min_height": null,
      "min_width": null,
      "object_fit": null,
      "object_position": null,
      "order": null,
      "overflow": null,
      "overflow_x": null,
      "overflow_y": null,
      "padding": null,
      "right": null,
      "top": null,
      "visibility": null,
      "width": null
     }
    },
    "49be4c8ab811411193efc7a50b57b1b4": {
     "model_module": "@jupyter-widgets/controls",
     "model_module_version": "1.5.0",
     "model_name": "DescriptionStyleModel",
     "state": {
      "_model_module": "@jupyter-widgets/controls",
      "_model_module_version": "1.5.0",
      "_model_name": "DescriptionStyleModel",
      "_view_count": null,
      "_view_module": "@jupyter-widgets/base",
      "_view_module_version": "1.2.0",
      "_view_name": "StyleView",
      "description_width": ""
     }
    },
    "4a63aea62d7e4f28aabec16cf1a500aa": {
     "model_module": "@jupyter-widgets/controls",
     "model_module_version": "1.5.0",
     "model_name": "FloatProgressModel",
     "state": {
      "_dom_classes": [],
      "_model_module": "@jupyter-widgets/controls",
      "_model_module_version": "1.5.0",
      "_model_name": "FloatProgressModel",
      "_view_count": null,
      "_view_module": "@jupyter-widgets/controls",
      "_view_module_version": "1.5.0",
      "_view_name": "ProgressView",
      "bar_style": "success",
      "description": "",
      "description_tooltip": null,
      "layout": "IPY_MODEL_37aee083346a4d21970af156c2b8384f",
      "max": 85707,
      "min": 0,
      "orientation": "horizontal",
      "style": "IPY_MODEL_e0a0d11f88b84ff695cd911085617e83",
      "value": 85707
     }
    },
    "4ac5f1aa6f774316b8f7df80d154ca77": {
     "model_module": "@jupyter-widgets/base",
     "model_module_version": "1.2.0",
     "model_name": "LayoutModel",
     "state": {
      "_model_module": "@jupyter-widgets/base",
      "_model_module_version": "1.2.0",
      "_model_name": "LayoutModel",
      "_view_count": null,
      "_view_module": "@jupyter-widgets/base",
      "_view_module_version": "1.2.0",
      "_view_name": "LayoutView",
      "align_content": null,
      "align_items": null,
      "align_self": null,
      "border": null,
      "bottom": null,
      "display": null,
      "flex": null,
      "flex_flow": null,
      "grid_area": null,
      "grid_auto_columns": null,
      "grid_auto_flow": null,
      "grid_auto_rows": null,
      "grid_column": null,
      "grid_gap": null,
      "grid_row": null,
      "grid_template_areas": null,
      "grid_template_columns": null,
      "grid_template_rows": null,
      "height": null,
      "justify_content": null,
      "justify_items": null,
      "left": null,
      "margin": null,
      "max_height": null,
      "max_width": null,
      "min_height": null,
      "min_width": null,
      "object_fit": null,
      "object_position": null,
      "order": null,
      "overflow": null,
      "overflow_x": null,
      "overflow_y": null,
      "padding": null,
      "right": null,
      "top": null,
      "visibility": null,
      "width": null
     }
    },
    "4b549a14f7664f3eaf5db04cef27f040": {
     "model_module": "@jupyter-widgets/controls",
     "model_module_version": "1.5.0",
     "model_name": "HBoxModel",
     "state": {
      "_dom_classes": [],
      "_model_module": "@jupyter-widgets/controls",
      "_model_module_version": "1.5.0",
      "_model_name": "HBoxModel",
      "_view_count": null,
      "_view_module": "@jupyter-widgets/controls",
      "_view_module_version": "1.5.0",
      "_view_name": "HBoxView",
      "box_style": "",
      "children": [
       "IPY_MODEL_c7fac56fe6cf472ab3c479d4b05398a4",
       "IPY_MODEL_14c64ec7da864e199b9d823ff41bb09a",
       "IPY_MODEL_16d3b0315c85480e86a89f9d9035b3b2"
      ],
      "layout": "IPY_MODEL_2d4911dd8dd241088b88dd7a0b6357aa"
     }
    },
    "4cd79a3c04374caf99831f26af1c0cbc": {
     "model_module": "@jupyter-widgets/base",
     "model_module_version": "1.2.0",
     "model_name": "LayoutModel",
     "state": {
      "_model_module": "@jupyter-widgets/base",
      "_model_module_version": "1.2.0",
      "_model_name": "LayoutModel",
      "_view_count": null,
      "_view_module": "@jupyter-widgets/base",
      "_view_module_version": "1.2.0",
      "_view_name": "LayoutView",
      "align_content": null,
      "align_items": null,
      "align_self": null,
      "border": null,
      "bottom": null,
      "display": null,
      "flex": null,
      "flex_flow": null,
      "grid_area": null,
      "grid_auto_columns": null,
      "grid_auto_flow": null,
      "grid_auto_rows": null,
      "grid_column": null,
      "grid_gap": null,
      "grid_row": null,
      "grid_template_areas": null,
      "grid_template_columns": null,
      "grid_template_rows": null,
      "height": null,
      "justify_content": null,
      "justify_items": null,
      "left": null,
      "margin": null,
      "max_height": null,
      "max_width": null,
      "min_height": null,
      "min_width": null,
      "object_fit": null,
      "object_position": null,
      "order": null,
      "overflow": null,
      "overflow_x": null,
      "overflow_y": null,
      "padding": null,
      "right": null,
      "top": null,
      "visibility": null,
      "width": null
     }
    },
    "4f111e7eb7624ef290947e5e20037ea8": {
     "model_module": "@jupyter-widgets/controls",
     "model_module_version": "1.5.0",
     "model_name": "HTMLModel",
     "state": {
      "_dom_classes": [],
      "_model_module": "@jupyter-widgets/controls",
      "_model_module_version": "1.5.0",
      "_model_name": "HTMLModel",
      "_view_count": null,
      "_view_module": "@jupyter-widgets/controls",
      "_view_module_version": "1.5.0",
      "_view_name": "HTMLView",
      "description": "",
      "description_tooltip": null,
      "layout": "IPY_MODEL_0e0a58640fec4d498a4ebc423007f4f7",
      "placeholder": "​",
      "style": "IPY_MODEL_31158538fdbc412da1da716fbf1ec483",
      "value": "Downloading data: 100%"
     }
    },
    "52987fb124f0456b8e6d635f14c2d392": {
     "model_module": "@jupyter-widgets/controls",
     "model_module_version": "1.5.0",
     "model_name": "DescriptionStyleModel",
     "state": {
      "_model_module": "@jupyter-widgets/controls",
      "_model_module_version": "1.5.0",
      "_model_name": "DescriptionStyleModel",
      "_view_count": null,
      "_view_module": "@jupyter-widgets/base",
      "_view_module_version": "1.2.0",
      "_view_name": "StyleView",
      "description_width": ""
     }
    },
    "542bc5a82db046b38b339378cece4d78": {
     "model_module": "@jupyter-widgets/controls",
     "model_module_version": "1.5.0",
     "model_name": "DescriptionStyleModel",
     "state": {
      "_model_module": "@jupyter-widgets/controls",
      "_model_module_version": "1.5.0",
      "_model_name": "DescriptionStyleModel",
      "_view_count": null,
      "_view_module": "@jupyter-widgets/base",
      "_view_module_version": "1.2.0",
      "_view_name": "StyleView",
      "description_width": ""
     }
    },
    "55234695d8a94e18935459f33e914f0c": {
     "model_module": "@jupyter-widgets/base",
     "model_module_version": "1.2.0",
     "model_name": "LayoutModel",
     "state": {
      "_model_module": "@jupyter-widgets/base",
      "_model_module_version": "1.2.0",
      "_model_name": "LayoutModel",
      "_view_count": null,
      "_view_module": "@jupyter-widgets/base",
      "_view_module_version": "1.2.0",
      "_view_name": "LayoutView",
      "align_content": null,
      "align_items": null,
      "align_self": null,
      "border": null,
      "bottom": null,
      "display": null,
      "flex": null,
      "flex_flow": null,
      "grid_area": null,
      "grid_auto_columns": null,
      "grid_auto_flow": null,
      "grid_auto_rows": null,
      "grid_column": null,
      "grid_gap": null,
      "grid_row": null,
      "grid_template_areas": null,
      "grid_template_columns": null,
      "grid_template_rows": null,
      "height": null,
      "justify_content": null,
      "justify_items": null,
      "left": null,
      "margin": null,
      "max_height": null,
      "max_width": null,
      "min_height": null,
      "min_width": null,
      "object_fit": null,
      "object_position": null,
      "order": null,
      "overflow": null,
      "overflow_x": null,
      "overflow_y": null,
      "padding": null,
      "right": null,
      "top": null,
      "visibility": null,
      "width": null
     }
    },
    "590fc86e02064e96bb2d9aa74d6497e2": {
     "model_module": "@jupyter-widgets/controls",
     "model_module_version": "1.5.0",
     "model_name": "HBoxModel",
     "state": {
      "_dom_classes": [],
      "_model_module": "@jupyter-widgets/controls",
      "_model_module_version": "1.5.0",
      "_model_name": "HBoxModel",
      "_view_count": null,
      "_view_module": "@jupyter-widgets/controls",
      "_view_module_version": "1.5.0",
      "_view_name": "HBoxView",
      "box_style": "",
      "children": [
       "IPY_MODEL_a9a331a3cd3043b786ce4558ccccee81",
       "IPY_MODEL_948c5822e7e84c6ca04672ca5fa3a2c2",
       "IPY_MODEL_c0fdcee51f0b4cf5bfc7d8b30c24ab61"
      ],
      "layout": "IPY_MODEL_3e8481eb064e4535b64bb0e0d09452d6"
     }
    },
    "5ad5a8cafa3d42e0820dc5dfc7895d08": {
     "model_module": "@jupyter-widgets/controls",
     "model_module_version": "1.5.0",
     "model_name": "HBoxModel",
     "state": {
      "_dom_classes": [],
      "_model_module": "@jupyter-widgets/controls",
      "_model_module_version": "1.5.0",
      "_model_name": "HBoxModel",
      "_view_count": null,
      "_view_module": "@jupyter-widgets/controls",
      "_view_module_version": "1.5.0",
      "_view_name": "HBoxView",
      "box_style": "",
      "children": [
       "IPY_MODEL_d97e719a28f042718f6381d1bf328272",
       "IPY_MODEL_3df006334c6b4811b2cd0a7ff2d3a7a8",
       "IPY_MODEL_c25be831e23f4f1bacbc8f99462601dc"
      ],
      "layout": "IPY_MODEL_f3d143cc6ed0493581c5a1d778bc9eda"
     }
    },
    "5dd37640a675425e9ce3236ab4088f87": {
     "model_module": "@jupyter-widgets/base",
     "model_module_version": "1.2.0",
     "model_name": "LayoutModel",
     "state": {
      "_model_module": "@jupyter-widgets/base",
      "_model_module_version": "1.2.0",
      "_model_name": "LayoutModel",
      "_view_count": null,
      "_view_module": "@jupyter-widgets/base",
      "_view_module_version": "1.2.0",
      "_view_name": "LayoutView",
      "align_content": null,
      "align_items": null,
      "align_self": null,
      "border": null,
      "bottom": null,
      "display": null,
      "flex": null,
      "flex_flow": null,
      "grid_area": null,
      "grid_auto_columns": null,
      "grid_auto_flow": null,
      "grid_auto_rows": null,
      "grid_column": null,
      "grid_gap": null,
      "grid_row": null,
      "grid_template_areas": null,
      "grid_template_columns": null,
      "grid_template_rows": null,
      "height": null,
      "justify_content": null,
      "justify_items": null,
      "left": null,
      "margin": null,
      "max_height": null,
      "max_width": null,
      "min_height": null,
      "min_width": null,
      "object_fit": null,
      "object_position": null,
      "order": null,
      "overflow": null,
      "overflow_x": null,
      "overflow_y": null,
      "padding": null,
      "right": null,
      "top": null,
      "visibility": null,
      "width": null
     }
    },
    "5e3e2a0f05674749a41bd69691096fc6": {
     "model_module": "@jupyter-widgets/base",
     "model_module_version": "1.2.0",
     "model_name": "LayoutModel",
     "state": {
      "_model_module": "@jupyter-widgets/base",
      "_model_module_version": "1.2.0",
      "_model_name": "LayoutModel",
      "_view_count": null,
      "_view_module": "@jupyter-widgets/base",
      "_view_module_version": "1.2.0",
      "_view_name": "LayoutView",
      "align_content": null,
      "align_items": null,
      "align_self": null,
      "border": null,
      "bottom": null,
      "display": null,
      "flex": null,
      "flex_flow": null,
      "grid_area": null,
      "grid_auto_columns": null,
      "grid_auto_flow": null,
      "grid_auto_rows": null,
      "grid_column": null,
      "grid_gap": null,
      "grid_row": null,
      "grid_template_areas": null,
      "grid_template_columns": null,
      "grid_template_rows": null,
      "height": null,
      "justify_content": null,
      "justify_items": null,
      "left": null,
      "margin": null,
      "max_height": null,
      "max_width": null,
      "min_height": null,
      "min_width": null,
      "object_fit": null,
      "object_position": null,
      "order": null,
      "overflow": null,
      "overflow_x": null,
      "overflow_y": null,
      "padding": null,
      "right": null,
      "top": null,
      "visibility": null,
      "width": null
     }
    },
    "60e58e5ed76847af8ae63de32c2aa4fe": {
     "model_module": "@jupyter-widgets/controls",
     "model_module_version": "1.5.0",
     "model_name": "ProgressStyleModel",
     "state": {
      "_model_module": "@jupyter-widgets/controls",
      "_model_module_version": "1.5.0",
      "_model_name": "ProgressStyleModel",
      "_view_count": null,
      "_view_module": "@jupyter-widgets/base",
      "_view_module_version": "1.2.0",
      "_view_name": "StyleView",
      "bar_color": null,
      "description_width": ""
     }
    },
    "615bfc36f70944edb278d6baba6401b0": {
     "model_module": "@jupyter-widgets/controls",
     "model_module_version": "1.5.0",
     "model_name": "HTMLModel",
     "state": {
      "_dom_classes": [],
      "_model_module": "@jupyter-widgets/controls",
      "_model_module_version": "1.5.0",
      "_model_name": "HTMLModel",
      "_view_count": null,
      "_view_module": "@jupyter-widgets/controls",
      "_view_module_version": "1.5.0",
      "_view_name": "HTMLView",
      "description": "",
      "description_tooltip": null,
      "layout": "IPY_MODEL_459c9771925d4a66ba4e1c11d91975ed",
      "placeholder": "​",
      "style": "IPY_MODEL_980a86136dc4428ba094d34793ec78e5",
      "value": " 1659083/1659083 [00:03&lt;00:00, 384330.64 examples/s]"
     }
    },
    "64e0259ea0f3499bb5a0a2fdb203aa93": {
     "model_module": "@jupyter-widgets/base",
     "model_module_version": "1.2.0",
     "model_name": "LayoutModel",
     "state": {
      "_model_module": "@jupyter-widgets/base",
      "_model_module_version": "1.2.0",
      "_model_name": "LayoutModel",
      "_view_count": null,
      "_view_module": "@jupyter-widgets/base",
      "_view_module_version": "1.2.0",
      "_view_name": "LayoutView",
      "align_content": null,
      "align_items": null,
      "align_self": null,
      "border": null,
      "bottom": null,
      "display": null,
      "flex": null,
      "flex_flow": null,
      "grid_area": null,
      "grid_auto_columns": null,
      "grid_auto_flow": null,
      "grid_auto_rows": null,
      "grid_column": null,
      "grid_gap": null,
      "grid_row": null,
      "grid_template_areas": null,
      "grid_template_columns": null,
      "grid_template_rows": null,
      "height": null,
      "justify_content": null,
      "justify_items": null,
      "left": null,
      "margin": null,
      "max_height": null,
      "max_width": null,
      "min_height": null,
      "min_width": null,
      "object_fit": null,
      "object_position": null,
      "order": null,
      "overflow": null,
      "overflow_x": null,
      "overflow_y": null,
      "padding": null,
      "right": null,
      "top": null,
      "visibility": null,
      "width": null
     }
    },
    "658293196053465a8520c8aee361d498": {
     "model_module": "@jupyter-widgets/base",
     "model_module_version": "1.2.0",
     "model_name": "LayoutModel",
     "state": {
      "_model_module": "@jupyter-widgets/base",
      "_model_module_version": "1.2.0",
      "_model_name": "LayoutModel",
      "_view_count": null,
      "_view_module": "@jupyter-widgets/base",
      "_view_module_version": "1.2.0",
      "_view_name": "LayoutView",
      "align_content": null,
      "align_items": null,
      "align_self": null,
      "border": null,
      "bottom": null,
      "display": null,
      "flex": null,
      "flex_flow": null,
      "grid_area": null,
      "grid_auto_columns": null,
      "grid_auto_flow": null,
      "grid_auto_rows": null,
      "grid_column": null,
      "grid_gap": null,
      "grid_row": null,
      "grid_template_areas": null,
      "grid_template_columns": null,
      "grid_template_rows": null,
      "height": null,
      "justify_content": null,
      "justify_items": null,
      "left": null,
      "margin": null,
      "max_height": null,
      "max_width": null,
      "min_height": null,
      "min_width": null,
      "object_fit": null,
      "object_position": null,
      "order": null,
      "overflow": null,
      "overflow_x": null,
      "overflow_y": null,
      "padding": null,
      "right": null,
      "top": null,
      "visibility": null,
      "width": null
     }
    },
    "6a57217f862e4475870aa926e5fb120e": {
     "model_module": "@jupyter-widgets/controls",
     "model_module_version": "1.5.0",
     "model_name": "DescriptionStyleModel",
     "state": {
      "_model_module": "@jupyter-widgets/controls",
      "_model_module_version": "1.5.0",
      "_model_name": "DescriptionStyleModel",
      "_view_count": null,
      "_view_module": "@jupyter-widgets/base",
      "_view_module_version": "1.2.0",
      "_view_name": "StyleView",
      "description_width": ""
     }
    },
    "6cac1ebc0e344ffbbee5b48b7295cb33": {
     "model_module": "@jupyter-widgets/controls",
     "model_module_version": "1.5.0",
     "model_name": "DescriptionStyleModel",
     "state": {
      "_model_module": "@jupyter-widgets/controls",
      "_model_module_version": "1.5.0",
      "_model_name": "DescriptionStyleModel",
      "_view_count": null,
      "_view_module": "@jupyter-widgets/base",
      "_view_module_version": "1.2.0",
      "_view_name": "StyleView",
      "description_width": ""
     }
    },
    "6e48e607ab314490a3ff48e0eaec7b7a": {
     "model_module": "@jupyter-widgets/controls",
     "model_module_version": "1.5.0",
     "model_name": "HTMLModel",
     "state": {
      "_dom_classes": [],
      "_model_module": "@jupyter-widgets/controls",
      "_model_module_version": "1.5.0",
      "_model_name": "HTMLModel",
      "_view_count": null,
      "_view_module": "@jupyter-widgets/controls",
      "_view_module_version": "1.5.0",
      "_view_name": "HTMLView",
      "description": "",
      "description_tooltip": null,
      "layout": "IPY_MODEL_ca44d05aee324548ab5379e1b1edf288",
      "placeholder": "​",
      "style": "IPY_MODEL_9f6d3f6dd1bf413fa4da4c2793d122a7",
      "value": " 1659083/1659083 [00:02&lt;00:00, 488105.89 examples/s]"
     }
    },
    "6ea3ab09f48f41929139f3457c6d139c": {
     "model_module": "@jupyter-widgets/base",
     "model_module_version": "1.2.0",
     "model_name": "LayoutModel",
     "state": {
      "_model_module": "@jupyter-widgets/base",
      "_model_module_version": "1.2.0",
      "_model_name": "LayoutModel",
      "_view_count": null,
      "_view_module": "@jupyter-widgets/base",
      "_view_module_version": "1.2.0",
      "_view_name": "LayoutView",
      "align_content": null,
      "align_items": null,
      "align_self": null,
      "border": null,
      "bottom": null,
      "display": null,
      "flex": null,
      "flex_flow": null,
      "grid_area": null,
      "grid_auto_columns": null,
      "grid_auto_flow": null,
      "grid_auto_rows": null,
      "grid_column": null,
      "grid_gap": null,
      "grid_row": null,
      "grid_template_areas": null,
      "grid_template_columns": null,
      "grid_template_rows": null,
      "height": null,
      "justify_content": null,
      "justify_items": null,
      "left": null,
      "margin": null,
      "max_height": null,
      "max_width": null,
      "min_height": null,
      "min_width": null,
      "object_fit": null,
      "object_position": null,
      "order": null,
      "overflow": null,
      "overflow_x": null,
      "overflow_y": null,
      "padding": null,
      "right": null,
      "top": null,
      "visibility": null,
      "width": null
     }
    },
    "6ebd53b27e5144e0b4836a46784ebc82": {
     "model_module": "@jupyter-widgets/base",
     "model_module_version": "1.2.0",
     "model_name": "LayoutModel",
     "state": {
      "_model_module": "@jupyter-widgets/base",
      "_model_module_version": "1.2.0",
      "_model_name": "LayoutModel",
      "_view_count": null,
      "_view_module": "@jupyter-widgets/base",
      "_view_module_version": "1.2.0",
      "_view_name": "LayoutView",
      "align_content": null,
      "align_items": null,
      "align_self": null,
      "border": null,
      "bottom": null,
      "display": null,
      "flex": null,
      "flex_flow": null,
      "grid_area": null,
      "grid_auto_columns": null,
      "grid_auto_flow": null,
      "grid_auto_rows": null,
      "grid_column": null,
      "grid_gap": null,
      "grid_row": null,
      "grid_template_areas": null,
      "grid_template_columns": null,
      "grid_template_rows": null,
      "height": null,
      "justify_content": null,
      "justify_items": null,
      "left": null,
      "margin": null,
      "max_height": null,
      "max_width": null,
      "min_height": null,
      "min_width": null,
      "object_fit": null,
      "object_position": null,
      "order": null,
      "overflow": null,
      "overflow_x": null,
      "overflow_y": null,
      "padding": null,
      "right": null,
      "top": null,
      "visibility": null,
      "width": null
     }
    },
    "705c37cdda8d4df999f795faa04a55bf": {
     "model_module": "@jupyter-widgets/base",
     "model_module_version": "1.2.0",
     "model_name": "LayoutModel",
     "state": {
      "_model_module": "@jupyter-widgets/base",
      "_model_module_version": "1.2.0",
      "_model_name": "LayoutModel",
      "_view_count": null,
      "_view_module": "@jupyter-widgets/base",
      "_view_module_version": "1.2.0",
      "_view_name": "LayoutView",
      "align_content": null,
      "align_items": null,
      "align_self": null,
      "border": null,
      "bottom": null,
      "display": null,
      "flex": null,
      "flex_flow": null,
      "grid_area": null,
      "grid_auto_columns": null,
      "grid_auto_flow": null,
      "grid_auto_rows": null,
      "grid_column": null,
      "grid_gap": null,
      "grid_row": null,
      "grid_template_areas": null,
      "grid_template_columns": null,
      "grid_template_rows": null,
      "height": null,
      "justify_content": null,
      "justify_items": null,
      "left": null,
      "margin": null,
      "max_height": null,
      "max_width": null,
      "min_height": null,
      "min_width": null,
      "object_fit": null,
      "object_position": null,
      "order": null,
      "overflow": null,
      "overflow_x": null,
      "overflow_y": null,
      "padding": null,
      "right": null,
      "top": null,
      "visibility": null,
      "width": null
     }
    },
    "71174e69a2bd44a282bf9d9a0706cf7d": {
     "model_module": "@jupyter-widgets/base",
     "model_module_version": "1.2.0",
     "model_name": "LayoutModel",
     "state": {
      "_model_module": "@jupyter-widgets/base",
      "_model_module_version": "1.2.0",
      "_model_name": "LayoutModel",
      "_view_count": null,
      "_view_module": "@jupyter-widgets/base",
      "_view_module_version": "1.2.0",
      "_view_name": "LayoutView",
      "align_content": null,
      "align_items": null,
      "align_self": null,
      "border": null,
      "bottom": null,
      "display": null,
      "flex": null,
      "flex_flow": null,
      "grid_area": null,
      "grid_auto_columns": null,
      "grid_auto_flow": null,
      "grid_auto_rows": null,
      "grid_column": null,
      "grid_gap": null,
      "grid_row": null,
      "grid_template_areas": null,
      "grid_template_columns": null,
      "grid_template_rows": null,
      "height": null,
      "justify_content": null,
      "justify_items": null,
      "left": null,
      "margin": null,
      "max_height": null,
      "max_width": null,
      "min_height": null,
      "min_width": null,
      "object_fit": null,
      "object_position": null,
      "order": null,
      "overflow": null,
      "overflow_x": null,
      "overflow_y": null,
      "padding": null,
      "right": null,
      "top": null,
      "visibility": null,
      "width": null
     }
    },
    "71a181a4ec854518b9a4ecc3c577d6c1": {
     "model_module": "@jupyter-widgets/controls",
     "model_module_version": "1.5.0",
     "model_name": "FloatProgressModel",
     "state": {
      "_dom_classes": [],
      "_model_module": "@jupyter-widgets/controls",
      "_model_module_version": "1.5.0",
      "_model_name": "FloatProgressModel",
      "_view_count": null,
      "_view_module": "@jupyter-widgets/controls",
      "_view_module_version": "1.5.0",
      "_view_name": "ProgressView",
      "bar_style": "success",
      "description": "",
      "description_tooltip": null,
      "layout": "IPY_MODEL_71174e69a2bd44a282bf9d9a0706cf7d",
      "max": 189602204,
      "min": 0,
      "orientation": "horizontal",
      "style": "IPY_MODEL_af375d9c64bb4638a07c0e9869c694b9",
      "value": 189602204
     }
    },
    "71fd0bb1314d4b1d810e42780470a93f": {
     "model_module": "@jupyter-widgets/controls",
     "model_module_version": "1.5.0",
     "model_name": "DescriptionStyleModel",
     "state": {
      "_model_module": "@jupyter-widgets/controls",
      "_model_module_version": "1.5.0",
      "_model_name": "DescriptionStyleModel",
      "_view_count": null,
      "_view_module": "@jupyter-widgets/base",
      "_view_module_version": "1.2.0",
      "_view_name": "StyleView",
      "description_width": ""
     }
    },
    "73993969a6024a97992ed12e0fabe053": {
     "model_module": "@jupyter-widgets/controls",
     "model_module_version": "1.5.0",
     "model_name": "HTMLModel",
     "state": {
      "_dom_classes": [],
      "_model_module": "@jupyter-widgets/controls",
      "_model_module_version": "1.5.0",
      "_model_name": "HTMLModel",
      "_view_count": null,
      "_view_module": "@jupyter-widgets/controls",
      "_view_module_version": "1.5.0",
      "_view_name": "HTMLView",
      "description": "",
      "description_tooltip": null,
      "layout": "IPY_MODEL_db2897a419134c90831d05275a353f1d",
      "placeholder": "​",
      "style": "IPY_MODEL_49be4c8ab811411193efc7a50b57b1b4",
      "value": " 520/520 [00:00&lt;00:00, 10081.76 examples/s]"
     }
    },
    "7b82025b6dec4bd5ad1597eaebfc5ce4": {
     "model_module": "@jupyter-widgets/controls",
     "model_module_version": "1.5.0",
     "model_name": "HBoxModel",
     "state": {
      "_dom_classes": [],
      "_model_module": "@jupyter-widgets/controls",
      "_model_module_version": "1.5.0",
      "_model_name": "HBoxModel",
      "_view_count": null,
      "_view_module": "@jupyter-widgets/controls",
      "_view_module_version": "1.5.0",
      "_view_name": "HBoxView",
      "box_style": "",
      "children": [
       "IPY_MODEL_217eb0b5226e414490ff14ed0b1002c7",
       "IPY_MODEL_d7d91d340d9747e1b7c78a89f53902a9",
       "IPY_MODEL_ef63edc928f74edc870cd5f389761b61"
      ],
      "layout": "IPY_MODEL_6ebd53b27e5144e0b4836a46784ebc82"
     }
    },
    "7ca4b6b145574bc2857754c831f6d075": {
     "model_module": "@jupyter-widgets/controls",
     "model_module_version": "1.5.0",
     "model_name": "HBoxModel",
     "state": {
      "_dom_classes": [],
      "_model_module": "@jupyter-widgets/controls",
      "_model_module_version": "1.5.0",
      "_model_name": "HBoxModel",
      "_view_count": null,
      "_view_module": "@jupyter-widgets/controls",
      "_view_module_version": "1.5.0",
      "_view_name": "HBoxView",
      "box_style": "",
      "children": [
       "IPY_MODEL_fcef62fda205433f903107031cb15d2d",
       "IPY_MODEL_7d91ef80cb3144028290dad6024e59fe",
       "IPY_MODEL_6e48e607ab314490a3ff48e0eaec7b7a"
      ],
      "layout": "IPY_MODEL_4ac5f1aa6f774316b8f7df80d154ca77"
     }
    },
    "7ce093a421e347bf903e1be83bce6773": {
     "model_module": "@jupyter-widgets/controls",
     "model_module_version": "1.5.0",
     "model_name": "DescriptionStyleModel",
     "state": {
      "_model_module": "@jupyter-widgets/controls",
      "_model_module_version": "1.5.0",
      "_model_name": "DescriptionStyleModel",
      "_view_count": null,
      "_view_module": "@jupyter-widgets/base",
      "_view_module_version": "1.2.0",
      "_view_name": "StyleView",
      "description_width": ""
     }
    },
    "7d91ef80cb3144028290dad6024e59fe": {
     "model_module": "@jupyter-widgets/controls",
     "model_module_version": "1.5.0",
     "model_name": "FloatProgressModel",
     "state": {
      "_dom_classes": [],
      "_model_module": "@jupyter-widgets/controls",
      "_model_module_version": "1.5.0",
      "_model_name": "FloatProgressModel",
      "_view_count": null,
      "_view_module": "@jupyter-widgets/controls",
      "_view_module_version": "1.5.0",
      "_view_name": "ProgressView",
      "bar_style": "success",
      "description": "",
      "description_tooltip": null,
      "layout": "IPY_MODEL_b3c8e59f929e495dafc2c57c7b88ed3c",
      "max": 1659083,
      "min": 0,
      "orientation": "horizontal",
      "style": "IPY_MODEL_60e58e5ed76847af8ae63de32c2aa4fe",
      "value": 1659083
     }
    },
    "802469eb633244c99827d284fcc463a3": {
     "model_module": "@jupyter-widgets/controls",
     "model_module_version": "1.5.0",
     "model_name": "DescriptionStyleModel",
     "state": {
      "_model_module": "@jupyter-widgets/controls",
      "_model_module_version": "1.5.0",
      "_model_name": "DescriptionStyleModel",
      "_view_count": null,
      "_view_module": "@jupyter-widgets/base",
      "_view_module_version": "1.2.0",
      "_view_name": "StyleView",
      "description_width": ""
     }
    },
    "816082ff16de4092a5da888f3408c72e": {
     "model_module": "@jupyter-widgets/controls",
     "model_module_version": "1.5.0",
     "model_name": "HTMLModel",
     "state": {
      "_dom_classes": [],
      "_model_module": "@jupyter-widgets/controls",
      "_model_module_version": "1.5.0",
      "_model_name": "HTMLModel",
      "_view_count": null,
      "_view_module": "@jupyter-widgets/controls",
      "_view_module_version": "1.5.0",
      "_view_name": "HTMLView",
      "description": "",
      "description_tooltip": null,
      "layout": "IPY_MODEL_9e06c32606b2411384d9c180d283f775",
      "placeholder": "​",
      "style": "IPY_MODEL_6cac1ebc0e344ffbbee5b48b7295cb33",
      "value": "Downloading data: 100%"
     }
    },
    "82f6f82713f44eafa86ea7b744e8eae1": {
     "model_module": "@jupyter-widgets/base",
     "model_module_version": "1.2.0",
     "model_name": "LayoutModel",
     "state": {
      "_model_module": "@jupyter-widgets/base",
      "_model_module_version": "1.2.0",
      "_model_name": "LayoutModel",
      "_view_count": null,
      "_view_module": "@jupyter-widgets/base",
      "_view_module_version": "1.2.0",
      "_view_name": "LayoutView",
      "align_content": null,
      "align_items": null,
      "align_self": null,
      "border": null,
      "bottom": null,
      "display": null,
      "flex": null,
      "flex_flow": null,
      "grid_area": null,
      "grid_auto_columns": null,
      "grid_auto_flow": null,
      "grid_auto_rows": null,
      "grid_column": null,
      "grid_gap": null,
      "grid_row": null,
      "grid_template_areas": null,
      "grid_template_columns": null,
      "grid_template_rows": null,
      "height": null,
      "justify_content": null,
      "justify_items": null,
      "left": null,
      "margin": null,
      "max_height": null,
      "max_width": null,
      "min_height": null,
      "min_width": null,
      "object_fit": null,
      "object_position": null,
      "order": null,
      "overflow": null,
      "overflow_x": null,
      "overflow_y": null,
      "padding": null,
      "right": null,
      "top": null,
      "visibility": null,
      "width": null
     }
    },
    "86c8ea281b7d4cd69f56f999ba5d7730": {
     "model_module": "@jupyter-widgets/controls",
     "model_module_version": "1.5.0",
     "model_name": "HBoxModel",
     "state": {
      "_dom_classes": [],
      "_model_module": "@jupyter-widgets/controls",
      "_model_module_version": "1.5.0",
      "_model_name": "HBoxModel",
      "_view_count": null,
      "_view_module": "@jupyter-widgets/controls",
      "_view_module_version": "1.5.0",
      "_view_name": "HBoxView",
      "box_style": "",
      "children": [
       "IPY_MODEL_dcb985c0739c491ebb23a14574115f5e",
       "IPY_MODEL_4a63aea62d7e4f28aabec16cf1a500aa",
       "IPY_MODEL_a89bb9c90be642a693c20c551a377373"
      ],
      "layout": "IPY_MODEL_3bca78cdf87a4ba5adb4fd9a96e705ad"
     }
    },
    "86ff8585d61c4b25922078a0c773256d": {
     "model_module": "@jupyter-widgets/controls",
     "model_module_version": "1.5.0",
     "model_name": "DescriptionStyleModel",
     "state": {
      "_model_module": "@jupyter-widgets/controls",
      "_model_module_version": "1.5.0",
      "_model_name": "DescriptionStyleModel",
      "_view_count": null,
      "_view_module": "@jupyter-widgets/base",
      "_view_module_version": "1.2.0",
      "_view_name": "StyleView",
      "description_width": ""
     }
    },
    "8953f783cfe147548cd6f82e1689b381": {
     "model_module": "@jupyter-widgets/controls",
     "model_module_version": "1.5.0",
     "model_name": "DescriptionStyleModel",
     "state": {
      "_model_module": "@jupyter-widgets/controls",
      "_model_module_version": "1.5.0",
      "_model_name": "DescriptionStyleModel",
      "_view_count": null,
      "_view_module": "@jupyter-widgets/base",
      "_view_module_version": "1.2.0",
      "_view_name": "StyleView",
      "description_width": ""
     }
    },
    "8bf09d51ce8b4cf6a06af9b8cf2d9dc9": {
     "model_module": "@jupyter-widgets/controls",
     "model_module_version": "1.5.0",
     "model_name": "DescriptionStyleModel",
     "state": {
      "_model_module": "@jupyter-widgets/controls",
      "_model_module_version": "1.5.0",
      "_model_name": "DescriptionStyleModel",
      "_view_count": null,
      "_view_module": "@jupyter-widgets/base",
      "_view_module_version": "1.2.0",
      "_view_name": "StyleView",
      "description_width": ""
     }
    },
    "8e20176a70154458820f979bfa118db1": {
     "model_module": "@jupyter-widgets/controls",
     "model_module_version": "1.5.0",
     "model_name": "DescriptionStyleModel",
     "state": {
      "_model_module": "@jupyter-widgets/controls",
      "_model_module_version": "1.5.0",
      "_model_name": "DescriptionStyleModel",
      "_view_count": null,
      "_view_module": "@jupyter-widgets/base",
      "_view_module_version": "1.2.0",
      "_view_name": "StyleView",
      "description_width": ""
     }
    },
    "8f85cefdc5b44ca6bba955e51afd7642": {
     "model_module": "@jupyter-widgets/controls",
     "model_module_version": "1.5.0",
     "model_name": "ProgressStyleModel",
     "state": {
      "_model_module": "@jupyter-widgets/controls",
      "_model_module_version": "1.5.0",
      "_model_name": "ProgressStyleModel",
      "_view_count": null,
      "_view_module": "@jupyter-widgets/base",
      "_view_module_version": "1.2.0",
      "_view_name": "StyleView",
      "bar_color": null,
      "description_width": ""
     }
    },
    "900aa99ad3d946408a5e5632f404fa78": {
     "model_module": "@jupyter-widgets/controls",
     "model_module_version": "1.5.0",
     "model_name": "ProgressStyleModel",
     "state": {
      "_model_module": "@jupyter-widgets/controls",
      "_model_module_version": "1.5.0",
      "_model_name": "ProgressStyleModel",
      "_view_count": null,
      "_view_module": "@jupyter-widgets/base",
      "_view_module_version": "1.2.0",
      "_view_name": "StyleView",
      "bar_color": null,
      "description_width": ""
     }
    },
    "9448c1793c8a4a589c47d3515a3e9fc6": {
     "model_module": "@jupyter-widgets/base",
     "model_module_version": "1.2.0",
     "model_name": "LayoutModel",
     "state": {
      "_model_module": "@jupyter-widgets/base",
      "_model_module_version": "1.2.0",
      "_model_name": "LayoutModel",
      "_view_count": null,
      "_view_module": "@jupyter-widgets/base",
      "_view_module_version": "1.2.0",
      "_view_name": "LayoutView",
      "align_content": null,
      "align_items": null,
      "align_self": null,
      "border": null,
      "bottom": null,
      "display": null,
      "flex": null,
      "flex_flow": null,
      "grid_area": null,
      "grid_auto_columns": null,
      "grid_auto_flow": null,
      "grid_auto_rows": null,
      "grid_column": null,
      "grid_gap": null,
      "grid_row": null,
      "grid_template_areas": null,
      "grid_template_columns": null,
      "grid_template_rows": null,
      "height": null,
      "justify_content": null,
      "justify_items": null,
      "left": null,
      "margin": null,
      "max_height": null,
      "max_width": null,
      "min_height": null,
      "min_width": null,
      "object_fit": null,
      "object_position": null,
      "order": null,
      "overflow": null,
      "overflow_x": null,
      "overflow_y": null,
      "padding": null,
      "right": null,
      "top": null,
      "visibility": null,
      "width": null
     }
    },
    "948c5822e7e84c6ca04672ca5fa3a2c2": {
     "model_module": "@jupyter-widgets/controls",
     "model_module_version": "1.5.0",
     "model_name": "FloatProgressModel",
     "state": {
      "_dom_classes": [],
      "_model_module": "@jupyter-widgets/controls",
      "_model_module_version": "1.5.0",
      "_model_name": "FloatProgressModel",
      "_view_count": null,
      "_view_module": "@jupyter-widgets/controls",
      "_view_module_version": "1.5.0",
      "_view_name": "ProgressView",
      "bar_style": "success",
      "description": "",
      "description_tooltip": null,
      "layout": "IPY_MODEL_5dd37640a675425e9ce3236ab4088f87",
      "max": 500080,
      "min": 0,
      "orientation": "horizontal",
      "style": "IPY_MODEL_0187f1aa68a64df28cf9a10d82cc1b35",
      "value": 500080
     }
    },
    "980a86136dc4428ba094d34793ec78e5": {
     "model_module": "@jupyter-widgets/controls",
     "model_module_version": "1.5.0",
     "model_name": "DescriptionStyleModel",
     "state": {
      "_model_module": "@jupyter-widgets/controls",
      "_model_module_version": "1.5.0",
      "_model_name": "DescriptionStyleModel",
      "_view_count": null,
      "_view_module": "@jupyter-widgets/base",
      "_view_module_version": "1.2.0",
      "_view_name": "StyleView",
      "description_width": ""
     }
    },
    "9814f3049e9f43c69c8a1ab654ec11a3": {
     "model_module": "@jupyter-widgets/controls",
     "model_module_version": "1.5.0",
     "model_name": "HTMLModel",
     "state": {
      "_dom_classes": [],
      "_model_module": "@jupyter-widgets/controls",
      "_model_module_version": "1.5.0",
      "_model_name": "HTMLModel",
      "_view_count": null,
      "_view_module": "@jupyter-widgets/controls",
      "_view_module_version": "1.5.0",
      "_view_name": "HTMLView",
      "description": "",
      "description_tooltip": null,
      "layout": "IPY_MODEL_15ccfd49d21a400c9f1ddaadafa679d9",
      "placeholder": "​",
      "style": "IPY_MODEL_eb80e9e5a8294865a0b1200f5f4fd596",
      "value": "Downloading readme: 100%"
     }
    },
    "9b65ee485c0441f88452930d6a32c6e1": {
     "model_module": "@jupyter-widgets/controls",
     "model_module_version": "1.5.0",
     "model_name": "FloatProgressModel",
     "state": {
      "_dom_classes": [],
      "_model_module": "@jupyter-widgets/controls",
      "_model_module_version": "1.5.0",
      "_model_name": "FloatProgressModel",
      "_view_count": null,
      "_view_module": "@jupyter-widgets/controls",
      "_view_module_version": "1.5.0",
      "_view_name": "ProgressView",
      "bar_style": "success",
      "description": "",
      "description_tooltip": null,
      "layout": "IPY_MODEL_2fd57f3b188149218c0a14129aaca0bd",
      "max": 953,
      "min": 0,
      "orientation": "horizontal",
      "style": "IPY_MODEL_1a50a94dd27d485db6ecb7fab66f3246",
      "value": 953
     }
    },
    "9c223cdb3c094d7a907d1ee7f6ab49ad": {
     "model_module": "@jupyter-widgets/controls",
     "model_module_version": "1.5.0",
     "model_name": "HBoxModel",
     "state": {
      "_dom_classes": [],
      "_model_module": "@jupyter-widgets/controls",
      "_model_module_version": "1.5.0",
      "_model_name": "HBoxModel",
      "_view_count": null,
      "_view_module": "@jupyter-widgets/controls",
      "_view_module_version": "1.5.0",
      "_view_name": "HBoxView",
      "box_style": "",
      "children": [
       "IPY_MODEL_9814f3049e9f43c69c8a1ab654ec11a3",
       "IPY_MODEL_0012067823a249e48f9a8b89c5b826d6",
       "IPY_MODEL_d1c8e48bb34f4445909a9d05bddd14a5"
      ],
      "layout": "IPY_MODEL_daea2ba33e164c7697aa876504384617"
     }
    },
    "9d542c0fc4de4037b44df281e5d202e2": {
     "model_module": "@jupyter-widgets/controls",
     "model_module_version": "1.5.0",
     "model_name": "DescriptionStyleModel",
     "state": {
      "_model_module": "@jupyter-widgets/controls",
      "_model_module_version": "1.5.0",
      "_model_name": "DescriptionStyleModel",
      "_view_count": null,
      "_view_module": "@jupyter-widgets/base",
      "_view_module_version": "1.2.0",
      "_view_name": "StyleView",
      "description_width": ""
     }
    },
    "9e06c32606b2411384d9c180d283f775": {
     "model_module": "@jupyter-widgets/base",
     "model_module_version": "1.2.0",
     "model_name": "LayoutModel",
     "state": {
      "_model_module": "@jupyter-widgets/base",
      "_model_module_version": "1.2.0",
      "_model_name": "LayoutModel",
      "_view_count": null,
      "_view_module": "@jupyter-widgets/base",
      "_view_module_version": "1.2.0",
      "_view_name": "LayoutView",
      "align_content": null,
      "align_items": null,
      "align_self": null,
      "border": null,
      "bottom": null,
      "display": null,
      "flex": null,
      "flex_flow": null,
      "grid_area": null,
      "grid_auto_columns": null,
      "grid_auto_flow": null,
      "grid_auto_rows": null,
      "grid_column": null,
      "grid_gap": null,
      "grid_row": null,
      "grid_template_areas": null,
      "grid_template_columns": null,
      "grid_template_rows": null,
      "height": null,
      "justify_content": null,
      "justify_items": null,
      "left": null,
      "margin": null,
      "max_height": null,
      "max_width": null,
      "min_height": null,
      "min_width": null,
      "object_fit": null,
      "object_position": null,
      "order": null,
      "overflow": null,
      "overflow_x": null,
      "overflow_y": null,
      "padding": null,
      "right": null,
      "top": null,
      "visibility": null,
      "width": null
     }
    },
    "9f6d3f6dd1bf413fa4da4c2793d122a7": {
     "model_module": "@jupyter-widgets/controls",
     "model_module_version": "1.5.0",
     "model_name": "DescriptionStyleModel",
     "state": {
      "_model_module": "@jupyter-widgets/controls",
      "_model_module_version": "1.5.0",
      "_model_name": "DescriptionStyleModel",
      "_view_count": null,
      "_view_module": "@jupyter-widgets/base",
      "_view_module_version": "1.2.0",
      "_view_name": "StyleView",
      "description_width": ""
     }
    },
    "a3e90b43a84749aeb6b0af90a756354f": {
     "model_module": "@jupyter-widgets/base",
     "model_module_version": "1.2.0",
     "model_name": "LayoutModel",
     "state": {
      "_model_module": "@jupyter-widgets/base",
      "_model_module_version": "1.2.0",
      "_model_name": "LayoutModel",
      "_view_count": null,
      "_view_module": "@jupyter-widgets/base",
      "_view_module_version": "1.2.0",
      "_view_name": "LayoutView",
      "align_content": null,
      "align_items": null,
      "align_self": null,
      "border": null,
      "bottom": null,
      "display": null,
      "flex": null,
      "flex_flow": null,
      "grid_area": null,
      "grid_auto_columns": null,
      "grid_auto_flow": null,
      "grid_auto_rows": null,
      "grid_column": null,
      "grid_gap": null,
      "grid_row": null,
      "grid_template_areas": null,
      "grid_template_columns": null,
      "grid_template_rows": null,
      "height": null,
      "justify_content": null,
      "justify_items": null,
      "left": null,
      "margin": null,
      "max_height": null,
      "max_width": null,
      "min_height": null,
      "min_width": null,
      "object_fit": null,
      "object_position": null,
      "order": null,
      "overflow": null,
      "overflow_x": null,
      "overflow_y": null,
      "padding": null,
      "right": null,
      "top": null,
      "visibility": null,
      "width": null
     }
    },
    "a5ff16e16a0c4b87ad987b8abcf5104f": {
     "model_module": "@jupyter-widgets/base",
     "model_module_version": "1.2.0",
     "model_name": "LayoutModel",
     "state": {
      "_model_module": "@jupyter-widgets/base",
      "_model_module_version": "1.2.0",
      "_model_name": "LayoutModel",
      "_view_count": null,
      "_view_module": "@jupyter-widgets/base",
      "_view_module_version": "1.2.0",
      "_view_name": "LayoutView",
      "align_content": null,
      "align_items": null,
      "align_self": null,
      "border": null,
      "bottom": null,
      "display": null,
      "flex": null,
      "flex_flow": null,
      "grid_area": null,
      "grid_auto_columns": null,
      "grid_auto_flow": null,
      "grid_auto_rows": null,
      "grid_column": null,
      "grid_gap": null,
      "grid_row": null,
      "grid_template_areas": null,
      "grid_template_columns": null,
      "grid_template_rows": null,
      "height": null,
      "justify_content": null,
      "justify_items": null,
      "left": null,
      "margin": null,
      "max_height": null,
      "max_width": null,
      "min_height": null,
      "min_width": null,
      "object_fit": null,
      "object_position": null,
      "order": null,
      "overflow": null,
      "overflow_x": null,
      "overflow_y": null,
      "padding": null,
      "right": null,
      "top": null,
      "visibility": null,
      "width": null
     }
    },
    "a85ec585a82741488045612d8b136375": {
     "model_module": "@jupyter-widgets/base",
     "model_module_version": "1.2.0",
     "model_name": "LayoutModel",
     "state": {
      "_model_module": "@jupyter-widgets/base",
      "_model_module_version": "1.2.0",
      "_model_name": "LayoutModel",
      "_view_count": null,
      "_view_module": "@jupyter-widgets/base",
      "_view_module_version": "1.2.0",
      "_view_name": "LayoutView",
      "align_content": null,
      "align_items": null,
      "align_self": null,
      "border": null,
      "bottom": null,
      "display": null,
      "flex": null,
      "flex_flow": null,
      "grid_area": null,
      "grid_auto_columns": null,
      "grid_auto_flow": null,
      "grid_auto_rows": null,
      "grid_column": null,
      "grid_gap": null,
      "grid_row": null,
      "grid_template_areas": null,
      "grid_template_columns": null,
      "grid_template_rows": null,
      "height": null,
      "justify_content": null,
      "justify_items": null,
      "left": null,
      "margin": null,
      "max_height": null,
      "max_width": null,
      "min_height": null,
      "min_width": null,
      "object_fit": null,
      "object_position": null,
      "order": null,
      "overflow": null,
      "overflow_x": null,
      "overflow_y": null,
      "padding": null,
      "right": null,
      "top": null,
      "visibility": null,
      "width": null
     }
    },
    "a89bb9c90be642a693c20c551a377373": {
     "model_module": "@jupyter-widgets/controls",
     "model_module_version": "1.5.0",
     "model_name": "HTMLModel",
     "state": {
      "_dom_classes": [],
      "_model_module": "@jupyter-widgets/controls",
      "_model_module_version": "1.5.0",
      "_model_name": "HTMLModel",
      "_view_count": null,
      "_view_module": "@jupyter-widgets/controls",
      "_view_module_version": "1.5.0",
      "_view_name": "HTMLView",
      "description": "",
      "description_tooltip": null,
      "layout": "IPY_MODEL_5e3e2a0f05674749a41bd69691096fc6",
      "placeholder": "​",
      "style": "IPY_MODEL_e27eda209f7b4492a44ecd40f9e6f93b",
      "value": " 85.7k/85.7k [00:00&lt;00:00, 288kB/s]"
     }
    },
    "a9a331a3cd3043b786ce4558ccccee81": {
     "model_module": "@jupyter-widgets/controls",
     "model_module_version": "1.5.0",
     "model_name": "HTMLModel",
     "state": {
      "_dom_classes": [],
      "_model_module": "@jupyter-widgets/controls",
      "_model_module_version": "1.5.0",
      "_model_name": "HTMLModel",
      "_view_count": null,
      "_view_module": "@jupyter-widgets/controls",
      "_view_module_version": "1.5.0",
      "_view_name": "HTMLView",
      "description": "",
      "description_tooltip": null,
      "layout": "IPY_MODEL_6ea3ab09f48f41929139f3457c6d139c",
      "placeholder": "​",
      "style": "IPY_MODEL_8953f783cfe147548cd6f82e1689b381",
      "value": "Downloading data: 100%"
     }
    },
    "aae646a047e54aa09ce414bd67e20b56": {
     "model_module": "@jupyter-widgets/controls",
     "model_module_version": "1.5.0",
     "model_name": "ProgressStyleModel",
     "state": {
      "_model_module": "@jupyter-widgets/controls",
      "_model_module_version": "1.5.0",
      "_model_name": "ProgressStyleModel",
      "_view_count": null,
      "_view_module": "@jupyter-widgets/base",
      "_view_module_version": "1.2.0",
      "_view_name": "StyleView",
      "bar_color": null,
      "description_width": ""
     }
    },
    "af375d9c64bb4638a07c0e9869c694b9": {
     "model_module": "@jupyter-widgets/controls",
     "model_module_version": "1.5.0",
     "model_name": "ProgressStyleModel",
     "state": {
      "_model_module": "@jupyter-widgets/controls",
      "_model_module_version": "1.5.0",
      "_model_name": "ProgressStyleModel",
      "_view_count": null,
      "_view_module": "@jupyter-widgets/base",
      "_view_module_version": "1.2.0",
      "_view_name": "StyleView",
      "bar_color": null,
      "description_width": ""
     }
    },
    "af65180b12e145a09cff0aaf54cfe0d5": {
     "model_module": "@jupyter-widgets/controls",
     "model_module_version": "1.5.0",
     "model_name": "DescriptionStyleModel",
     "state": {
      "_model_module": "@jupyter-widgets/controls",
      "_model_module_version": "1.5.0",
      "_model_name": "DescriptionStyleModel",
      "_view_count": null,
      "_view_module": "@jupyter-widgets/base",
      "_view_module_version": "1.2.0",
      "_view_name": "StyleView",
      "description_width": ""
     }
    },
    "b3c8e59f929e495dafc2c57c7b88ed3c": {
     "model_module": "@jupyter-widgets/base",
     "model_module_version": "1.2.0",
     "model_name": "LayoutModel",
     "state": {
      "_model_module": "@jupyter-widgets/base",
      "_model_module_version": "1.2.0",
      "_model_name": "LayoutModel",
      "_view_count": null,
      "_view_module": "@jupyter-widgets/base",
      "_view_module_version": "1.2.0",
      "_view_name": "LayoutView",
      "align_content": null,
      "align_items": null,
      "align_self": null,
      "border": null,
      "bottom": null,
      "display": null,
      "flex": null,
      "flex_flow": null,
      "grid_area": null,
      "grid_auto_columns": null,
      "grid_auto_flow": null,
      "grid_auto_rows": null,
      "grid_column": null,
      "grid_gap": null,
      "grid_row": null,
      "grid_template_areas": null,
      "grid_template_columns": null,
      "grid_template_rows": null,
      "height": null,
      "justify_content": null,
      "justify_items": null,
      "left": null,
      "margin": null,
      "max_height": null,
      "max_width": null,
      "min_height": null,
      "min_width": null,
      "object_fit": null,
      "object_position": null,
      "order": null,
      "overflow": null,
      "overflow_x": null,
      "overflow_y": null,
      "padding": null,
      "right": null,
      "top": null,
      "visibility": null,
      "width": null
     }
    },
    "b497bb1f0c594920b11055150900c666": {
     "model_module": "@jupyter-widgets/base",
     "model_module_version": "1.2.0",
     "model_name": "LayoutModel",
     "state": {
      "_model_module": "@jupyter-widgets/base",
      "_model_module_version": "1.2.0",
      "_model_name": "LayoutModel",
      "_view_count": null,
      "_view_module": "@jupyter-widgets/base",
      "_view_module_version": "1.2.0",
      "_view_name": "LayoutView",
      "align_content": null,
      "align_items": null,
      "align_self": null,
      "border": null,
      "bottom": null,
      "display": null,
      "flex": null,
      "flex_flow": null,
      "grid_area": null,
      "grid_auto_columns": null,
      "grid_auto_flow": null,
      "grid_auto_rows": null,
      "grid_column": null,
      "grid_gap": null,
      "grid_row": null,
      "grid_template_areas": null,
      "grid_template_columns": null,
      "grid_template_rows": null,
      "height": null,
      "justify_content": null,
      "justify_items": null,
      "left": null,
      "margin": null,
      "max_height": null,
      "max_width": null,
      "min_height": null,
      "min_width": null,
      "object_fit": null,
      "object_position": null,
      "order": null,
      "overflow": null,
      "overflow_x": null,
      "overflow_y": null,
      "padding": null,
      "right": null,
      "top": null,
      "visibility": null,
      "width": null
     }
    },
    "b77f9def700443739d1542f7ad15946e": {
     "model_module": "@jupyter-widgets/controls",
     "model_module_version": "1.5.0",
     "model_name": "DescriptionStyleModel",
     "state": {
      "_model_module": "@jupyter-widgets/controls",
      "_model_module_version": "1.5.0",
      "_model_name": "DescriptionStyleModel",
      "_view_count": null,
      "_view_module": "@jupyter-widgets/base",
      "_view_module_version": "1.2.0",
      "_view_name": "StyleView",
      "description_width": ""
     }
    },
    "b8058de8e3ed43dfa4cf1df208ccee68": {
     "model_module": "@jupyter-widgets/controls",
     "model_module_version": "1.5.0",
     "model_name": "DescriptionStyleModel",
     "state": {
      "_model_module": "@jupyter-widgets/controls",
      "_model_module_version": "1.5.0",
      "_model_name": "DescriptionStyleModel",
      "_view_count": null,
      "_view_module": "@jupyter-widgets/base",
      "_view_module_version": "1.2.0",
      "_view_name": "StyleView",
      "description_width": ""
     }
    },
    "bd3312765e4545d6a7b25af982171841": {
     "model_module": "@jupyter-widgets/controls",
     "model_module_version": "1.5.0",
     "model_name": "HBoxModel",
     "state": {
      "_dom_classes": [],
      "_model_module": "@jupyter-widgets/controls",
      "_model_module_version": "1.5.0",
      "_model_name": "HBoxModel",
      "_view_count": null,
      "_view_module": "@jupyter-widgets/controls",
      "_view_module_version": "1.5.0",
      "_view_name": "HBoxView",
      "box_style": "",
      "children": [
       "IPY_MODEL_03ee62f231c54df68b2bfa81d9326fcc",
       "IPY_MODEL_f265fb7540c446dea896e02a60e21115",
       "IPY_MODEL_37874be8bc5d48f991e6fc081680e0e6"
      ],
      "layout": "IPY_MODEL_658293196053465a8520c8aee361d498"
     }
    },
    "bdcafb8918fb4b4e849a59a9a5060701": {
     "model_module": "@jupyter-widgets/base",
     "model_module_version": "1.2.0",
     "model_name": "LayoutModel",
     "state": {
      "_model_module": "@jupyter-widgets/base",
      "_model_module_version": "1.2.0",
      "_model_name": "LayoutModel",
      "_view_count": null,
      "_view_module": "@jupyter-widgets/base",
      "_view_module_version": "1.2.0",
      "_view_name": "LayoutView",
      "align_content": null,
      "align_items": null,
      "align_self": null,
      "border": null,
      "bottom": null,
      "display": null,
      "flex": null,
      "flex_flow": null,
      "grid_area": null,
      "grid_auto_columns": null,
      "grid_auto_flow": null,
      "grid_auto_rows": null,
      "grid_column": null,
      "grid_gap": null,
      "grid_row": null,
      "grid_template_areas": null,
      "grid_template_columns": null,
      "grid_template_rows": null,
      "height": null,
      "justify_content": null,
      "justify_items": null,
      "left": null,
      "margin": null,
      "max_height": null,
      "max_width": null,
      "min_height": null,
      "min_width": null,
      "object_fit": null,
      "object_position": null,
      "order": null,
      "overflow": null,
      "overflow_x": null,
      "overflow_y": null,
      "padding": null,
      "right": null,
      "top": null,
      "visibility": null,
      "width": null
     }
    },
    "c0fdcee51f0b4cf5bfc7d8b30c24ab61": {
     "model_module": "@jupyter-widgets/controls",
     "model_module_version": "1.5.0",
     "model_name": "HTMLModel",
     "state": {
      "_dom_classes": [],
      "_model_module": "@jupyter-widgets/controls",
      "_model_module_version": "1.5.0",
      "_model_name": "HTMLModel",
      "_view_count": null,
      "_view_module": "@jupyter-widgets/controls",
      "_view_module_version": "1.5.0",
      "_view_name": "HTMLView",
      "description": "",
      "description_tooltip": null,
      "layout": "IPY_MODEL_28dcdd5f34154effac4653c3b1bf3c22",
      "placeholder": "​",
      "style": "IPY_MODEL_e3cbeda0ff1f43aab7b39b3d41812c3a",
      "value": " 500k/500k [00:00&lt;00:00, 1.63MB/s]"
     }
    },
    "c1cbbe424dce433daa97b4ecaea825fa": {
     "model_module": "@jupyter-widgets/controls",
     "model_module_version": "1.5.0",
     "model_name": "ProgressStyleModel",
     "state": {
      "_model_module": "@jupyter-widgets/controls",
      "_model_module_version": "1.5.0",
      "_model_name": "ProgressStyleModel",
      "_view_count": null,
      "_view_module": "@jupyter-widgets/base",
      "_view_module_version": "1.2.0",
      "_view_name": "StyleView",
      "bar_color": null,
      "description_width": ""
     }
    },
    "c25be831e23f4f1bacbc8f99462601dc": {
     "model_module": "@jupyter-widgets/controls",
     "model_module_version": "1.5.0",
     "model_name": "HTMLModel",
     "state": {
      "_dom_classes": [],
      "_model_module": "@jupyter-widgets/controls",
      "_model_module_version": "1.5.0",
      "_model_name": "HTMLModel",
      "_view_count": null,
      "_view_module": "@jupyter-widgets/controls",
      "_view_module_version": "1.5.0",
      "_view_name": "HTMLView",
      "description": "",
      "description_tooltip": null,
      "layout": "IPY_MODEL_39decff96a114a4891c3421b801c69c4",
      "placeholder": "​",
      "style": "IPY_MODEL_52987fb124f0456b8e6d635f14c2d392",
      "value": " 190M/190M [00:01&lt;00:00, 124MB/s]"
     }
    },
    "c7fac56fe6cf472ab3c479d4b05398a4": {
     "model_module": "@jupyter-widgets/controls",
     "model_module_version": "1.5.0",
     "model_name": "HTMLModel",
     "state": {
      "_dom_classes": [],
      "_model_module": "@jupyter-widgets/controls",
      "_model_module_version": "1.5.0",
      "_model_name": "HTMLModel",
      "_view_count": null,
      "_view_module": "@jupyter-widgets/controls",
      "_view_module_version": "1.5.0",
      "_view_name": "HTMLView",
      "description": "",
      "description_tooltip": null,
      "layout": "IPY_MODEL_f2456993dd1f4b1a892624d3933a0ab4",
      "placeholder": "​",
      "style": "IPY_MODEL_3460b0b956054d34bf4412fb224434e0",
      "value": "Generating test split: 100%"
     }
    },
    "c950a47a7ace40be9af56a1ee28ff41d": {
     "model_module": "@jupyter-widgets/controls",
     "model_module_version": "1.5.0",
     "model_name": "FloatProgressModel",
     "state": {
      "_dom_classes": [],
      "_model_module": "@jupyter-widgets/controls",
      "_model_module_version": "1.5.0",
      "_model_name": "FloatProgressModel",
      "_view_count": null,
      "_view_module": "@jupyter-widgets/controls",
      "_view_module_version": "1.5.0",
      "_view_name": "ProgressView",
      "bar_style": "success",
      "description": "",
      "description_tooltip": null,
      "layout": "IPY_MODEL_a3e90b43a84749aeb6b0af90a756354f",
      "max": 520,
      "min": 0,
      "orientation": "horizontal",
      "style": "IPY_MODEL_8f85cefdc5b44ca6bba955e51afd7642",
      "value": 520
     }
    },
    "ca44d05aee324548ab5379e1b1edf288": {
     "model_module": "@jupyter-widgets/base",
     "model_module_version": "1.2.0",
     "model_name": "LayoutModel",
     "state": {
      "_model_module": "@jupyter-widgets/base",
      "_model_module_version": "1.2.0",
      "_model_name": "LayoutModel",
      "_view_count": null,
      "_view_module": "@jupyter-widgets/base",
      "_view_module_version": "1.2.0",
      "_view_name": "LayoutView",
      "align_content": null,
      "align_items": null,
      "align_self": null,
      "border": null,
      "bottom": null,
      "display": null,
      "flex": null,
      "flex_flow": null,
      "grid_area": null,
      "grid_auto_columns": null,
      "grid_auto_flow": null,
      "grid_auto_rows": null,
      "grid_column": null,
      "grid_gap": null,
      "grid_row": null,
      "grid_template_areas": null,
      "grid_template_columns": null,
      "grid_template_rows": null,
      "height": null,
      "justify_content": null,
      "justify_items": null,
      "left": null,
      "margin": null,
      "max_height": null,
      "max_width": null,
      "min_height": null,
      "min_width": null,
      "object_fit": null,
      "object_position": null,
      "order": null,
      "overflow": null,
      "overflow_x": null,
      "overflow_y": null,
      "padding": null,
      "right": null,
      "top": null,
      "visibility": null,
      "width": null
     }
    },
    "cbdbdf62994c4f2f80ea5f6d35ccf597": {
     "model_module": "@jupyter-widgets/controls",
     "model_module_version": "1.5.0",
     "model_name": "HTMLModel",
     "state": {
      "_dom_classes": [],
      "_model_module": "@jupyter-widgets/controls",
      "_model_module_version": "1.5.0",
      "_model_name": "HTMLModel",
      "_view_count": null,
      "_view_module": "@jupyter-widgets/controls",
      "_view_module_version": "1.5.0",
      "_view_name": "HTMLView",
      "description": "",
      "description_tooltip": null,
      "layout": "IPY_MODEL_225a2b47947e4facba2b55fea52bb3db",
      "placeholder": "​",
      "style": "IPY_MODEL_e2f1cd0c13da4967ae47a28f8c446eda",
      "value": "Downloading metadata: 100%"
     }
    },
    "cc96a6dd218e43ef82c6dbe9b7d30229": {
     "model_module": "@jupyter-widgets/base",
     "model_module_version": "1.2.0",
     "model_name": "LayoutModel",
     "state": {
      "_model_module": "@jupyter-widgets/base",
      "_model_module_version": "1.2.0",
      "_model_name": "LayoutModel",
      "_view_count": null,
      "_view_module": "@jupyter-widgets/base",
      "_view_module_version": "1.2.0",
      "_view_name": "LayoutView",
      "align_content": null,
      "align_items": null,
      "align_self": null,
      "border": null,
      "bottom": null,
      "display": null,
      "flex": null,
      "flex_flow": null,
      "grid_area": null,
      "grid_auto_columns": null,
      "grid_auto_flow": null,
      "grid_auto_rows": null,
      "grid_column": null,
      "grid_gap": null,
      "grid_row": null,
      "grid_template_areas": null,
      "grid_template_columns": null,
      "grid_template_rows": null,
      "height": null,
      "justify_content": null,
      "justify_items": null,
      "left": null,
      "margin": null,
      "max_height": null,
      "max_width": null,
      "min_height": null,
      "min_width": null,
      "object_fit": null,
      "object_position": null,
      "order": null,
      "overflow": null,
      "overflow_x": null,
      "overflow_y": null,
      "padding": null,
      "right": null,
      "top": null,
      "visibility": null,
      "width": null
     }
    },
    "d054c59ad0b2483583b555752960ace1": {
     "model_module": "@jupyter-widgets/controls",
     "model_module_version": "1.5.0",
     "model_name": "HTMLModel",
     "state": {
      "_dom_classes": [],
      "_model_module": "@jupyter-widgets/controls",
      "_model_module_version": "1.5.0",
      "_model_name": "HTMLModel",
      "_view_count": null,
      "_view_module": "@jupyter-widgets/controls",
      "_view_module_version": "1.5.0",
      "_view_name": "HTMLView",
      "description": "",
      "description_tooltip": null,
      "layout": "IPY_MODEL_3841a8f204bc438a9cc8e7fa6baacedc",
      "placeholder": "​",
      "style": "IPY_MODEL_8e20176a70154458820f979bfa118db1",
      "value": " 520/520 [00:00&lt;00:00, 17606.91 examples/s]"
     }
    },
    "d0c0ed98e57a4e8aadea136dca7ae548": {
     "model_module": "@jupyter-widgets/controls",
     "model_module_version": "1.5.0",
     "model_name": "HTMLModel",
     "state": {
      "_dom_classes": [],
      "_model_module": "@jupyter-widgets/controls",
      "_model_module_version": "1.5.0",
      "_model_name": "HTMLModel",
      "_view_count": null,
      "_view_module": "@jupyter-widgets/controls",
      "_view_module_version": "1.5.0",
      "_view_name": "HTMLView",
      "description": "",
      "description_tooltip": null,
      "layout": "IPY_MODEL_2361a933a23b427b9729480649b5daf8",
      "placeholder": "​",
      "style": "IPY_MODEL_802469eb633244c99827d284fcc463a3",
      "value": " 953/953 [00:00&lt;00:00, 52.6kB/s]"
     }
    },
    "d1c8e48bb34f4445909a9d05bddd14a5": {
     "model_module": "@jupyter-widgets/controls",
     "model_module_version": "1.5.0",
     "model_name": "HTMLModel",
     "state": {
      "_dom_classes": [],
      "_model_module": "@jupyter-widgets/controls",
      "_model_module_version": "1.5.0",
      "_model_name": "HTMLModel",
      "_view_count": null,
      "_view_module": "@jupyter-widgets/controls",
      "_view_module_version": "1.5.0",
      "_view_name": "HTMLView",
      "description": "",
      "description_tooltip": null,
      "layout": "IPY_MODEL_1c3aa0e4ddc7438282153753012c4f4c",
      "placeholder": "​",
      "style": "IPY_MODEL_9d542c0fc4de4037b44df281e5d202e2",
      "value": " 3.14k/3.14k [00:00&lt;00:00, 69.3kB/s]"
     }
    },
    "d30fdf566d634adc98d0c0f9b6f698f3": {
     "model_module": "@jupyter-widgets/controls",
     "model_module_version": "1.5.0",
     "model_name": "HTMLModel",
     "state": {
      "_dom_classes": [],
      "_model_module": "@jupyter-widgets/controls",
      "_model_module_version": "1.5.0",
      "_model_name": "HTMLModel",
      "_view_count": null,
      "_view_module": "@jupyter-widgets/controls",
      "_view_module_version": "1.5.0",
      "_view_name": "HTMLView",
      "description": "",
      "description_tooltip": null,
      "layout": "IPY_MODEL_26ba808c911f4612b1ea7019969757a7",
      "placeholder": "​",
      "style": "IPY_MODEL_542bc5a82db046b38b339378cece4d78",
      "value": "Generating train split: 100%"
     }
    },
    "d47dd6b148e740bfa33ecc1ff8f2e9b3": {
     "model_module": "@jupyter-widgets/base",
     "model_module_version": "1.2.0",
     "model_name": "LayoutModel",
     "state": {
      "_model_module": "@jupyter-widgets/base",
      "_model_module_version": "1.2.0",
      "_model_name": "LayoutModel",
      "_view_count": null,
      "_view_module": "@jupyter-widgets/base",
      "_view_module_version": "1.2.0",
      "_view_name": "LayoutView",
      "align_content": null,
      "align_items": null,
      "align_self": null,
      "border": null,
      "bottom": null,
      "display": null,
      "flex": null,
      "flex_flow": null,
      "grid_area": null,
      "grid_auto_columns": null,
      "grid_auto_flow": null,
      "grid_auto_rows": null,
      "grid_column": null,
      "grid_gap": null,
      "grid_row": null,
      "grid_template_areas": null,
      "grid_template_columns": null,
      "grid_template_rows": null,
      "height": null,
      "justify_content": null,
      "justify_items": null,
      "left": null,
      "margin": null,
      "max_height": null,
      "max_width": null,
      "min_height": null,
      "min_width": null,
      "object_fit": null,
      "object_position": null,
      "order": null,
      "overflow": null,
      "overflow_x": null,
      "overflow_y": null,
      "padding": null,
      "right": null,
      "top": null,
      "visibility": null,
      "width": null
     }
    },
    "d7d91d340d9747e1b7c78a89f53902a9": {
     "model_module": "@jupyter-widgets/controls",
     "model_module_version": "1.5.0",
     "model_name": "FloatProgressModel",
     "state": {
      "_dom_classes": [],
      "_model_module": "@jupyter-widgets/controls",
      "_model_module_version": "1.5.0",
      "_model_name": "FloatProgressModel",
      "_view_count": null,
      "_view_module": "@jupyter-widgets/controls",
      "_view_module_version": "1.5.0",
      "_view_name": "ProgressView",
      "bar_style": "success",
      "description": "",
      "description_tooltip": null,
      "layout": "IPY_MODEL_e83ac59f6060412e978ec350f5bc01c1",
      "max": 500080,
      "min": 0,
      "orientation": "horizontal",
      "style": "IPY_MODEL_c1cbbe424dce433daa97b4ecaea825fa",
      "value": 500080
     }
    },
    "d97e719a28f042718f6381d1bf328272": {
     "model_module": "@jupyter-widgets/controls",
     "model_module_version": "1.5.0",
     "model_name": "HTMLModel",
     "state": {
      "_dom_classes": [],
      "_model_module": "@jupyter-widgets/controls",
      "_model_module_version": "1.5.0",
      "_model_name": "HTMLModel",
      "_view_count": null,
      "_view_module": "@jupyter-widgets/controls",
      "_view_module_version": "1.5.0",
      "_view_name": "HTMLView",
      "description": "",
      "description_tooltip": null,
      "layout": "IPY_MODEL_1f83e6ef2f9742ad937244ea5470bbef",
      "placeholder": "​",
      "style": "IPY_MODEL_7ce093a421e347bf903e1be83bce6773",
      "value": "Downloading data: 100%"
     }
    },
    "daea2ba33e164c7697aa876504384617": {
     "model_module": "@jupyter-widgets/base",
     "model_module_version": "1.2.0",
     "model_name": "LayoutModel",
     "state": {
      "_model_module": "@jupyter-widgets/base",
      "_model_module_version": "1.2.0",
      "_model_name": "LayoutModel",
      "_view_count": null,
      "_view_module": "@jupyter-widgets/base",
      "_view_module_version": "1.2.0",
      "_view_name": "LayoutView",
      "align_content": null,
      "align_items": null,
      "align_self": null,
      "border": null,
      "bottom": null,
      "display": null,
      "flex": null,
      "flex_flow": null,
      "grid_area": null,
      "grid_auto_columns": null,
      "grid_auto_flow": null,
      "grid_auto_rows": null,
      "grid_column": null,
      "grid_gap": null,
      "grid_row": null,
      "grid_template_areas": null,
      "grid_template_columns": null,
      "grid_template_rows": null,
      "height": null,
      "justify_content": null,
      "justify_items": null,
      "left": null,
      "margin": null,
      "max_height": null,
      "max_width": null,
      "min_height": null,
      "min_width": null,
      "object_fit": null,
      "object_position": null,
      "order": null,
      "overflow": null,
      "overflow_x": null,
      "overflow_y": null,
      "padding": null,
      "right": null,
      "top": null,
      "visibility": null,
      "width": null
     }
    },
    "db2897a419134c90831d05275a353f1d": {
     "model_module": "@jupyter-widgets/base",
     "model_module_version": "1.2.0",
     "model_name": "LayoutModel",
     "state": {
      "_model_module": "@jupyter-widgets/base",
      "_model_module_version": "1.2.0",
      "_model_name": "LayoutModel",
      "_view_count": null,
      "_view_module": "@jupyter-widgets/base",
      "_view_module_version": "1.2.0",
      "_view_name": "LayoutView",
      "align_content": null,
      "align_items": null,
      "align_self": null,
      "border": null,
      "bottom": null,
      "display": null,
      "flex": null,
      "flex_flow": null,
      "grid_area": null,
      "grid_auto_columns": null,
      "grid_auto_flow": null,
      "grid_auto_rows": null,
      "grid_column": null,
      "grid_gap": null,
      "grid_row": null,
      "grid_template_areas": null,
      "grid_template_columns": null,
      "grid_template_rows": null,
      "height": null,
      "justify_content": null,
      "justify_items": null,
      "left": null,
      "margin": null,
      "max_height": null,
      "max_width": null,
      "min_height": null,
      "min_width": null,
      "object_fit": null,
      "object_position": null,
      "order": null,
      "overflow": null,
      "overflow_x": null,
      "overflow_y": null,
      "padding": null,
      "right": null,
      "top": null,
      "visibility": null,
      "width": null
     }
    },
    "dcb985c0739c491ebb23a14574115f5e": {
     "model_module": "@jupyter-widgets/controls",
     "model_module_version": "1.5.0",
     "model_name": "HTMLModel",
     "state": {
      "_dom_classes": [],
      "_model_module": "@jupyter-widgets/controls",
      "_model_module_version": "1.5.0",
      "_model_name": "HTMLModel",
      "_view_count": null,
      "_view_module": "@jupyter-widgets/controls",
      "_view_module_version": "1.5.0",
      "_view_name": "HTMLView",
      "description": "",
      "description_tooltip": null,
      "layout": "IPY_MODEL_09a336e20bfd42e486d40ca962f9f56e",
      "placeholder": "​",
      "style": "IPY_MODEL_24a1a0fea88540829a24a4218cf69aec",
      "value": "Downloading data: 100%"
     }
    },
    "e0a0d11f88b84ff695cd911085617e83": {
     "model_module": "@jupyter-widgets/controls",
     "model_module_version": "1.5.0",
     "model_name": "ProgressStyleModel",
     "state": {
      "_model_module": "@jupyter-widgets/controls",
      "_model_module_version": "1.5.0",
      "_model_name": "ProgressStyleModel",
      "_view_count": null,
      "_view_module": "@jupyter-widgets/base",
      "_view_module_version": "1.2.0",
      "_view_name": "StyleView",
      "bar_color": null,
      "description_width": ""
     }
    },
    "e10cec166aa245d2af4ca6b40c36da4a": {
     "model_module": "@jupyter-widgets/base",
     "model_module_version": "1.2.0",
     "model_name": "LayoutModel",
     "state": {
      "_model_module": "@jupyter-widgets/base",
      "_model_module_version": "1.2.0",
      "_model_name": "LayoutModel",
      "_view_count": null,
      "_view_module": "@jupyter-widgets/base",
      "_view_module_version": "1.2.0",
      "_view_name": "LayoutView",
      "align_content": null,
      "align_items": null,
      "align_self": null,
      "border": null,
      "bottom": null,
      "display": null,
      "flex": null,
      "flex_flow": null,
      "grid_area": null,
      "grid_auto_columns": null,
      "grid_auto_flow": null,
      "grid_auto_rows": null,
      "grid_column": null,
      "grid_gap": null,
      "grid_row": null,
      "grid_template_areas": null,
      "grid_template_columns": null,
      "grid_template_rows": null,
      "height": null,
      "justify_content": null,
      "justify_items": null,
      "left": null,
      "margin": null,
      "max_height": null,
      "max_width": null,
      "min_height": null,
      "min_width": null,
      "object_fit": null,
      "object_position": null,
      "order": null,
      "overflow": null,
      "overflow_x": null,
      "overflow_y": null,
      "padding": null,
      "right": null,
      "top": null,
      "visibility": null,
      "width": null
     }
    },
    "e27eda209f7b4492a44ecd40f9e6f93b": {
     "model_module": "@jupyter-widgets/controls",
     "model_module_version": "1.5.0",
     "model_name": "DescriptionStyleModel",
     "state": {
      "_model_module": "@jupyter-widgets/controls",
      "_model_module_version": "1.5.0",
      "_model_name": "DescriptionStyleModel",
      "_view_count": null,
      "_view_module": "@jupyter-widgets/base",
      "_view_module_version": "1.2.0",
      "_view_name": "StyleView",
      "description_width": ""
     }
    },
    "e2f1cd0c13da4967ae47a28f8c446eda": {
     "model_module": "@jupyter-widgets/controls",
     "model_module_version": "1.5.0",
     "model_name": "DescriptionStyleModel",
     "state": {
      "_model_module": "@jupyter-widgets/controls",
      "_model_module_version": "1.5.0",
      "_model_name": "DescriptionStyleModel",
      "_view_count": null,
      "_view_module": "@jupyter-widgets/base",
      "_view_module_version": "1.2.0",
      "_view_name": "StyleView",
      "description_width": ""
     }
    },
    "e3cbeda0ff1f43aab7b39b3d41812c3a": {
     "model_module": "@jupyter-widgets/controls",
     "model_module_version": "1.5.0",
     "model_name": "DescriptionStyleModel",
     "state": {
      "_model_module": "@jupyter-widgets/controls",
      "_model_module_version": "1.5.0",
      "_model_name": "DescriptionStyleModel",
      "_view_count": null,
      "_view_module": "@jupyter-widgets/base",
      "_view_module_version": "1.2.0",
      "_view_name": "StyleView",
      "description_width": ""
     }
    },
    "e4e91ffe753c44a091ecfc57a570f2c5": {
     "model_module": "@jupyter-widgets/controls",
     "model_module_version": "1.5.0",
     "model_name": "DescriptionStyleModel",
     "state": {
      "_model_module": "@jupyter-widgets/controls",
      "_model_module_version": "1.5.0",
      "_model_name": "DescriptionStyleModel",
      "_view_count": null,
      "_view_module": "@jupyter-widgets/base",
      "_view_module_version": "1.2.0",
      "_view_name": "StyleView",
      "description_width": ""
     }
    },
    "e786e99ee4b04db7bdfe30cc1c42b34e": {
     "model_module": "@jupyter-widgets/base",
     "model_module_version": "1.2.0",
     "model_name": "LayoutModel",
     "state": {
      "_model_module": "@jupyter-widgets/base",
      "_model_module_version": "1.2.0",
      "_model_name": "LayoutModel",
      "_view_count": null,
      "_view_module": "@jupyter-widgets/base",
      "_view_module_version": "1.2.0",
      "_view_name": "LayoutView",
      "align_content": null,
      "align_items": null,
      "align_self": null,
      "border": null,
      "bottom": null,
      "display": null,
      "flex": null,
      "flex_flow": null,
      "grid_area": null,
      "grid_auto_columns": null,
      "grid_auto_flow": null,
      "grid_auto_rows": null,
      "grid_column": null,
      "grid_gap": null,
      "grid_row": null,
      "grid_template_areas": null,
      "grid_template_columns": null,
      "grid_template_rows": null,
      "height": null,
      "justify_content": null,
      "justify_items": null,
      "left": null,
      "margin": null,
      "max_height": null,
      "max_width": null,
      "min_height": null,
      "min_width": null,
      "object_fit": null,
      "object_position": null,
      "order": null,
      "overflow": null,
      "overflow_x": null,
      "overflow_y": null,
      "padding": null,
      "right": null,
      "top": null,
      "visibility": null,
      "width": null
     }
    },
    "e7bbf67f178d49d58294dab7571240e1": {
     "model_module": "@jupyter-widgets/controls",
     "model_module_version": "1.5.0",
     "model_name": "HBoxModel",
     "state": {
      "_dom_classes": [],
      "_model_module": "@jupyter-widgets/controls",
      "_model_module_version": "1.5.0",
      "_model_name": "HBoxModel",
      "_view_count": null,
      "_view_module": "@jupyter-widgets/controls",
      "_view_module_version": "1.5.0",
      "_view_name": "HBoxView",
      "box_style": "",
      "children": [
       "IPY_MODEL_cbdbdf62994c4f2f80ea5f6d35ccf597",
       "IPY_MODEL_9b65ee485c0441f88452930d6a32c6e1",
       "IPY_MODEL_d0c0ed98e57a4e8aadea136dca7ae548"
      ],
      "layout": "IPY_MODEL_a5ff16e16a0c4b87ad987b8abcf5104f"
     }
    },
    "e83ac59f6060412e978ec350f5bc01c1": {
     "model_module": "@jupyter-widgets/base",
     "model_module_version": "1.2.0",
     "model_name": "LayoutModel",
     "state": {
      "_model_module": "@jupyter-widgets/base",
      "_model_module_version": "1.2.0",
      "_model_name": "LayoutModel",
      "_view_count": null,
      "_view_module": "@jupyter-widgets/base",
      "_view_module_version": "1.2.0",
      "_view_name": "LayoutView",
      "align_content": null,
      "align_items": null,
      "align_self": null,
      "border": null,
      "bottom": null,
      "display": null,
      "flex": null,
      "flex_flow": null,
      "grid_area": null,
      "grid_auto_columns": null,
      "grid_auto_flow": null,
      "grid_auto_rows": null,
      "grid_column": null,
      "grid_gap": null,
      "grid_row": null,
      "grid_template_areas": null,
      "grid_template_columns": null,
      "grid_template_rows": null,
      "height": null,
      "justify_content": null,
      "justify_items": null,
      "left": null,
      "margin": null,
      "max_height": null,
      "max_width": null,
      "min_height": null,
      "min_width": null,
      "object_fit": null,
      "object_position": null,
      "order": null,
      "overflow": null,
      "overflow_x": null,
      "overflow_y": null,
      "padding": null,
      "right": null,
      "top": null,
      "visibility": null,
      "width": null
     }
    },
    "ea847dc3582e40b9bcd86030efa13195": {
     "model_module": "@jupyter-widgets/controls",
     "model_module_version": "1.5.0",
     "model_name": "HBoxModel",
     "state": {
      "_dom_classes": [],
      "_model_module": "@jupyter-widgets/controls",
      "_model_module_version": "1.5.0",
      "_model_name": "HBoxModel",
      "_view_count": null,
      "_view_module": "@jupyter-widgets/controls",
      "_view_module_version": "1.5.0",
      "_view_name": "HBoxView",
      "box_style": "",
      "children": [
       "IPY_MODEL_d30fdf566d634adc98d0c0f9b6f698f3",
       "IPY_MODEL_3e36575f005649b5a612e8b461e16372",
       "IPY_MODEL_615bfc36f70944edb278d6baba6401b0"
      ],
      "layout": "IPY_MODEL_cc96a6dd218e43ef82c6dbe9b7d30229"
     }
    },
    "eb80e9e5a8294865a0b1200f5f4fd596": {
     "model_module": "@jupyter-widgets/controls",
     "model_module_version": "1.5.0",
     "model_name": "DescriptionStyleModel",
     "state": {
      "_model_module": "@jupyter-widgets/controls",
      "_model_module_version": "1.5.0",
      "_model_name": "DescriptionStyleModel",
      "_view_count": null,
      "_view_module": "@jupyter-widgets/base",
      "_view_module_version": "1.2.0",
      "_view_name": "StyleView",
      "description_width": ""
     }
    },
    "ef63edc928f74edc870cd5f389761b61": {
     "model_module": "@jupyter-widgets/controls",
     "model_module_version": "1.5.0",
     "model_name": "HTMLModel",
     "state": {
      "_dom_classes": [],
      "_model_module": "@jupyter-widgets/controls",
      "_model_module_version": "1.5.0",
      "_model_name": "HTMLModel",
      "_view_count": null,
      "_view_module": "@jupyter-widgets/controls",
      "_view_module_version": "1.5.0",
      "_view_name": "HTMLView",
      "description": "",
      "description_tooltip": null,
      "layout": "IPY_MODEL_472b9a40c01c463b9c833667002c92fb",
      "placeholder": "​",
      "style": "IPY_MODEL_8bf09d51ce8b4cf6a06af9b8cf2d9dc9",
      "value": " 500k/500k [00:00&lt;00:00, 1.13MB/s]"
     }
    },
    "f2456993dd1f4b1a892624d3933a0ab4": {
     "model_module": "@jupyter-widgets/base",
     "model_module_version": "1.2.0",
     "model_name": "LayoutModel",
     "state": {
      "_model_module": "@jupyter-widgets/base",
      "_model_module_version": "1.2.0",
      "_model_name": "LayoutModel",
      "_view_count": null,
      "_view_module": "@jupyter-widgets/base",
      "_view_module_version": "1.2.0",
      "_view_name": "LayoutView",
      "align_content": null,
      "align_items": null,
      "align_self": null,
      "border": null,
      "bottom": null,
      "display": null,
      "flex": null,
      "flex_flow": null,
      "grid_area": null,
      "grid_auto_columns": null,
      "grid_auto_flow": null,
      "grid_auto_rows": null,
      "grid_column": null,
      "grid_gap": null,
      "grid_row": null,
      "grid_template_areas": null,
      "grid_template_columns": null,
      "grid_template_rows": null,
      "height": null,
      "justify_content": null,
      "justify_items": null,
      "left": null,
      "margin": null,
      "max_height": null,
      "max_width": null,
      "min_height": null,
      "min_width": null,
      "object_fit": null,
      "object_position": null,
      "order": null,
      "overflow": null,
      "overflow_x": null,
      "overflow_y": null,
      "padding": null,
      "right": null,
      "top": null,
      "visibility": null,
      "width": null
     }
    },
    "f265fb7540c446dea896e02a60e21115": {
     "model_module": "@jupyter-widgets/controls",
     "model_module_version": "1.5.0",
     "model_name": "FloatProgressModel",
     "state": {
      "_dom_classes": [],
      "_model_module": "@jupyter-widgets/controls",
      "_model_module_version": "1.5.0",
      "_model_name": "FloatProgressModel",
      "_view_count": null,
      "_view_module": "@jupyter-widgets/controls",
      "_view_module_version": "1.5.0",
      "_view_name": "ProgressView",
      "bar_style": "success",
      "description": "",
      "description_tooltip": null,
      "layout": "IPY_MODEL_ff8e0fb151284a8f87cc3f66ace16327",
      "max": 2507,
      "min": 0,
      "orientation": "horizontal",
      "style": "IPY_MODEL_aae646a047e54aa09ce414bd67e20b56",
      "value": 2507
     }
    },
    "f3d143cc6ed0493581c5a1d778bc9eda": {
     "model_module": "@jupyter-widgets/base",
     "model_module_version": "1.2.0",
     "model_name": "LayoutModel",
     "state": {
      "_model_module": "@jupyter-widgets/base",
      "_model_module_version": "1.2.0",
      "_model_name": "LayoutModel",
      "_view_count": null,
      "_view_module": "@jupyter-widgets/base",
      "_view_module_version": "1.2.0",
      "_view_name": "LayoutView",
      "align_content": null,
      "align_items": null,
      "align_self": null,
      "border": null,
      "bottom": null,
      "display": null,
      "flex": null,
      "flex_flow": null,
      "grid_area": null,
      "grid_auto_columns": null,
      "grid_auto_flow": null,
      "grid_auto_rows": null,
      "grid_column": null,
      "grid_gap": null,
      "grid_row": null,
      "grid_template_areas": null,
      "grid_template_columns": null,
      "grid_template_rows": null,
      "height": null,
      "justify_content": null,
      "justify_items": null,
      "left": null,
      "margin": null,
      "max_height": null,
      "max_width": null,
      "min_height": null,
      "min_width": null,
      "object_fit": null,
      "object_position": null,
      "order": null,
      "overflow": null,
      "overflow_x": null,
      "overflow_y": null,
      "padding": null,
      "right": null,
      "top": null,
      "visibility": null,
      "width": null
     }
    },
    "f63379705c5d4132aa693f34fef7a3c5": {
     "model_module": "@jupyter-widgets/controls",
     "model_module_version": "1.5.0",
     "model_name": "HBoxModel",
     "state": {
      "_dom_classes": [],
      "_model_module": "@jupyter-widgets/controls",
      "_model_module_version": "1.5.0",
      "_model_name": "HBoxModel",
      "_view_count": null,
      "_view_module": "@jupyter-widgets/controls",
      "_view_module_version": "1.5.0",
      "_view_name": "HBoxView",
      "box_style": "",
      "children": [
       "IPY_MODEL_4f111e7eb7624ef290947e5e20037ea8",
       "IPY_MODEL_34210d42157049a88c5935e03c8eb36a",
       "IPY_MODEL_41145271c64e4761ab25e32ce970f199"
      ],
      "layout": "IPY_MODEL_e786e99ee4b04db7bdfe30cc1c42b34e"
     }
    },
    "f7593aa3d86b4855a8016ce8a20a02fd": {
     "model_module": "@jupyter-widgets/controls",
     "model_module_version": "1.5.0",
     "model_name": "HBoxModel",
     "state": {
      "_dom_classes": [],
      "_model_module": "@jupyter-widgets/controls",
      "_model_module_version": "1.5.0",
      "_model_name": "HBoxModel",
      "_view_count": null,
      "_view_module": "@jupyter-widgets/controls",
      "_view_module_version": "1.5.0",
      "_view_name": "HBoxView",
      "box_style": "",
      "children": [
       "IPY_MODEL_816082ff16de4092a5da888f3408c72e",
       "IPY_MODEL_71a181a4ec854518b9a4ecc3c577d6c1",
       "IPY_MODEL_06e381b8f78f4777a8eccfa107e9e717"
      ],
      "layout": "IPY_MODEL_d47dd6b148e740bfa33ecc1ff8f2e9b3"
     }
    },
    "f81721f1cb4f4667abbb2336a58a1797": {
     "model_module": "@jupyter-widgets/controls",
     "model_module_version": "1.5.0",
     "model_name": "ProgressStyleModel",
     "state": {
      "_model_module": "@jupyter-widgets/controls",
      "_model_module_version": "1.5.0",
      "_model_name": "ProgressStyleModel",
      "_view_count": null,
      "_view_module": "@jupyter-widgets/base",
      "_view_module_version": "1.2.0",
      "_view_name": "StyleView",
      "bar_color": null,
      "description_width": ""
     }
    },
    "fcef62fda205433f903107031cb15d2d": {
     "model_module": "@jupyter-widgets/controls",
     "model_module_version": "1.5.0",
     "model_name": "HTMLModel",
     "state": {
      "_dom_classes": [],
      "_model_module": "@jupyter-widgets/controls",
      "_model_module_version": "1.5.0",
      "_model_name": "HTMLModel",
      "_view_count": null,
      "_view_module": "@jupyter-widgets/controls",
      "_view_module_version": "1.5.0",
      "_view_name": "HTMLView",
      "description": "",
      "description_tooltip": null,
      "layout": "IPY_MODEL_fd95b36a842249f1aecb1f7c73eb7191",
      "placeholder": "​",
      "style": "IPY_MODEL_039f0ef880a34c349db3f4c17bdf2b35",
      "value": "Generating train split: 100%"
     }
    },
    "fd95b36a842249f1aecb1f7c73eb7191": {
     "model_module": "@jupyter-widgets/base",
     "model_module_version": "1.2.0",
     "model_name": "LayoutModel",
     "state": {
      "_model_module": "@jupyter-widgets/base",
      "_model_module_version": "1.2.0",
      "_model_name": "LayoutModel",
      "_view_count": null,
      "_view_module": "@jupyter-widgets/base",
      "_view_module_version": "1.2.0",
      "_view_name": "LayoutView",
      "align_content": null,
      "align_items": null,
      "align_self": null,
      "border": null,
      "bottom": null,
      "display": null,
      "flex": null,
      "flex_flow": null,
      "grid_area": null,
      "grid_auto_columns": null,
      "grid_auto_flow": null,
      "grid_auto_rows": null,
      "grid_column": null,
      "grid_gap": null,
      "grid_row": null,
      "grid_template_areas": null,
      "grid_template_columns": null,
      "grid_template_rows": null,
      "height": null,
      "justify_content": null,
      "justify_items": null,
      "left": null,
      "margin": null,
      "max_height": null,
      "max_width": null,
      "min_height": null,
      "min_width": null,
      "object_fit": null,
      "object_position": null,
      "order": null,
      "overflow": null,
      "overflow_x": null,
      "overflow_y": null,
      "padding": null,
      "right": null,
      "top": null,
      "visibility": null,
      "width": null
     }
    },
    "ff8e0fb151284a8f87cc3f66ace16327": {
     "model_module": "@jupyter-widgets/base",
     "model_module_version": "1.2.0",
     "model_name": "LayoutModel",
     "state": {
      "_model_module": "@jupyter-widgets/base",
      "_model_module_version": "1.2.0",
      "_model_name": "LayoutModel",
      "_view_count": null,
      "_view_module": "@jupyter-widgets/base",
      "_view_module_version": "1.2.0",
      "_view_name": "LayoutView",
      "align_content": null,
      "align_items": null,
      "align_self": null,
      "border": null,
      "bottom": null,
      "display": null,
      "flex": null,
      "flex_flow": null,
      "grid_area": null,
      "grid_auto_columns": null,
      "grid_auto_flow": null,
      "grid_auto_rows": null,
      "grid_column": null,
      "grid_gap": null,
      "grid_row": null,
      "grid_template_areas": null,
      "grid_template_columns": null,
      "grid_template_rows": null,
      "height": null,
      "justify_content": null,
      "justify_items": null,
      "left": null,
      "margin": null,
      "max_height": null,
      "max_width": null,
      "min_height": null,
      "min_width": null,
      "object_fit": null,
      "object_position": null,
      "order": null,
      "overflow": null,
      "overflow_x": null,
      "overflow_y": null,
      "padding": null,
      "right": null,
      "top": null,
      "visibility": null,
      "width": null
     }
    }
   }
  }
 },
 "nbformat": 4,
 "nbformat_minor": 4
}
